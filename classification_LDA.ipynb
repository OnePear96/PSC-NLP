{
 "cells": [
  {
   "cell_type": "markdown",
   "metadata": {},
   "source": [
    "# Lemmatization et Tokenization"
   ]
  },
  {
   "cell_type": "code",
   "execution_count": 50,
   "metadata": {},
   "outputs": [],
   "source": [
    "import json\n",
    "import re\n",
    "import numpy as np\n",
    "from pprint import pprint\n",
    "import pandas as pd\n",
    "import requests\n",
    "import nltk.data\n",
    "import matplotlib.pyplot as plt\n",
    "from french_lefff_lemmatizer.french_lefff_lemmatizer import FrenchLefffLemmatizer"
   ]
  },
  {
   "cell_type": "code",
   "execution_count": 2,
   "metadata": {},
   "outputs": [],
   "source": [
    "class JSONObject:\n",
    "     def __init__(self, d):\n",
    "         self.__dict__ = d"
   ]
  },
  {
   "cell_type": "code",
   "execution_count": 3,
   "metadata": {},
   "outputs": [],
   "source": [
    "with open(\"articles_Accuracy.json\", \"r\") as read_file:\n",
    "    data = read_file.read()\n",
    "    obj = json.loads(data,object_hook=JSONObject)"
   ]
  },
  {
   "cell_type": "code",
   "execution_count": 4,
   "metadata": {},
   "outputs": [
    {
     "data": {
      "text/plain": [
       "11791"
      ]
     },
     "execution_count": 4,
     "metadata": {},
     "output_type": "execute_result"
    }
   ],
   "source": [
    "len(obj)"
   ]
  },
  {
   "cell_type": "code",
   "execution_count": 5,
   "metadata": {},
   "outputs": [
    {
     "name": "stdout",
     "output_type": "stream",
     "text": [
      "{'title_fr': 'Chéraute Loto des AEL Le loto des Amis de l’Ecole Laïque aura lieu le vendredi...', 'body_en': '', 'body': '', 'date_of_publication': '16 November 2017', 'title_en': '', 'source': 'La République des Pyrénées', 'body_fr': 'Chéraute Loto des AEL Le loto des Amis de l’Ecole Laïque aura lieu le vendredi 17 novembre, à 21 h, à la salle polyvalente de Chéraute. Neuf parties classiques, partie pour les enfants avec une tablette à gagner, loto souletin et deux parties spéciales Nombreux lots : filets garnis et bons d’achats dont un gros lot de 800 €. Ouverture des portes à 20 h. Salle chauffée. Buvette et boissons chaudes. Mauléon Présentation de livre Kepa Etxandi et Michel Duvert ont publié un livre/photos sur les linteaux de portes au Pays Basque. Ils le présenteront le samedi 2 décembre, à 10h, à Xibero Bio à Mauléon. Ce livre est un plaidoyer pour la conservation et la mise en valeur de ces pierres sculptées. Les maisons souletines en possèdent beaucoup mais elles sont malheureusement invisibles aujourd’hui. Pitzgarri L’assemblée générale de l’association aura lieu le vendredi 24 novembre, à 18h30, à la salle paroissiale de Mauléon. Ordre du jour : bilan moral et rapport d’activités, bilan financier. Pendant la réunion, les animateurs bénévoles de l’association proposeront aux enfants des jeux au foyer. A partir de 19h30, les participants seront conviés à un petit apéritif avec de quoi se restaurer. A partir de 20h, les jeunes et les enfants qui ont participé aux camps de l’été témoigneront sur ce qu’ils ont vécu à travers des photos et des vidéos préparées lors des journées retrouvailles pendant ces vacances. Tous les membres de l’association ainsi que toutes les personnes intéressées sont cordialement invités. Permanences juridiques Les prochaines permanences juridiques se dérouleront à la pépinière d’entreprises de la Zone Argouague à Libarrenx, de 9 h à 12 h, les lundis 13 novembre et 11 décembre. Ces permanences sont assurées par un expert-comptable, avocat ou notaire et sont destinées aux professionnels et aux porteurs de projet. Elles sont organisées sur rendez-vous en téléphonant au 05 59 28 12 49 ou 05 59 19 12 10 en indiquant le motif de la demande. Maule Baitha Jeudi 16 novembre, 21 h « Carbone ». Vendredi 17, 15 h « The secret man Mark felt » (VO, 21h « Non ».', 'relevancy': False, 'title': '', 'language': 'French', 'number_of_words': 372}\n"
     ]
    }
   ],
   "source": [
    "print(obj[1].__dict__)"
   ]
  },
  {
   "cell_type": "code",
   "execution_count": 6,
   "metadata": {},
   "outputs": [],
   "source": [
    "## stopword dictionary\n",
    "from nltk.corpus import stopwords\n",
    "stopworddic = set(stopwords.words('french'))\n",
    "article=['a','au','aux','un','une','le','la','les','de','du','des','ce','cet','cette','ces','son','sa','ses','leur','leurs','mon','ma','mes','ton','ta','tes','notre','notres','votre','votres']\n",
    "pronom=['où','dont','ça','je','tu','il','elle','nous','vous','ils','elles','on','y','en','se','que','qui','quoi','comment','quand','pourquoi']\n",
    "coordination=['mais','ou','et','donc','or','ni','car','ne']\n",
    "v=['avoir','aller','être','faire']\n",
    "prop=['selon','outre','après','dans','sur','dessus','sous','chez','hors','à','dehors','devant','derrière','avant','arrière','par','entre','parmi','avec','ici','là','bas','pour','pendant','depuis','voilà','dès','aussitôt']\n",
    "adv=['pas','rien','personne','plus','aucun','jamais','nul','aussi','déjà']\n",
    "conj=['comme','si','lorsque','tel']\n",
    "stopworddic.update(set(article),set(pronom),set(coordination),set(v),set(prop),set(adv),set(conj))"
   ]
  },
  {
   "cell_type": "code",
   "execution_count": 7,
   "metadata": {},
   "outputs": [],
   "source": [
    "## lemmatization\n",
    "lemmatizer = FrenchLefffLemmatizer()\n",
    "def lemma(word):\n",
    "    a=lemmatizer.lemmatize(word,'all')\n",
    "    b=[x[1] for x in a]\n",
    "    if 'nc' in b:\n",
    "        return lemmatizer.lemmatize(word,'n')\n",
    "    if 'v' in b:\n",
    "        return lemmatizer.lemmatize(word,'v')\n",
    "    return lemmatizer.lemmatize(word)"
   ]
  },
  {
   "cell_type": "code",
   "execution_count": 8,
   "metadata": {},
   "outputs": [],
   "source": [
    "## tokenization\n",
    "def tokenize(article):\n",
    "    rawtokens=nltk.word_tokenize(article)\n",
    "    metokens = [w.lower() for w in rawtokens if re.search('[a-zA-ZàâäèéêëîïôœùûüÿçÀÂÄÈÉÊËÎÏÔŒÙÛÜŸÇ]+',w)]\n",
    "    latokens=[]\n",
    "    for str in metokens:\n",
    "        if(re.search(r'\\w+\\'',str)):\n",
    "            str=re.sub(r'\\w+\\'', '', str) \n",
    "        latokens.append(str)\n",
    "    pre_tokens = [w for w in latokens if w not in stopworddic]\n",
    "    return [lemma(w) for w in pre_tokens if lemma(w) not in stopworddic]"
   ]
  },
  {
   "cell_type": "markdown",
   "metadata": {},
   "source": [
    "# Classification"
   ]
  },
  {
   "cell_type": "code",
   "execution_count": 13,
   "metadata": {},
   "outputs": [],
   "source": [
    "def is_french(obj):\n",
    "    return (obj.body_en == ''and not obj.body_fr == '')"
   ]
  },
  {
   "cell_type": "code",
   "execution_count": 10,
   "metadata": {},
   "outputs": [],
   "source": [
    "token_text=[tokenize(w.body_fr) for w in obj if is_french(w)]"
   ]
  },
  {
   "cell_type": "code",
   "execution_count": 11,
   "metadata": {},
   "outputs": [
    {
     "data": {
      "text/plain": [
       "7844"
      ]
     },
     "execution_count": 11,
     "metadata": {},
     "output_type": "execute_result"
    }
   ],
   "source": [
    "len(token_text)"
   ]
  },
  {
   "cell_type": "code",
   "execution_count": 14,
   "metadata": {},
   "outputs": [],
   "source": [
    "from gensim import corpora, models\n",
    "import gensim"
   ]
  },
  {
   "cell_type": "code",
   "execution_count": 15,
   "metadata": {},
   "outputs": [],
   "source": [
    "dictionary = corpora.Dictionary(token_text)\n",
    "corpus = [dictionary.doc2bow(text) for text in token_text]\n",
    "tfidf = models.TfidfModel(corpus)\n",
    "corpus_tfidf = tfidf[corpus]"
   ]
  },
  {
   "cell_type": "code",
   "execution_count": 55,
   "metadata": {},
   "outputs": [],
   "source": [
    "dictionary.save('dictionary.dict')\n",
    "corpora.MmCorpus.serialize('corpus.mm', corpus_tfidf)"
   ]
  },
  {
   "cell_type": "code",
   "execution_count": 16,
   "metadata": {},
   "outputs": [],
   "source": [
    "lda = models.ldamodel.LdaModel(corpus_tfidf, id2word = dictionary, num_topics = 20,passes=20)"
   ]
  },
  {
   "cell_type": "code",
   "execution_count": 18,
   "metadata": {},
   "outputs": [],
   "source": [
    "lda.save('lda.model')"
   ]
  },
  {
   "cell_type": "code",
   "execution_count": 17,
   "metadata": {},
   "outputs": [
    {
     "name": "stdout",
     "output_type": "stream",
     "text": [
      "LDA Model:\n",
      "Topic #0: 0.001*\"1kubator\" + 0.001*\"sigfox\" + 0.001*\"perche\" + 0.001*\"jérôme\" + 0.001*\"raouti\" + 0.001*\"chehih\" + 0.001*\"baloge\" + 0.000*\"cce\" + 0.000*\"sicoval\" + 0.000*\"abeille\"\n",
      "Topic #1: 0.004*\"médiation\" + 0.003*\"victime\" + 0.003*\"17h\" + 0.003*\"indre\" + 0.003*\"12h\" + 0.002*\"adavim\" + 0.002*\"prince\" + 0.002*\"adavimawanadoo.fr\" + 0.002*\"nécrologiques\" + 0.002*\"droit\"\n",
      "Topic #2: 0.002*\"ecole\" + 0.002*\"icade\" + 0.001*\"responsable\" + 0.001*\"design\" + 0.001*\"graduate\" + 0.001*\"cs\" + 0.001*\"ensci\" + 0.001*\"desmoulins\" + 0.001*\"incubator\" + 0.001*\"iae\"\n",
      "Topic #3: 0.002*\"sap\" + 0.001*\"drone\" + 0.001*\"cmn\" + 0.001*\"modiface\" + 0.001*\"meuse\" + 0.001*\"sésame\" + 0.001*\"voler\" + 0.001*\"grand-ducal\" + 0.001*\"maquillage\" + 0.000*\"smd\"\n",
      "Topic #4: 0.001*\"5g\" + 0.001*\"upvd\" + 0.000*\"real\" + 0.000*\"sapin\" + 0.000*\"lorente\" + 0.000*\"adp\" + 0.000*\"isf\" + 0.000*\"estate\" + 0.000*\"taxation\" + 0.000*\"perpignan\"\n",
      "Topic #5: 0.001*\"leroy\" + 0.001*\"merlin\" + 0.001*\"russie\" + 0.001*\"technowest\" + 0.001*\"tapisserie\" + 0.001*\"automobili\" + 0.001*\"rimac\" + 0.001*\"techshop\" + 0.000*\"onf\" + 0.000*\"bliiida\"\n",
      "Topic #6: 0.002*\"bourges\" + 0.002*\"mauléon\" + 0.001*\"solen\" + 0.001*\"spatial\" + 0.001*\"spatiales\" + 0.001*\"cnes\" + 0.001*\"nacre\" + 0.001*\"joigny\" + 0.001*\"argouague\" + 0.001*\"spatiale\"\n",
      "Topic #7: 0.001*\"marocain\" + 0.001*\"pau\" + 0.001*\"hélioparc\" + 0.001*\"inria\" + 0.001*\"hérault\" + 0.001*\"moroccan\" + 0.001*\"touch\" + 0.001*\"rimbaud\" + 0.001*\"startupers\" + 0.001*\"isère\"\n",
      "Topic #8: 0.001*\"forbach\" + 0.001*\"québec\" + 0.001*\"vanne\" + 0.001*\"monacotech\" + 0.001*\"eurodev\" + 0.001*\"auray\" + 0.001*\"monégasque\" + 0.001*\"n26\" + 0.001*\"perpignan\" + 0.001*\"ivoire\"\n",
      "Topic #9: 0.001*\"beauté\" + 0.001*\"agon\" + 0.001*\"continental\" + 0.001*\"jean-paul\" + 0.000*\"pepsico\" + 0.000*\"algérie\" + 0.000*\"poool\" + 0.000*\"yourself\" + 0.000*\"rochet\" + 0.000*\"masschallenge\"\n",
      "Topic #10: 0.001*\"gard\" + 0.000*\"smiile\" + 0.000*\"kervevan\" + 0.000*\"oui.sncf\" + 0.000*\"charbonnier\" + 0.000*\"tiller\" + 0.000*\"that\" + 0.000*\"besnard\" + 0.000*\"scierie\" + 0.000*\"this\"\n",
      "Topic #11: 0.001*\"limoger\" + 0.001*\"hyperloop\" + 0.001*\"thales\" + 0.001*\"philips\" + 0.000*\"inde\" + 0.000*\"vivoka\" + 0.000*\"francophonie\" + 0.000*\"delvalle\" + 0.000*\"12ème\" + 0.000*\"pol\"\n",
      "Topic #12: 0.002*\"nouvelle-aquitaine\" + 0.001*\"molengeek\" + 0.001*\"leonard\" + 0.001*\"bordelais\" + 0.001*\"salmane\" + 0.001*\"medef\" + 0.001*\"chaire\" + 0.001*\"molenbeek\" + 0.001*\"ibrahim\" + 0.001*\"btp\"\n",
      "Topic #13: 0.001*\"kreuzberg\" + 0.001*\"fainéant\" + 0.001*\"ammar\" + 0.001*\"po\" + 0.001*\"afp\" + 0.001*\"oussama\" + 0.001*\"phrase\" + 0.001*\"châteaudun\" + 0.000*\"niortais\" + 0.000*\"militant\"\n",
      "Topic #14: 0.001*\"newsletter\" + 0.001*\"ibmediationaorange.fr\" + 0.001*\"nice-matin\" + 0.001*\"var-matin\" + 0.001*\"12het\" + 0.001*\"lvmh\" + 0.001*\"capi\" + 0.001*\"8h30\" + 0.001*\"saint-malo\" + 0.001*\"saint-gobain\"\n",
      "Topic #15: 0.001*\"lafargeholcim\" + 0.001*\"nexity\" + 0.001*\"fongit\" + 0.001*\"noron\" + 0.000*\"futur.e.s\" + 0.000*\"ionis\" + 0.000*\"fabernovel\" + 0.000*\"autonomy\" + 0.000*\"adecco\" + 0.000*\"distinguin\"\n",
      "Topic #16: 0.002*\"swave\" + 0.001*\"merabet\" + 0.001*\"travel\" + 0.001*\"lilla\" + 0.001*\"rottner\" + 0.001*\"quéré\" + 0.001*\"mêlée\" + 0.001*\"grand-duc\" + 0.001*\"grande-duchesse\" + 0.001*\"enchaîné\"\n",
      "Topic #17: 0.002*\"start-up\" + 0.002*\"projet\" + 0.002*\"entreprise\" + 0.002*\"innovation\" + 0.002*\"heure\" + 0.002*\"france\" + 0.001*\"pari\" + 0.001*\"euro\" + 0.001*\"numérique\" + 0.001*\"pouvoir\"\n",
      "Topic #18: 0.002*\"3d\" + 0.002*\"maladie\" + 0.002*\"professeur\" + 0.002*\"impression\" + 0.002*\"bien-être\" + 0.001*\"vaste\" + 0.001*\"collège\" + 0.001*\"récompenser\" + 0.001*\"syndicat\" + 0.001*\"code\"\n",
      "Topic #19: 0.001*\"quimperlé\" + 0.001*\"mellac\" + 0.001*\"kervidanou\" + 0.001*\"estuaire\" + 0.001*\"tl\" + 0.001*\"frenchweb\" + 0.000*\"épauler\" + 0.000*\"intervalle\" + 0.000*\"vallespir\" + 0.000*\"pricemoov\"\n",
      "====================\n"
     ]
    }
   ],
   "source": [
    "print(\"LDA Model:\")\n",
    " \n",
    "for idx in range(20):\n",
    "    # Print the first 20 most representative topics\n",
    "    print(\"Topic #%s:\" % idx, lda.print_topic(idx, 10))\n",
    " \n",
    "print(\"=\" * 20)"
   ]
  },
  {
   "cell_type": "code",
   "execution_count": 20,
   "metadata": {},
   "outputs": [],
   "source": [
    "from gensim.models import LdaModel\n",
    "loading = LdaModel.load('lda.model')"
   ]
  },
  {
   "cell_type": "code",
   "execution_count": 21,
   "metadata": {},
   "outputs": [],
   "source": [
    "thetas=[loading[c] for c in corpus_tfidf]"
   ]
  },
  {
   "cell_type": "code",
   "execution_count": 22,
   "metadata": {},
   "outputs": [
    {
     "data": {
      "image/png": "[encoded data removed]",
      "text/plain": [
       "<Figure size 432x288 with 1 Axes>"
      ]
     },
     "metadata": {},
     "output_type": "display_data"
    }
   ],
   "source": [
    "plt.hist([len(t) for t in thetas], np.arange(22))\n",
    "plt.ylabel('Nr of documents')\n",
    "plt.xlabel('Nr of topics')\n",
    "plt.show()"
   ]
  },
  {
   "cell_type": "code",
   "execution_count": 27,
   "metadata": {},
   "outputs": [],
   "source": [
    "def pre_new(doc):\n",
    "    split = tokenize(doc)\n",
    "    return dictionary.doc2bow(split)"
   ]
  },
  {
   "cell_type": "code",
   "execution_count": 49,
   "metadata": {},
   "outputs": [
    {
     "data": {
      "text/html": [
       "<div>\n",
       "<style scoped>\n",
       "    .dataframe tbody tr th:only-of-type {\n",
       "        vertical-align: middle;\n",
       "    }\n",
       "\n",
       "    .dataframe tbody tr th {\n",
       "        vertical-align: top;\n",
       "    }\n",
       "\n",
       "    .dataframe thead th {\n",
       "        text-align: right;\n",
       "    }\n",
       "</style>\n",
       "<table border=\"1\" class=\"dataframe\">\n",
       "  <thead>\n",
       "    <tr style=\"text-align: right;\">\n",
       "      <th></th>\n",
       "      <th>id</th>\n",
       "      <th>prob</th>\n",
       "      <th>topic</th>\n",
       "    </tr>\n",
       "  </thead>\n",
       "  <tbody>\n",
       "    <tr>\n",
       "      <th>0</th>\n",
       "      <td>17</td>\n",
       "      <td>0.891933</td>\n",
       "      <td>0.002*\"start-up\" + 0.002*\"projet\" + 0.002*\"ent...</td>\n",
       "    </tr>\n",
       "    <tr>\n",
       "      <th>1</th>\n",
       "      <td>18</td>\n",
       "      <td>0.058034</td>\n",
       "      <td>0.002*\"3d\" + 0.002*\"maladie\" + 0.002*\"professe...</td>\n",
       "    </tr>\n",
       "  </tbody>\n",
       "</table>\n",
       "</div>"
      ],
      "text/plain": [
       "   id      prob                                              topic\n",
       "0  17  0.891933  0.002*\"start-up\" + 0.002*\"projet\" + 0.002*\"ent...\n",
       "1  18  0.058034  0.002*\"3d\" + 0.002*\"maladie\" + 0.002*\"professe..."
      ]
     },
     "execution_count": 49,
     "metadata": {},
     "output_type": "execute_result"
    }
   ],
   "source": [
    "new = pd.DataFrame(loading[pre_new(obj[3005].body_fr)],columns=['id','prob']).sort_values('prob',ascending=False)\n",
    "new['topic'] = new['id'].apply(loading.print_topic)\n",
    "new"
   ]
  },
  {
   "cell_type": "code",
   "execution_count": 53,
   "metadata": {},
   "outputs": [],
   "source": [
    "import pyLDAvis.gensim\n",
    "pyLDAvis.enable_notebook()"
   ]
  },
  {
   "cell_type": "code",
   "execution_count": 56,
   "metadata": {},
   "outputs": [],
   "source": [
    "d = gensim.corpora.Dictionary.load('dictionary.dict')\n",
    "c = gensim.corpora.MmCorpus('corpus.mm')"
   ]
  },
  {
   "cell_type": "code",
   "execution_count": 57,
   "metadata": {},
   "outputs": [
    {
     "name": "stderr",
     "output_type": "stream",
     "text": [
      "C:\\Users\\ZTY\\Anaconda3\\lib\\site-packages\\pyLDAvis\\_prepare.py:257: FutureWarning: Sorting because non-concatenation axis is not aligned. A future version\n",
      "of pandas will change to not sort by default.\n",
      "\n",
      "To accept the future behavior, pass 'sort=True'.\n",
      "\n",
      "To retain the current behavior and silence the warning, pass sort=False\n",
      "\n",
      "  return pd.concat([default_term_info] + list(topic_dfs))\n"
     ]
    },
    {
     "data": {
      "text/html": [
       "\n",
       "<link rel=\"stylesheet\" type=\"text/css\" href=\"https://cdn.rawgit.com/bmabey/pyLDAvis/files/ldavis.v1.0.0.css\">\n",
       "\n",
       "\n",
       "<div id=\"ldavis_el670810696928726423898096\"></div>\n",
       "<script type=\"text/javascript\">\n",
       "\n",
       "var ldavis_el670810696928726423898096_data = {\"mdsDat\": {\"x\": [-0.4274832533930088, 0.048587166061467534, 0.017861112082037806, 0.025661108944266865, 0.024677208144845007, 0.02404208361509578, 0.023087109493583176, 0.011770463753605652, 0.02040635009326225, 0.022166318471767962, 0.02186803407352961, 0.02180185329999854, 0.021995302284480222, 0.021048589397041236, 0.020770680758939238, 0.020906979150183944, 0.019888904412304804, 0.020544292526352263, 0.020290837125812523, 0.0201088597044347], \"y\": [0.007142990932567926, 0.11663344716886681, -0.02250408869934509, -0.012789693572940738, -0.011395749157714527, -0.009552456348075377, -0.008464549394049115, -0.007870289994849879, -0.006143879351334894, -0.0063092238894238255, -0.0058151303844305195, -0.0049878560063213164, -0.005728875860162959, -0.004134731204730942, -0.003619077381216655, -0.003940113739679592, -0.003217755400861854, -0.0028681121031614086, -0.0026172681185064684, -0.0018175874946305146], \"topics\": [1, 2, 3, 4, 5, 6, 7, 8, 9, 10, 11, 12, 13, 14, 15, 16, 17, 18, 19, 20], \"cluster\": [1, 1, 1, 1, 1, 1, 1, 1, 1, 1, 1, 1, 1, 1, 1, 1, 1, 1, 1, 1], \"Freq\": [79.28363800048828, 4.687829494476318, 1.368030071258545, 1.1762003898620605, 1.099492073059082, 1.0319801568984985, 0.9565586447715759, 0.9426836967468262, 0.8584988117218018, 0.8520053625106812, 0.847042977809906, 0.8360899090766907, 0.8321607708930969, 0.7991623282432556, 0.7658255100250244, 0.761003315448761, 0.7399076819419861, 0.738804817199707, 0.723135232925415, 0.6999524831771851]}, \"tinfo\": {\"Category\": [\"Default\", \"Default\", \"Default\", \"Default\", \"Default\", \"Default\", \"Default\", \"Default\", \"Default\", \"Default\", \"Default\", \"Default\", \"Default\", \"Default\", \"Default\", \"Default\", \"Default\", \"Default\", \"Default\", \"Default\", \"Default\", \"Default\", \"Default\", \"Default\", \"Default\", \"Default\", \"Default\", \"Default\", \"Default\", \"Default\", \"Topic1\", \"Topic1\", \"Topic1\", \"Topic1\", \"Topic1\", \"Topic1\", \"Topic1\", \"Topic1\", \"Topic1\", \"Topic1\", \"Topic1\", \"Topic1\", \"Topic1\", \"Topic1\", \"Topic1\", \"Topic1\", \"Topic1\", \"Topic1\", \"Topic1\", \"Topic1\", \"Topic1\", \"Topic1\", \"Topic1\", \"Topic1\", \"Topic1\", \"Topic1\", \"Topic1\", \"Topic1\", \"Topic1\", \"Topic1\", \"Topic1\", \"Topic1\", \"Topic1\", \"Topic1\", \"Topic1\", \"Topic1\", \"Topic1\", \"Topic1\", \"Topic1\", \"Topic2\", \"Topic2\", \"Topic2\", \"Topic2\", \"Topic2\", \"Topic2\", \"Topic2\", \"Topic2\", \"Topic2\", \"Topic2\", \"Topic2\", \"Topic2\", \"Topic2\", \"Topic2\", \"Topic2\", \"Topic2\", \"Topic2\", \"Topic2\", \"Topic2\", \"Topic2\", \"Topic2\", \"Topic2\", \"Topic2\", \"Topic2\", \"Topic2\", \"Topic2\", \"Topic2\", \"Topic2\", \"Topic2\", \"Topic2\", \"Topic2\", \"Topic2\", \"Topic2\", \"Topic2\", \"Topic2\", \"Topic2\", \"Topic2\", \"Topic2\", \"Topic2\", \"Topic3\", \"Topic3\", \"Topic3\", \"Topic3\", \"Topic3\", \"Topic3\", \"Topic3\", \"Topic3\", \"Topic3\", \"Topic3\", \"Topic3\", \"Topic3\", \"Topic3\", \"Topic3\", \"Topic3\", \"Topic3\", \"Topic3\", \"Topic3\", \"Topic3\", \"Topic3\", \"Topic3\", \"Topic3\", \"Topic3\", \"Topic3\", \"Topic3\", \"Topic3\", \"Topic3\", \"Topic3\", \"Topic3\", \"Topic3\", \"Topic3\", \"Topic3\", \"Topic3\", \"Topic3\", \"Topic3\", \"Topic3\", \"Topic3\", \"Topic3\", \"Topic3\", \"Topic3\", \"Topic3\", \"Topic3\", \"Topic3\", \"Topic3\", \"Topic3\", \"Topic3\", \"Topic3\", \"Topic3\", \"Topic4\", \"Topic4\", \"Topic4\", \"Topic4\", \"Topic4\", \"Topic4\", \"Topic4\", \"Topic4\", \"Topic4\", \"Topic4\", \"Topic4\", \"Topic4\", \"Topic4\", \"Topic4\", \"Topic4\", \"Topic4\", \"Topic4\", \"Topic4\", \"Topic4\", \"Topic4\", \"Topic4\", \"Topic4\", \"Topic4\", \"Topic4\", \"Topic4\", \"Topic4\", \"Topic4\", \"Topic4\", \"Topic4\", \"Topic4\", \"Topic4\", \"Topic4\", \"Topic4\", \"Topic4\", \"Topic5\", \"Topic5\", \"Topic5\", \"Topic5\", \"Topic5\", \"Topic5\", \"Topic5\", \"Topic5\", \"Topic5\", \"Topic5\", \"Topic5\", \"Topic5\", \"Topic5\", \"Topic5\", \"Topic5\", \"Topic5\", \"Topic5\", \"Topic5\", \"Topic5\", \"Topic5\", \"Topic5\", \"Topic5\", \"Topic5\", \"Topic5\", \"Topic5\", \"Topic5\", \"Topic5\", \"Topic5\", \"Topic5\", \"Topic5\", \"Topic5\", \"Topic5\", \"Topic6\", \"Topic6\", \"Topic6\", \"Topic6\", \"Topic6\", \"Topic6\", \"Topic6\", \"Topic6\", \"Topic6\", \"Topic6\", \"Topic6\", \"Topic6\", \"Topic6\", \"Topic6\", \"Topic6\", \"Topic6\", \"Topic6\", \"Topic6\", \"Topic6\", \"Topic6\", \"Topic6\", \"Topic6\", \"Topic6\", \"Topic6\", \"Topic6\", \"Topic6\", \"Topic6\", \"Topic6\", \"Topic6\", \"Topic6\", \"Topic6\", \"Topic6\", \"Topic7\", \"Topic7\", \"Topic7\", \"Topic7\", \"Topic7\", \"Topic7\", \"Topic7\", \"Topic7\", \"Topic7\", \"Topic7\", \"Topic7\", \"Topic7\", \"Topic7\", \"Topic7\", \"Topic7\", \"Topic7\", \"Topic7\", \"Topic7\", \"Topic7\", \"Topic7\", \"Topic7\", \"Topic7\", \"Topic7\", \"Topic7\", \"Topic7\", \"Topic7\", \"Topic7\", \"Topic7\", \"Topic7\", \"Topic7\", \"Topic7\", \"Topic8\", \"Topic8\", \"Topic8\", \"Topic8\", \"Topic8\", \"Topic8\", \"Topic8\", \"Topic8\", \"Topic8\", \"Topic8\", \"Topic8\", \"Topic8\", \"Topic8\", \"Topic8\", \"Topic8\", \"Topic8\", \"Topic8\", \"Topic8\", \"Topic8\", \"Topic8\", \"Topic8\", \"Topic8\", \"Topic8\", \"Topic8\", \"Topic8\", \"Topic8\", \"Topic8\", \"Topic8\", \"Topic8\", \"Topic8\", \"Topic8\", \"Topic8\", \"Topic8\", \"Topic8\", \"Topic8\", \"Topic8\", \"Topic8\", \"Topic8\", \"Topic8\", \"Topic8\", \"Topic8\", \"Topic8\", \"Topic8\", \"Topic8\", \"Topic8\", \"Topic8\", \"Topic8\", \"Topic8\", \"Topic8\", \"Topic8\", \"Topic8\", \"Topic8\", \"Topic9\", \"Topic9\", \"Topic9\", \"Topic9\", \"Topic9\", \"Topic9\", \"Topic9\", \"Topic9\", \"Topic9\", \"Topic9\", \"Topic9\", \"Topic9\", \"Topic9\", \"Topic9\", \"Topic9\", \"Topic9\", \"Topic9\", \"Topic9\", \"Topic9\", \"Topic9\", \"Topic9\", \"Topic9\", \"Topic9\", \"Topic9\", \"Topic9\", \"Topic9\", \"Topic9\", \"Topic9\", \"Topic9\", \"Topic9\", \"Topic9\", \"Topic9\", \"Topic9\", \"Topic9\", \"Topic10\", \"Topic10\", \"Topic10\", \"Topic10\", \"Topic10\", \"Topic10\", \"Topic10\", \"Topic10\", \"Topic10\", \"Topic10\", \"Topic10\", \"Topic10\", \"Topic10\", \"Topic10\", \"Topic10\", \"Topic10\", \"Topic10\", \"Topic10\", \"Topic10\", \"Topic10\", \"Topic10\", \"Topic10\", \"Topic10\", \"Topic10\", \"Topic10\", \"Topic10\", \"Topic10\", \"Topic10\", \"Topic10\", \"Topic10\", \"Topic10\", \"Topic11\", \"Topic11\", \"Topic11\", \"Topic11\", \"Topic11\", \"Topic11\", \"Topic11\", \"Topic11\", \"Topic11\", \"Topic11\", \"Topic11\", \"Topic11\", \"Topic11\", \"Topic11\", \"Topic11\", \"Topic11\", \"Topic11\", \"Topic11\", \"Topic11\", \"Topic11\", \"Topic11\", \"Topic11\", \"Topic11\", \"Topic11\", \"Topic11\", \"Topic11\", \"Topic11\", \"Topic11\", \"Topic11\", \"Topic11\", \"Topic11\", \"Topic11\", \"Topic11\", \"Topic12\", \"Topic12\", \"Topic12\", \"Topic12\", \"Topic12\", \"Topic12\", \"Topic12\", \"Topic12\", \"Topic12\", \"Topic12\", \"Topic12\", \"Topic12\", \"Topic12\", \"Topic12\", \"Topic12\", \"Topic12\", \"Topic12\", \"Topic12\", \"Topic12\", \"Topic12\", \"Topic12\", \"Topic12\", \"Topic12\", \"Topic12\", \"Topic12\", \"Topic12\", \"Topic12\", \"Topic12\", \"Topic12\", \"Topic12\", \"Topic12\", \"Topic12\", \"Topic12\", \"Topic12\", \"Topic13\", \"Topic13\", \"Topic13\", \"Topic13\", \"Topic13\", \"Topic13\", \"Topic13\", \"Topic13\", \"Topic13\", \"Topic13\", \"Topic13\", \"Topic13\", \"Topic13\", \"Topic13\", \"Topic13\", \"Topic13\", \"Topic13\", \"Topic13\", \"Topic13\", \"Topic13\", \"Topic13\", \"Topic13\", \"Topic13\", \"Topic13\", \"Topic13\", \"Topic13\", \"Topic13\", \"Topic13\", \"Topic13\", \"Topic13\", \"Topic13\", \"Topic13\", \"Topic13\", \"Topic14\", \"Topic14\", \"Topic14\", \"Topic14\", \"Topic14\", \"Topic14\", \"Topic14\", \"Topic14\", \"Topic14\", \"Topic14\", \"Topic14\", \"Topic14\", \"Topic14\", \"Topic14\", \"Topic14\", \"Topic14\", \"Topic14\", \"Topic14\", \"Topic14\", \"Topic14\", \"Topic14\", \"Topic14\", \"Topic14\", \"Topic14\", \"Topic14\", \"Topic14\", \"Topic14\", \"Topic14\", \"Topic14\", \"Topic14\", \"Topic14\", \"Topic15\", \"Topic15\", \"Topic15\", \"Topic15\", \"Topic15\", \"Topic15\", \"Topic15\", \"Topic15\", \"Topic15\", \"Topic15\", \"Topic15\", \"Topic15\", \"Topic15\", \"Topic15\", \"Topic15\", \"Topic15\", \"Topic15\", \"Topic15\", \"Topic15\", \"Topic15\", \"Topic15\", \"Topic15\", \"Topic15\", \"Topic15\", \"Topic15\", \"Topic15\", \"Topic15\", \"Topic15\", \"Topic15\", \"Topic15\", \"Topic15\", \"Topic15\", \"Topic15\", \"Topic16\", \"Topic16\", \"Topic16\", \"Topic16\", \"Topic16\", \"Topic16\", \"Topic16\", \"Topic16\", \"Topic16\", \"Topic16\", \"Topic16\", \"Topic16\", \"Topic16\", \"Topic16\", \"Topic16\", \"Topic16\", \"Topic16\", \"Topic16\", \"Topic16\", \"Topic16\", \"Topic16\", \"Topic16\", \"Topic16\", \"Topic16\", \"Topic16\", \"Topic16\", \"Topic16\", \"Topic16\", \"Topic16\", \"Topic16\", \"Topic17\", \"Topic17\", \"Topic17\", \"Topic17\", \"Topic17\", \"Topic17\", \"Topic17\", \"Topic17\", \"Topic17\", \"Topic17\", \"Topic17\", \"Topic17\", \"Topic17\", \"Topic17\", \"Topic17\", \"Topic17\", \"Topic17\", \"Topic17\", \"Topic17\", \"Topic17\", \"Topic17\", \"Topic17\", \"Topic17\", \"Topic17\", \"Topic17\", \"Topic17\", \"Topic17\", \"Topic17\", \"Topic17\", \"Topic17\", \"Topic17\", \"Topic17\", \"Topic18\", \"Topic18\", \"Topic18\", \"Topic18\", \"Topic18\", \"Topic18\", \"Topic18\", \"Topic18\", \"Topic18\", \"Topic18\", \"Topic18\", \"Topic18\", \"Topic18\", \"Topic18\", \"Topic18\", \"Topic18\", \"Topic18\", \"Topic18\", \"Topic18\", \"Topic18\", \"Topic18\", \"Topic18\", \"Topic18\", \"Topic18\", \"Topic18\", \"Topic18\", \"Topic18\", \"Topic18\", \"Topic18\", \"Topic18\", \"Topic18\", \"Topic19\", \"Topic19\", \"Topic19\", \"Topic19\", \"Topic19\", \"Topic19\", \"Topic19\", \"Topic19\", \"Topic19\", \"Topic19\", \"Topic19\", \"Topic19\", \"Topic19\", \"Topic19\", \"Topic19\", \"Topic19\", \"Topic19\", \"Topic19\", \"Topic19\", \"Topic19\", \"Topic19\", \"Topic19\", \"Topic19\", \"Topic19\", \"Topic19\", \"Topic19\", \"Topic19\", \"Topic19\", \"Topic19\", \"Topic19\", \"Topic19\", \"Topic20\", \"Topic20\", \"Topic20\", \"Topic20\", \"Topic20\", \"Topic20\", \"Topic20\", \"Topic20\", \"Topic20\", \"Topic20\", \"Topic20\", \"Topic20\", \"Topic20\", \"Topic20\", \"Topic20\", \"Topic20\", \"Topic20\", \"Topic20\", \"Topic20\", \"Topic20\", \"Topic20\", \"Topic20\", \"Topic20\", \"Topic20\", \"Topic20\", \"Topic20\", \"Topic20\", \"Topic20\", \"Topic20\", \"Topic20\", \"Topic20\", \"Topic20\", \"Topic20\"], \"Freq\": [39.0, 55.0, 30.0, 32.0, 26.0, 34.0, 39.0, 36.0, 22.0, 22.0, 22.0, 92.0, 35.0, 49.0, 13.0, 26.0, 18.0, 45.0, 14.0, 72.0, 23.0, 22.0, 34.0, 18.0, 27.0, 42.0, 13.0, 17.0, 17.0, 19.0, 113.81404876708984, 101.11366271972656, 87.93656921386719, 85.7669677734375, 78.57714080810547, 76.38684844970703, 75.17865753173828, 74.86009979248047, 73.17708587646484, 71.52507019042969, 70.99064636230469, 69.95722961425781, 69.75476837158203, 69.272705078125, 68.30474853515625, 68.17008972167969, 67.9123764038086, 67.7038803100586, 67.30823516845703, 67.06661987304688, 66.36742401123047, 66.30225372314453, 66.00390625, 65.66157531738281, 63.9795036315918, 63.090091705322266, 63.02317810058594, 62.81355667114258, 62.68836212158203, 62.27619171142578, 80.55473327636719, 92.43595123291016, 86.63866424560547, 82.86520385742188, 91.80716705322266, 89.53643035888672, 69.1983642578125, 76.23726654052734, 71.96805572509766, 7.688909530639648, 6.183596611022949, 5.770166397094727, 5.311065673828125, 5.239993572235107, 4.7038140296936035, 4.588875770568848, 4.3950114250183105, 4.331965923309326, 4.143100261688232, 4.1358771324157715, 4.099996089935303, 4.061552047729492, 3.9635162353515625, 3.9133944511413574, 3.637770891189575, 3.587679386138916, 3.571505546569824, 3.5705137252807617, 3.515037775039673, 3.4601082801818848, 3.4293031692504883, 3.4037492275238037, 3.3637306690216064, 4.161936283111572, 3.232783794403076, 3.9526960849761963, 3.2032313346862793, 3.182433843612671, 3.174030303955078, 4.300723552703857, 3.609959363937378, 4.356321811676025, 3.9638168811798096, 4.441530227661133, 4.019830703735352, 4.052520751953125, 3.759106159210205, 3.6024575233459473, 2.2000787258148193, 2.1715664863586426, 2.0884897708892822, 1.9897607564926147, 1.913057565689087, 1.4750279188156128, 1.4486489295959473, 1.4049724340438843, 1.3684282302856445, 1.3410717248916626, 2.632014036178589, 1.2707011699676514, 1.267474889755249, 1.250203251838684, 1.4272257089614868, 1.882096290588379, 0.7943937182426453, 0.6783688068389893, 0.6722579598426819, 0.6145181059837341, 0.565486490726471, 1.682166337966919, 0.5419842004776001, 0.6431119441986084, 0.4671855568885803, 0.4647861123085022, 0.46226629614830017, 0.4537484645843506, 0.45293891429901123, 0.43453747034072876, 3.4666380882263184, 1.388835072517395, 2.9822590351104736, 3.8975892066955566, 3.1701416969299316, 1.406736969947815, 1.5177289247512817, 1.6880459785461426, 1.7594027519226074, 1.7322198152542114, 1.5001219511032104, 1.097913384437561, 1.9673781394958496, 1.3709509372711182, 1.6582897901535034, 1.7059423923492432, 1.454565167427063, 1.4805296659469604, 1.035631537437439, 0.7945528626441956, 0.7338631749153137, 0.7230154871940613, 0.7118477821350098, 0.6635927557945251, 0.7438433170318604, 0.5332820415496826, 0.5206851363182068, 0.47261545062065125, 0.46304595470428467, 0.7538442611694336, 0.45861175656318665, 0.4565838575363159, 0.440500408411026, 0.4382546544075012, 0.43024295568466187, 0.40613293647766113, 0.40452098846435547, 0.4040807783603668, 0.40101391077041626, 0.3835464119911194, 0.3828755021095276, 0.3791883587837219, 0.37478509545326233, 0.3745242655277252, 0.35829803347587585, 0.5506184101104736, 0.3531942069530487, 0.3363173305988312, 0.5975819230079651, 0.4709146320819855, 0.4005031883716583, 0.3971765637397766, 1.521817684173584, 1.3587137460708618, 1.0161736011505127, 0.8962024450302124, 0.8943054676055908, 0.7909228205680847, 0.6908949613571167, 0.6243575811386108, 0.6160545349121094, 0.5388209819793701, 0.5220794081687927, 0.511158287525177, 0.4732949435710907, 0.4627077579498291, 0.4537752866744995, 0.4413774907588959, 0.44093063473701477, 0.43858635425567627, 0.43402448296546936, 0.4338318109512329, 0.4276573956012726, 0.41749370098114014, 0.3983682096004486, 0.5448453426361084, 0.38887688517570496, 0.3876853883266449, 0.36452150344848633, 0.3587145507335663, 0.3515823781490326, 0.3388325870037079, 0.4282487630844116, 0.36039188504219055, 0.8315979838371277, 0.7860225439071655, 0.6924744844436646, 0.5360908508300781, 0.5246537327766418, 0.5169798731803894, 0.4973958730697632, 0.4936543107032776, 0.48253634572029114, 0.4654013216495514, 0.4556736648082733, 0.4525533616542816, 0.44019120931625366, 0.41462674736976624, 0.41062766313552856, 0.5645557641983032, 0.3706066608428955, 0.3528125584125519, 0.3526667356491089, 0.3516712486743927, 0.3217428922653198, 0.31856343150138855, 0.3148263096809387, 0.31145793199539185, 0.2994866967201233, 0.2994866967201233, 0.29846808314323425, 0.44418567419052124, 0.29289576411247253, 0.2885224521160126, 0.39821767807006836, 0.49416521191596985, 1.010869026184082, 1.2689595222473145, 0.7512074112892151, 0.7277933359146118, 0.7622696161270142, 0.5003429055213928, 0.49575769901275635, 0.5943620800971985, 0.4348995089530945, 0.5435200929641724, 0.38714665174484253, 0.3863229751586914, 0.36734530329704285, 0.3646312355995178, 0.35506778955459595, 0.3342742919921875, 0.30471912026405334, 0.2925657331943512, 0.27527597546577454, 0.2752728760242462, 0.2682512104511261, 0.26036185026168823, 0.2549711763858795, 0.2546958029270172, 0.25027215480804443, 0.24382568895816803, 0.2425834834575653, 0.24238069355487823, 0.2399493306875229, 0.23662516474723816, 0.27390918135643005, 1.1078218221664429, 0.7969847321510315, 0.7969014644622803, 0.7719488739967346, 0.7413586378097534, 0.6773347854614258, 0.5769706964492798, 0.3744243085384369, 0.4861297011375427, 0.32509464025497437, 0.32509464025497437, 0.32054561376571655, 0.32054561376571655, 0.2841017544269562, 0.6868944764137268, 0.26027175784111023, 0.24353215098381042, 0.2405092418193817, 0.37566572427749634, 0.23064962029457092, 0.2194473296403885, 0.29445943236351013, 0.20283252000808716, 0.19902092218399048, 0.1972568929195404, 0.1961957961320877, 0.18452927470207214, 0.18150284886360168, 0.17986902594566345, 0.17817836999893188, 0.26290810108184814, 0.6190345883369446, 0.7121571898460388, 1.246059536933899, 0.6575340628623962, 0.8189488649368286, 0.5971574187278748, 0.8510585427284241, 0.6299242973327637, 0.5418917536735535, 0.5574051737785339, 0.5083040595054626, 0.5043047070503235, 0.49332424998283386, 0.47055870294570923, 0.47848278284072876, 0.45193830132484436, 0.46890273690223694, 0.45836392045021057, 0.41925233602523804, 0.42359161376953125, 0.4128780663013458, 0.8257275223731995, 0.8150526881217957, 0.809487521648407, 0.809487521648407, 0.5945476293563843, 0.4960985779762268, 0.4288159906864166, 0.36833176016807556, 0.34861990809440613, 0.32286882400512695, 0.29533737897872925, 0.2949550449848175, 0.28225743770599365, 0.26831409335136414, 0.2552472949028015, 0.2437535971403122, 0.23592358827590942, 0.21650578081607819, 0.2146010398864746, 0.21185088157653809, 0.20613130927085876, 0.20386841893196106, 0.20138482749462128, 0.20130518078804016, 0.19931083917617798, 0.19574160873889923, 0.2592935860157013, 0.185934379696846, 0.2588758170604706, 0.18092432618141174, 0.4052385985851288, 0.21526649594306946, 0.3113240599632263, 0.20723925530910492, 1.1063793897628784, 0.8380756974220276, 0.4461016058921814, 0.43752920627593994, 0.4283033013343811, 0.3406845033168793, 0.3357706069946289, 0.32093653082847595, 0.31649142503738403, 0.3066033720970154, 0.29532691836357117, 0.2937238812446594, 0.2892571985721588, 0.2794680893421173, 0.2727624773979187, 0.271684855222702, 0.25664472579956055, 0.24519944190979004, 0.23876984417438507, 0.23346924781799316, 0.22996357083320618, 0.21798184514045715, 0.2144775092601776, 0.21359825134277344, 0.21073144674301147, 0.2790152430534363, 0.20497746765613556, 0.20227736234664917, 0.2018052488565445, 0.1906391978263855, 0.2112717181444168, 0.6622224450111389, 0.4278688132762909, 0.3439294695854187, 0.3296956419944763, 0.3140068054199219, 0.31296876072883606, 0.30509257316589355, 0.29237958788871765, 0.28706324100494385, 0.281983882188797, 0.27662917971611023, 0.27411922812461853, 0.3349915146827698, 0.21718713641166687, 0.2097695916891098, 0.20844268798828125, 0.2015329897403717, 0.31296077370643616, 0.19782990217208862, 0.182272270321846, 0.17642226815223694, 0.176327645778656, 0.167933389544487, 0.16403238475322723, 0.16403238475322723, 0.1621846705675125, 0.1583450585603714, 0.1570115089416504, 0.26186007261276245, 0.15226368606090546, 0.21893452107906342, 0.18170511722564697, 0.1735505312681198, 0.40693390369415283, 0.37500667572021484, 0.3443995714187622, 0.3159857988357544, 0.3035726249217987, 0.28585201501846313, 0.5526267290115356, 0.26762211322784424, 0.26712241768836975, 0.26186251640319824, 0.2618560492992401, 0.2609606981277466, 0.2539007067680359, 0.24985234439373016, 0.2455938309431076, 0.23941290378570557, 0.23801882565021515, 0.2353304922580719, 0.22358229756355286, 0.21325954794883728, 0.21221527457237244, 0.21221527457237244, 0.21221527457237244, 0.21175140142440796, 0.2099735587835312, 0.20669828355312347, 0.18529941141605377, 0.18453048169612885, 0.18383324146270752, 0.1813972443342209, 0.25239795446395874, 0.4182465076446533, 0.3799157738685608, 0.18819941580295563, 0.97910076379776, 0.6065444946289062, 0.5897813439369202, 0.5432974100112915, 0.5154182314872742, 0.47737985849380493, 0.4573652744293213, 0.44071757793426514, 0.4284397065639496, 0.33873629570007324, 0.33491191267967224, 0.2735302150249481, 0.27144598960876465, 0.26838159561157227, 0.26816749572753906, 0.2561461925506592, 0.24166911840438843, 0.23837168514728546, 0.2374284267425537, 0.23034130036830902, 0.22885644435882568, 0.22758620977401733, 0.22146329283714294, 0.27274394035339355, 0.21403151750564575, 0.20559222996234894, 0.19456596672534943, 0.1915740668773651, 0.18910856544971466, 0.1823120266199112, 0.19901059567928314, 0.2824854254722595, 0.22760894894599915, 0.46665123105049133, 0.26312005519866943, 0.2555133104324341, 0.2541065514087677, 0.2504415214061737, 0.2495371252298355, 0.2483973503112793, 0.24016618728637695, 0.2294737696647644, 0.21813301742076874, 0.21243107318878174, 0.20155233144760132, 0.193506121635437, 0.18749207258224487, 0.18292026221752167, 0.17499563097953796, 0.17224059998989105, 0.16882504522800446, 0.1642182618379593, 0.14106179773807526, 0.13975468277931213, 0.13830851018428802, 0.1365443617105484, 0.13456882536411285, 0.12885287404060364, 0.1259315311908722, 0.12293794751167297, 0.12274536490440369, 0.12200373411178589, 0.11980012059211731, 0.14091435074806213, 0.41381481289863586, 0.3682945966720581, 0.3226231634616852, 0.2567402124404907, 0.24257096648216248, 0.4767671525478363, 0.2322733849287033, 0.21532027423381805, 0.2033870816230774, 0.20214809477329254, 0.1953519582748413, 0.1731509119272232, 0.1660013049840927, 0.1512533724308014, 0.14581431448459625, 0.13601112365722656, 0.12848405539989471, 0.12676231563091278, 0.12676148116588593, 0.1204986423254013, 0.11918897181749344, 0.11708889901638031, 0.11400370299816132, 0.11353513598442078, 0.11161470413208008, 0.10613840818405151, 0.1055687814950943, 0.10458539426326752, 0.10247614979743958, 0.1015203446149826, 0.11513505131006241, 0.1300407201051712, 0.13192927837371826, 0.3881474733352661, 0.3680315613746643, 0.3647945821285248, 0.31038185954093933, 0.30954721570014954, 0.2998861074447632, 0.2998861074447632, 0.2818320393562317, 0.25544440746307373, 0.25482818484306335, 0.2516894042491913, 0.24444334208965302, 0.2331295758485794, 0.231465682387352, 0.22513988614082336, 0.2544495165348053, 0.18936720490455627, 0.18301711976528168, 0.17251978814601898, 0.16881155967712402, 0.15796484053134918, 0.1547006070613861, 0.15388397872447968, 0.22975552082061768, 0.14727574586868286, 0.1323656588792801, 0.12981729209423065, 0.12117032706737518, 0.11635308712720871, 0.18720155954360962, 0.652800440788269, 0.4893319308757782, 0.3940158486366272, 0.31080251932144165, 0.26799046993255615, 0.2351907640695572, 0.3522295355796814, 0.2144785225391388, 0.20526503026485443, 0.20483887195587158, 0.20290952920913696, 0.1931043416261673, 0.18274380266666412, 0.28479766845703125, 0.16287149488925934, 0.16287149488925934, 0.15824353694915771, 0.15200906991958618, 0.20517845451831818, 0.1512647569179535, 0.14537256956100464, 0.14433495700359344, 0.14386628568172455, 0.14234000444412231, 0.13545484840869904, 0.13065247237682343, 0.1270517110824585, 0.10634510964155197, 0.10534138977527618, 0.10462692379951477, 0.19796644151210785, 0.16976775228977203, 0.4439866542816162, 0.39333096146583557, 0.34805944561958313, 0.26473268866539, 0.22657378017902374, 0.20814146101474762, 0.2008766531944275, 0.19765406847000122, 0.19597208499908447, 0.17868119478225708, 0.1702176183462143, 0.16516418755054474, 0.31352850794792175, 0.16082829236984253, 0.1582442671060562, 0.15753638744354248, 0.1518005132675171, 0.14816167950630188, 0.14723527431488037, 0.14362987875938416, 0.14362987875938416, 0.13955853879451752, 0.13567200303077698, 0.13383989036083221, 0.13378579914569855, 0.1294986456632614, 0.125533789396286, 0.12143220007419586, 0.14499150216579437, 0.11825408786535263, 0.11850621551275253, 0.37219056487083435, 0.3616766333580017, 0.2591243386268616, 0.253615140914917, 0.23419125378131866, 0.21688035130500793, 0.19857633113861084, 0.1938181221485138, 0.18552275002002716, 0.173341765999794, 0.17140059173107147, 0.16636857390403748, 0.164666548371315, 0.14494040608406067, 0.1397862285375595, 0.1386730968952179, 0.13283443450927734, 0.13020172715187073, 0.1293421983718872, 0.12671822309494019, 0.12460918724536896, 0.12240147590637207, 0.1117047592997551, 0.09700025618076324, 0.09332378208637238, 0.08704888075590134, 0.08594558387994766, 0.08464087545871735, 0.08262794464826584, 0.08031392097473145, 0.18209518492221832, 0.3339175879955292, 0.27736344933509827, 0.2638230621814728, 0.2129543125629425, 0.2019353061914444, 0.4514235258102417, 0.17494255304336548, 0.2229636013507843, 0.1699194759130478, 0.163736492395401, 0.15738968551158905, 0.1438983976840973, 0.13990487158298492, 0.13245657086372375, 0.1870860755443573, 0.12592223286628723, 0.17883267998695374, 0.11520577222108841, 0.11220711469650269, 0.1623532474040985, 0.1079106330871582, 0.09954992681741714, 0.09794695675373077, 0.09590920060873032, 0.09286805242300034, 0.08889181166887283, 0.085293248295784, 0.0810600146651268, 0.05044151097536087, 0.037056200206279755, 0.08834768086671829, 0.09182553738355637, 0.09899916499853134], \"Term\": [\"aide\", \"association\", \"acc\\u00e8s\", \"responsable\", \"droit\", \"lundi\", \"vendredi\", \"porte\", \"permanence\", \"design\", \"t\\u00e9l\", \"innovation\", \"ouvert\", \"conseil\", \"ecole\", \"marseille\", \"incubation\", \"rue\", \"utile\", \"p\\u00e9pini\\u00e8re\", \"by\", \"of\", \"digital\", \"management\", \"institut\", \"business\", \"d\\u00e9partemental\", \"adresse\", \"co\", \"open\", \"start-up\", \"projet\", \"france\", \"euro\", \"an\", \"jeune\", \"espace\", \"entrepreneur\", \"groupe\", \"million\", \"fran\\u00e7ais\", \"ville\", \"premier\", \"deux\", \"travail\", \"fond\", \"cr\\u00e9er\", \"pr\\u00e9sident\", \"ann\\u00e9e\", \"d\\u00e9veloppement\", \"incubateur\", \"soci\\u00e9t\\u00e9\", \"r\\u00e9gion\", \"nouvelle\", \"tout\", \"territoire\", \"nouveau\", \"fait\", \"permettre\", \"startups\", \"pouvoir\", \"entreprise\", \"pari\", \"num\\u00e9rique\", \"innovation\", \"heure\", \"service\", \"grand\", \"p\\u00e9pini\\u00e8re\", \"3d\", \"maladie\", \"professeur\", \"impression\", \"bien-\\u00eatre\", \"vaste\", \"coll\\u00e8ge\", \"syndicat\", \"cancer\", \"cons\\u00e9cutive\", \"appr\\u00e9cier\", \"capteur\", \"cellule\", \"ess\", \"isra\\u00e9lien\", \"imprimante\", \"militaire\", \"digitalisation\", \"claire\", \"f\\u00e9minin\", \"enseignant\", \"t\\u00e2che\", \"made\", \"cerveau\", \"vitesse\", \"clinique\", \"labelliser\", \"mixte\", \"heureux\", \"bitcoin\", \"elys\\u00e9e\", \"identit\\u00e9\", \"code\", \"diagnostic\", \"r\\u00e9compenser\", \"cosm\\u00e9tique\", \"benjamin\", \"marge\", \"poids\", \"adavim\", \"prince\", \"adavimawanadoo.fr\", \"n\\u00e9crologiques\", \"carnetanr-communication.fr\", \"h\\u00e9ritier\", \"berry\", \"t\\u00e9l.02.54.07.33.72\", \"mbs\", \"t\\u00e9l.02.54.60.35.35\", \"12h\", \"tunisie\", \"www.indreberrymediation.fr\", \"mohammed\", \"saoudien\", \"mail\", \"royaume\", \"alg\\u00e9rien\", \"d\\u00eener\", \"raise\", \"clara\", \"8h30\", \"resserrer\", \"g\\u00e9n\\u00e9rateur\", \"y\\u00e9men\", \"riyad\", \"orpi\", \"bougie\", \"bouygues\", \"voile\", \"victime\", \"saoudite\", \"indre\", \"m\\u00e9diation\", \"17h\", \"arabie\", \"instance\", \"ch\\u00e2teauroux\", \"courriel\", \"d\\u00e9partementale\", \"tribunal\", \"ben\", \"droit\", \"avis\", \"acc\\u00e8s\", \"aide\", \"utile\", \"permanence\", \"forbach\", \"qu\\u00e9bec\", \"eurodev\", \"auray\", \"mon\\u00e9gasque\", \"n26\", \"monacotech\", \"danone\", \"stagiaire\", \"exclusivit\\u00e9\", \"aqta\", \"vanne\", \"clermont\", \"carcassonne\", \"\\u00e9closerie\", \"montb\\u00e9liard\", \"principaut\\u00e9\", \"aaa\", \"cr\\u00e9aude\", \"hello\", \"h\\u00e9l\\u00e8ne\", \"o21\", \"montr\\u00e9al\", \"hyve\", \"catalan\", \"apt\", \"unitec\", \"ivoire\", \"pr\\u00e9s\\u00e9lectionner\", \"oser\", \"perpignan\", \"m\\u00e9diath\\u00e8que\", \"morbihan\", \"delahaye\", \"bourges\", \"maul\\u00e9on\", \"solen\", \"spatial\", \"spatiales\", \"cnes\", \"nacre\", \"joigny\", \"argouague\", \"rlv\", \"biop\\u00f4le\", \"velco\", \"championnat\", \"esa\", \"anne-lucie\", \"riom\", \"oise\", \"cola\", \"clausse\", \"volvic\", \"sam\", \"auxerrois\", \"lanceur\", \"spatiale\", \"tracteur\", \"loto\", \"girard\", \"psa\", \"libarrenx\", \"expert-comptable\", \"spacex\", \"fus\\u00e9e\", \"marocain\", \"pau\", \"h\\u00e9lioparc\", \"h\\u00e9rault\", \"moroccan\", \"touch\", \"rimbaud\", \"is\\u00e8re\", \"delga\", \"p\\u00e9kin\", \"tournoi\", \"cosmetic\", \"news\", \"lux\", \"meyreuil\", \"inria\", \"xi\", \"areva\", \"ardenne\", \"agen\", \"m\\u00e9t\\u00e9o\", \"essec\", \"innovact\", \"peuple\", \"kong\", \"hong\", \"bang\", \"portugais\", \"jinping\", \"marl\\u00e8ne\", \"atlantique\", \"startupers\", \"molengeek\", \"nouvelle-aquitaine\", \"bordelais\", \"salmane\", \"leonard\", \"molenbeek\", \"ibrahim\", \"medef\", \"btp\", \"chaire\", \"japon\", \"ouassari\", \"dordogne\", \"rotary\", \"louvre\", \"ideal\", \"p\\u00e9rigueux\", \"geoffroy\", \"zimmer\", \"washington\", \"carr\\u00e9ment\", \"funding\", \"samsung\", \"blaye\", \"tabac\", \"foulon\", \"b\\u00e8gles\", \"\\u00e9quipementier\", \"bayonne\", \"valorem\", \"ferroviaire\", \"icade\", \"graduate\", \"cs\", \"ensci\", \"desmoulins\", \"experience\", \"camille\", \"paygreen\", \"skema\", \"purina\", \"synergia\", \"franc-bourgeois\", \"reponsable\", \"issoire\", \"iae\", \"laporte\", \"robin\", \"i-mc\", \"cea\", \"xsun\", \"loud\\u00e9ac\", \"biographie\", \"baker\", \"pocket\", \"etienne\", \"diallo\", \"invests\", \"paret\", \"simplon\", \"result\", \"pertuis\", \"coordination\", \"incubator\", \"ecole\", \"dassault\", \"design\", \"aix-marseille\", \"responsable\", \"school\", \"accelerator\", \"incubation\", \"master\", \"management\", \"adresse\", \"normandie\", \"co\", \"centrale\", \"t\\u00e9l\", \"marseille\", \"open\", \"of\", \"by\", \"newsletter\", \"ibmediationaorange.fr\", \"nice-matin\", \"var-matin\", \"12het\", \"lvmh\", \"capi\", \"saint-malo\", \"saint-gobain\", \"14h\", \"u=http-3a__www.indreberrymediation.fr\", \"arnault\", \"cnpa\", \"6h\", \"scooter\", \"console\", \"avrul\", \"9h30\", \"16\\u00e8me\", \"moove\", \"cit\\u00e9dia\", \"wilson\", \"questembert\", \"13\\u00e8me\", \"croix-rouge\", \"intercom\", \"mois-ci\", \"nosvillesontdutalent\", \"18h30\", \"id\", \"8h30\", \"limoger\", \"inscription\", \"12h\", \"sap\", \"drone\", \"cmn\", \"modiface\", \"meuse\", \"s\\u00e9same\", \"voler\", \"grand-ducal\", \"maquillage\", \"smd\", \"stenay\", \"saint-nazaire\", \"bizlab\", \"lpa\", \"chauny\", \"b\\u00e9laval\", \"aile\", \"volant\", \"photovolta\\u00efques\", \"abidjan\", \"koulouh\", \"abdeslam\", \"autoconsommation\", \"purassanta\", \"brigitte\", \"g\\u00e9nie\", \"epargne\", \"sanchez\", \"area\", \"transverse\", \"engin\", \"kreuzberg\", \"fain\\u00e9ant\", \"ammar\", \"afp\", \"oussama\", \"phrase\", \"niortais\", \"militant\", \"saint-etienne\", \"klaxit\", \"tinder\", \"klanik\", \"po\", \"publicis\", \"expression\", \"fuck\", \"thefamily\", \"ch\\u00e2teaudun\", \"extr\\u00eames\", \"contradiction\", \"pr\\u00e9tention\", \"ar\\u00e9opage\", \"lacoste\", \"bremer\", \"pageblank\", \"qare\", \"ramer\", \"larry\", \"californien\", \"maif\", \"nanosatellites\", \"can\", \"\\u00e9chiquier\", \"perche\", \"raouti\", \"chehih\", \"baloge\", \"cce\", \"sicoval\", \"1kubator\", \"abeille\", \"gap\", \"marmande\", \"carep\", \"dock\", \"soule\", \"saint-marc\", \"chevau\", \"amaury\", \"hautes-alpes\", \"seedstars\", \"tektos\", \"gers\", \"soreau\", \"carlyne\", \"prazeres\", \"loir\", \"ludovic\", \"techcode\", \"cityzen\", \"mod\\u00e9rateur\", \"xrp\", \"lomagne\", \"cdc\", \"sigfox\", \"j\\u00e9r\\u00f4me\", \"noron\", \"swave\", \"merabet\", \"travel\", \"lilla\", \"rottner\", \"qu\\u00e9r\\u00e9\", \"m\\u00eal\\u00e9e\", \"grand-duc\", \"grande-duchesse\", \"encha\\u00een\\u00e9\", \"psl\", \"ing\", \"douarnenez\", \"outdoor\", \"d\\u00e9ontologue\", \"rarement\", \"1\\u00e8re\", \"loupe\", \"wild\", \"arche\", \"colson-duparchy\", \"gecina\", \"semia\", \"za\", \"commis\", \"sarre.comment\", \"allianz\", \"laroudie\", \"osv\", \"hazebrouck\", \"alexia\", \"canard\", \"virginie\", \"gard\", \"smiile\", \"kervevan\", \"oui.sncf\", \"charbonnier\", \"tiller\", \"that\", \"besnard\", \"scierie\", \"this\", \"cyrille\", \"fr\\u00e9gate\", \"euripole\", \"y-parc\", \"agropole\", \"yverdon\", \"caddie\", \"link\", \"will\", \"lanazia\", \"from\", \"gp\", \"samu\", \"hoffmann\", \"ululer\", \"their\", \"souscripteur\", \"has\", \"its\", \"copernic\", \"capdecisif\", \"hyperloop\", \"thales\", \"philips\", \"inde\", \"vivoka\", \"limoger\", \"francophonie\", \"delvalle\", \"12\\u00e8me\", \"pol\", \"wallix\", \"entech\", \"limousin\", \"equisure\", \"combe\", \"khalifa\", \"ibionext\", \"urssaf\", \"cin\\u00e9math\\u00e8que\", \"ki\", \"villers-cotter\\u00eats\", \"haute-vienne\", \"closing\", \"ambulix\", \"chaventr\\u00e9\", \"barbier-litvak\", \"pibs\", \"oc\\u00e9ane\", \"terralia\", \"scipio\", \"capdecisif\", \"morbihan\", \"vanne\", \"leroy\", \"merlin\", \"russie\", \"technowest\", \"tapisserie\", \"rimac\", \"automobili\", \"techshop\", \"onf\", \"bliiida\", \"ivry\", \"arcadis\", \"candidater\", \"euronext\", \"rs\", \"russe\", \"moscou\", \"connected\", \"clos\", \"b2b\", \"arbois-m\\u00e9diterran\\u00e9e\", \"cusset\", \"rts\", \"proptech\", \"irt\", \"web2day\", \"plaid\", \"gazelle\", \"baffou\", \"arbois\", \"quimperl\\u00e9\", \"mellac\", \"kervidanou\", \"tl\", \"\\u00e9pauler\", \"intervalle\", \"estuaire\", \"vallespir\", \"pricemoov\", \"\\u00e9pernay\", \"c\\u00e9ret\", \"waryme\", \"virtuels\", \"frenchweb\", \"invariable\", \"read\", \"xxi\\u00e8me\", \"ramy\", \"sillon\", \"didn\", \"ouihelp\", \"boulou\", \"sigle\", \"bannalec\", \"too\", \"18heures\", \"auxiliaire\", \"kerlink\", \"trebatu\", \"tarifaire\", \"vivatech\", \"dr\", \"lafargeholcim\", \"nexity\", \"fongit\", \"futur.e.s\", \"ionis\", \"fabernovel\", \"autonomy\", \"adecco\", \"distinguin\", \"beauce\", \"casier\", \"d\\u00f4me\", \"noron\", \"fessenheim\", \"wsl\", \"millau\", \"graffiti\", \"frugale\", \"dap\", \"kobiac\", \"sevestre\", \"vladislav\", \"styx\", \"jugaad\", \"adequabio\", \"noyonnais\", \"cosens\", \"simone\", \"genevois\", \"indar\", \"antonio\", \"5g\", \"upvd\", \"real\", \"sapin\", \"lorente\", \"adp\", \"isf\", \"estate\", \"taxation\", \"cr\\u00e9a-job\", \"kennedy\", \"ipp\", \"cr\\u00e9atis\", \"estonie\", \"douglas\", \"2cube\", \"colis\", \"hasselt\", \"prenzlauer\", \"aubusson\", \"irrigation\", \"yvetot\", \"massot\", \"berg\", \"qvt\", \"h\\u00e9lo\\u00efse\", \"coirier\", \"rigal\", \"m\\u00e9c\\u00e8ne\", \"plo\\u00ebrmel\", \"perpignan\", \"agon\", \"continental\", \"jean-paul\", \"alg\\u00e9rie\", \"poool\", \"beaut\\u00e9\", \"masschallenge\", \"pepsico\", \"mendixka\", \"switzerland\", \"r\\u00e9jouissante\", \"corwave\", \"prevision.io\", \"malo\", \"yourself\", \"oubliette\", \"rochet\", \"saint-junien\", \"dix-huiti\\u00e8me\", \"lubomira\", \"podcast\", \"d\\u00e9cortiquer\", \"greenhouse\", \"opacit\\u00e9\", \"charritte-de-bas\", \"pr\\u00e9v\\u00f4tois\", \"eit\", \"snci\", \"c.a\", \"lor\\u00e9alien\", \"jardinage\", \"nutrition\", \"cosm\\u00e9tique\"], \"Total\": [39.0, 55.0, 30.0, 32.0, 26.0, 34.0, 39.0, 36.0, 22.0, 22.0, 22.0, 92.0, 35.0, 49.0, 13.0, 26.0, 18.0, 45.0, 14.0, 72.0, 23.0, 22.0, 34.0, 18.0, 27.0, 42.0, 13.0, 17.0, 17.0, 19.0, 113.96340942382812, 101.26302337646484, 88.08592987060547, 85.91632843017578, 78.72650146484375, 76.53620910644531, 75.32801818847656, 75.00946044921875, 73.32644653320312, 71.67443084716797, 71.14000701904297, 70.1065902709961, 69.90412902832031, 69.42206573486328, 68.45410919189453, 68.31945037841797, 68.06173706054688, 67.85324096679688, 67.45759582519531, 67.21598052978516, 66.51678466796875, 66.45161437988281, 66.15326690673828, 65.8109359741211, 64.12886047363281, 63.239444732666016, 63.17253112792969, 62.96290969848633, 62.83771514892578, 62.42554473876953, 80.78689575195312, 92.84461975097656, 86.97562408447266, 83.21939086914062, 92.30267333984375, 90.01058959960938, 69.40250396728516, 76.71815490722656, 72.59591674804688, 7.869689464569092, 6.364376544952393, 5.95094633102417, 5.491845607757568, 5.420773506164551, 4.884593963623047, 4.769655704498291, 4.575791358947754, 4.512745380401611, 4.323880195617676, 4.316657066345215, 4.280776023864746, 4.2423319816589355, 4.144295692443848, 4.094173908233643, 3.8185501098632812, 3.768458604812622, 3.7522847652435303, 3.7512929439544678, 3.695816993713379, 3.640887498855591, 3.6100823879241943, 3.5845284461975098, 3.5445098876953125, 4.392282009124756, 3.4135630130767822, 4.175440788269043, 3.3840105533599854, 3.363213300704956, 3.354809522628784, 4.550942420959473, 3.8170089721679688, 4.6429338455200195, 4.215987682342529, 4.7647175788879395, 4.293997287750244, 4.3431196212768555, 4.036477088928223, 3.9061684608459473, 2.3959028720855713, 2.3673908710479736, 2.284313917160034, 2.1855850219726562, 2.108881950378418, 1.6708518266677856, 1.6444727182388306, 1.6007963418960571, 1.5642520189285278, 1.5368956327438354, 3.0283498764038086, 1.4665251970291138, 1.4632986783981323, 1.446027159690857, 1.7139431238174438, 2.341461420059204, 0.9902181029319763, 0.874193012714386, 0.8680824637413025, 0.8103423714637756, 0.7613107562065125, 2.276501417160034, 0.7378086447715759, 0.8970538973808289, 0.6630097031593323, 0.6606102585792542, 0.6580904126167297, 0.6495729088783264, 0.6487634778022766, 0.6303619742393494, 5.24034309387207, 2.0988657474517822, 4.705975532531738, 6.354846000671387, 5.743753433227539, 2.392282485961914, 3.0423471927642822, 3.9477944374084473, 4.476515293121338, 7.129134654998779, 6.402029514312744, 3.5343029499053955, 26.888933181762695, 10.778119087219238, 30.022722244262695, 39.85407638549805, 14.829675674438477, 22.558977127075195, 1.2324546575546265, 0.9913764595985413, 0.9306865334510803, 0.9198388457298279, 0.9086712002754211, 0.8604161143302917, 0.9937400221824646, 0.7301056981086731, 0.7175092697143555, 0.6694391369819641, 0.6598692536354065, 1.076503038406372, 0.6554355025291443, 0.6534073948860168, 0.637323796749115, 0.6350780129432678, 0.6270663142204285, 0.6029563546180725, 0.6013444066047668, 0.6009044051170349, 0.5978375673294067, 0.580369770526886, 0.5796990990638733, 0.5760117173194885, 0.5716086030006409, 0.5713475346565247, 0.5551214814186096, 0.8562952876091003, 0.5500177145004272, 0.5331413149833679, 0.970715343952179, 0.7786126732826233, 0.7212733030319214, 0.7515550255775452, 1.7191106081008911, 1.5560065507888794, 1.2134665250778198, 1.0934957265853882, 1.091598391532898, 0.9882161021232605, 0.8881880640983582, 0.8216506838798523, 0.8133476376533508, 0.7361140847206116, 0.7193726897239685, 0.7084514498710632, 0.6705881953239441, 0.6600013375282288, 0.651068389415741, 0.6386706233024597, 0.6382240653038025, 0.6358795762062073, 0.6313175559043884, 0.6311249136924744, 0.6249505877494812, 0.6147869229316711, 0.5956613421440125, 0.8168720602989197, 0.5861702561378479, 0.5849830508232117, 0.5618146061897278, 0.556007981300354, 0.5488753914833069, 0.5361263155937195, 1.02863347530365, 1.053311824798584, 1.0293503999710083, 0.9837751984596252, 0.8902267813682556, 0.7338436841964722, 0.7224059700965881, 0.7147322297096252, 0.6951481699943542, 0.6914066672325134, 0.680289089679718, 0.6631538271903992, 0.6534262299537659, 0.6503056883811951, 0.6379441618919373, 0.6123791337013245, 0.6083800196647644, 0.8488515615463257, 0.568358838558197, 0.5505648851394653, 0.5504189729690552, 0.5494238138198853, 0.5194958448410034, 0.5163159966468811, 0.5125786662101746, 0.5092105269432068, 0.4972391128540039, 0.4972391128540039, 0.49622035026550293, 0.7388255000114441, 0.4906480312347412, 0.4862748980522156, 0.7035109400749207, 1.7035750150680542, 1.209114670753479, 1.5455089807510376, 0.9494591355323792, 0.9260393977165222, 1.0438811779022217, 0.6985886693000793, 0.6940034031867981, 0.8480822443962097, 0.6331458687782288, 0.7975485920906067, 0.5853930115699768, 0.5845686793327332, 0.5655911564826965, 0.5628769993782043, 0.5533137321472168, 0.5325199961662292, 0.5029649138450623, 0.49081164598464966, 0.47352176904678345, 0.47351884841918945, 0.46649712324142456, 0.45860767364501953, 0.4532172679901123, 0.4529415965080261, 0.44851815700531006, 0.44207143783569336, 0.44082939624786377, 0.44062694907188416, 0.43819546699523926, 0.4348708987236023, 0.5439222455024719, 1.3062371015548706, 0.9954001307487488, 0.9953168034553528, 0.9703642725944519, 0.9397739768028259, 0.8757503628730774, 0.8681403398513794, 0.5728396773338318, 0.74850994348526, 0.5235099196434021, 0.5235099196434021, 0.5189610123634338, 0.5189610123634338, 0.4825173020362854, 1.1672371625900269, 0.45868730545043945, 0.4419478178024292, 0.4389246106147766, 0.6908977627754211, 0.4290649890899658, 0.4178627133369446, 0.5687964558601379, 0.40124791860580444, 0.39743632078170776, 0.3956727385520935, 0.3946112394332886, 0.3829447031021118, 0.3799182176589966, 0.37828466296195984, 0.37659376859664917, 0.6251642107963562, 2.144104242324829, 3.130542039871216, 13.659588813781738, 5.941342353820801, 22.07526397705078, 9.0364351272583, 32.24663162231445, 13.820268630981445, 12.81453800201416, 18.989206314086914, 12.562187194824219, 18.642873764038086, 17.145877838134766, 13.4415922164917, 17.267467498779297, 14.687474250793457, 22.553691864013672, 26.4632511138916, 19.647809982299805, 22.895809173583984, 23.792526245117188, 1.0246634483337402, 1.0139884948730469, 1.0084233283996582, 1.0084233283996582, 0.7934834361076355, 0.695034921169281, 0.6277517676353455, 0.5672679543495178, 0.5475558042526245, 0.5218049883842468, 0.49427324533462524, 0.49389100074768066, 0.4811933636665344, 0.4672499895095825, 0.45418328046798706, 0.44268959760665894, 0.4348595142364502, 0.41544198989868164, 0.4135369062423706, 0.41078680753707886, 0.4050671458244324, 0.40280431509017944, 0.40032070875167847, 0.4002411365509033, 0.39824676513671875, 0.3946775794029236, 0.531617283821106, 0.3848702311515808, 0.5384602546691895, 0.379860520362854, 2.276501417160034, 0.8848758339881897, 22.286235809326172, 3.0283498764038086, 1.3053655624389648, 1.1542917490005493, 0.6450878977775574, 0.6365154385566711, 0.6272895932197571, 0.5396708250045776, 0.5347573161125183, 0.5199227929115295, 0.5154777765274048, 0.5055896043777466, 0.49431312084198, 0.4927104115486145, 0.4882435202598572, 0.4784542918205261, 0.4717487096786499, 0.47067105770111084, 0.45563167333602905, 0.44418609142303467, 0.43775665760040283, 0.43245577812194824, 0.428949773311615, 0.41696804761886597, 0.4134637713432312, 0.41258448362350464, 0.40971803665161133, 0.5443294644355774, 0.403964102268219, 0.4012637734413147, 0.4007915258407593, 0.3896254897117615, 0.48191338777542114, 0.86122727394104, 0.6268736124038696, 0.542934238910675, 0.5287010669708252, 0.513011634349823, 0.5119738578796387, 0.504097580909729, 0.4913848638534546, 0.4860684871673584, 0.4809887409210205, 0.47563403844833374, 0.47312402725219727, 0.6216481924057007, 0.41619205474853516, 0.4087751805782318, 0.4074475169181824, 0.40053778886795044, 0.6221224069595337, 0.3968349099159241, 0.3812772035598755, 0.3754270672798157, 0.37533247470855713, 0.3669382929801941, 0.3630371689796448, 0.3630371689796448, 0.36118942499160767, 0.35734987258911133, 0.3560163378715515, 0.6025897860527039, 0.3512687087059021, 0.5379833579063416, 0.527999758720398, 0.5629010796546936, 0.6060179471969604, 0.5740907788276672, 0.5434836149215698, 0.515069842338562, 0.5026566386222839, 0.4849361181259155, 0.952363908290863, 0.46670639514923096, 0.46620655059814453, 0.4609467387199402, 0.46094006299972534, 0.460044801235199, 0.45298516750335693, 0.448936402797699, 0.4446781277656555, 0.43849700689315796, 0.4371028542518616, 0.4344145655632019, 0.42266637086868286, 0.4123436212539673, 0.41129928827285767, 0.41129928827285767, 0.41129928827285767, 0.41083550453186035, 0.40905821323394775, 0.4057823419570923, 0.3843834400177002, 0.38361454010009766, 0.38291722536087036, 0.3804812431335449, 0.5424912571907043, 1.7771937847137451, 3.6809186935424805, 0.6949169039726257, 1.2169276475906372, 0.8056750893592834, 0.7889121770858765, 0.7424280047416687, 0.7145488262176514, 0.6765105724334717, 0.656495988368988, 0.6398481726646423, 0.6275703310966492, 0.53786700963974, 0.5340425372123718, 0.47266119718551636, 0.4705767035484314, 0.467512309551239, 0.46729815006256104, 0.45527729392051697, 0.4407999515533447, 0.43750250339508057, 0.4365593194961548, 0.4294721484184265, 0.42798709869384766, 0.4267169237136841, 0.42059412598609924, 0.5206446647644043, 0.4131622314453125, 0.4047228693962097, 0.39369696378707886, 0.3907047212123871, 0.3882392346858978, 0.38144272565841675, 0.44894301891326904, 1.3585511445999146, 2.286343812942505, 0.6659755706787109, 0.4624443054199219, 0.4548375606536865, 0.45343077182769775, 0.4497658610343933, 0.44886142015457153, 0.4477216601371765, 0.4394904375076294, 0.4287980794906616, 0.4174574017524719, 0.41175544261932373, 0.40087658166885376, 0.39283037185668945, 0.3868163526058197, 0.38224470615386963, 0.3743199408054352, 0.37156492471694946, 0.36814945936203003, 0.3635425567626953, 0.3403860926628113, 0.33907896280288696, 0.33763277530670166, 0.3358687162399292, 0.3338930606842041, 0.32817739248275757, 0.32525578141212463, 0.32226240634918213, 0.3220697045326233, 0.3213280141353607, 0.3191245198249817, 0.44927942752838135, 0.613384485244751, 0.5678646564483643, 0.5221927762031555, 0.4563104510307312, 0.44214048981666565, 0.8848758339881897, 0.431843101978302, 0.4148898124694824, 0.40295666456222534, 0.4017176032066345, 0.3949214816093445, 0.3727204203605652, 0.36557120084762573, 0.3508228659629822, 0.3453839421272278, 0.3355806767940521, 0.32805371284484863, 0.326332151889801, 0.3263310194015503, 0.3200681805610657, 0.3187585473060608, 0.31665855646133423, 0.31357330083847046, 0.31310468912124634, 0.31118422746658325, 0.3057079613208771, 0.30513834953308105, 0.30415505170822144, 0.3020457625389099, 0.30108994245529175, 0.44927942752838135, 0.7212733030319214, 1.076503038406372, 0.587764322757721, 0.5676481127738953, 0.5644113421440125, 0.509998619556427, 0.5091637969017029, 0.4995025396347046, 0.4995025396347046, 0.48144853115081787, 0.4550608694553375, 0.45444464683532715, 0.45130589604377747, 0.4440597891807556, 0.43274638056755066, 0.4310823976993561, 0.42475637793540955, 0.5036830902099609, 0.3889838755130768, 0.382633775472641, 0.3721366822719574, 0.36842837929725647, 0.35758140683174133, 0.3543170392513275, 0.35350045561790466, 0.5343189239501953, 0.34689226746559143, 0.33198216557502747, 0.32943370938301086, 0.32078680396080017, 0.3159695267677307, 0.5235347151756287, 0.852572500705719, 0.689103901386261, 0.5937878489494324, 0.5105745196342468, 0.4677627682685852, 0.43496280908584595, 0.6524417996406555, 0.41425055265426636, 0.4050370454788208, 0.4046109914779663, 0.40268152952194214, 0.3928763270378113, 0.38251611590385437, 0.6087841391563416, 0.3626434803009033, 0.3626434803009033, 0.3580155372619629, 0.35178107023239136, 0.474889874458313, 0.3510367274284363, 0.3451445698738098, 0.3441069424152374, 0.3436383605003357, 0.3421120047569275, 0.33522695302963257, 0.33042460680007935, 0.32682397961616516, 0.30611714720726013, 0.30511337518692017, 0.30439895391464233, 3.051560878753662, 7.622160911560059, 0.643755316734314, 0.59309983253479, 0.547828197479248, 0.4645015299320221, 0.4263424575328827, 0.4079103171825409, 0.40064531564712524, 0.39742282032966614, 0.3957407772541046, 0.3784498870372772, 0.36998650431632996, 0.3649330139160156, 0.6949169039726257, 0.3605969250202179, 0.35801294445991516, 0.3573050796985626, 0.351569265127182, 0.34793034195899963, 0.3470039665699005, 0.3433985114097595, 0.3433985114097595, 0.3393271863460541, 0.33544063568115234, 0.3336085379123688, 0.3335544168949127, 0.329267293214798, 0.32530251145362854, 0.32120099663734436, 0.38819921016693115, 0.31802278757095337, 0.5719250440597534, 0.5720691084861755, 0.561555027961731, 0.45900291204452515, 0.45349353551864624, 0.43406954407691956, 0.4167586863040924, 0.39845484495162964, 0.39369654655456543, 0.38540124893188477, 0.3732201159000397, 0.37127891182899475, 0.3662468194961548, 0.3645448684692383, 0.34481891989707947, 0.33966460824012756, 0.3385513424873352, 0.33271342515945435, 0.3300800323486328, 0.3292204737663269, 0.3265966475009918, 0.32448768615722656, 0.3222797214984894, 0.311583012342453, 0.29687854647636414, 0.29320207238197327, 0.2869272530078888, 0.2858238220214844, 0.28451913595199585, 0.2825065553188324, 0.28019219636917114, 0.970715343952179, 0.5339688658714294, 0.4774148762226105, 0.463874876499176, 0.41300585865974426, 0.40198662877082825, 0.96747225522995, 0.3749939203262329, 0.4824143946170807, 0.36997073888778687, 0.36378782987594604, 0.3574409484863281, 0.34394967555999756, 0.339956134557724, 0.332507848739624, 0.4829659163951874, 0.32597360014915466, 0.4737018644809723, 0.31525707244873047, 0.31225842237472534, 0.453321248292923, 0.30796191096305847, 0.299601286649704, 0.29799821972846985, 0.29596051573753357, 0.2929193675518036, 0.2889430820941925, 0.28534454107284546, 0.28111132979393005, 0.2504928410053253, 0.23710748553276062, 0.85978102684021, 1.7132498025894165, 4.293997287750244], \"loglift\": [30.0, 29.0, 28.0, 27.0, 26.0, 25.0, 24.0, 23.0, 22.0, 21.0, 20.0, 19.0, 18.0, 17.0, 16.0, 15.0, 14.0, 13.0, 12.0, 11.0, 10.0, 9.0, 8.0, 7.0, 6.0, 5.0, 4.0, 3.0, 2.0, 1.0, 0.23080000281333923, 0.23070000112056732, 0.2303999960422516, 0.2303999960422516, 0.23019999265670776, 0.23019999265670776, 0.23019999265670776, 0.23010000586509705, 0.23010000586509705, 0.23010000586509705, 0.23000000417232513, 0.23000000417232513, 0.23000000417232513, 0.23000000417232513, 0.23000000417232513, 0.22990000247955322, 0.22990000247955322, 0.22990000247955322, 0.22990000247955322, 0.22990000247955322, 0.22990000247955322, 0.22990000247955322, 0.22990000247955322, 0.22990000247955322, 0.2298000007867813, 0.2298000007867813, 0.2298000007867813, 0.2298000007867813, 0.2298000007867813, 0.2296999990940094, 0.22930000722408295, 0.22769999504089355, 0.22830000519752502, 0.22789999842643738, 0.22679999470710754, 0.22689999639987946, 0.22920000553131104, 0.22589999437332153, 0.22349999845027924, 3.0369999408721924, 3.031399965286255, 3.029400110244751, 3.026700019836426, 3.0262999534606934, 3.0225000381469727, 3.0216000080108643, 3.01990008354187, 3.0192999839782715, 3.0174999237060547, 3.017400026321411, 3.0171000957489014, 3.016700029373169, 3.0155999660491943, 3.015000104904175, 3.011699914932251, 3.010999917984009, 3.0107998847961426, 3.0107998847961426, 3.009999990463257, 3.0092999935150146, 3.0088000297546387, 3.008500099182129, 3.0078999996185303, 3.0062999725341797, 3.0058000087738037, 3.0053999423980713, 3.0053000450134277, 3.005000114440918, 3.0048000812530518, 3.0035998821258545, 3.0044000148773193, 2.996500015258789, 2.998500108718872, 2.990000009536743, 2.9941999912261963, 2.9909000396728516, 2.989000082015991, 2.979300022125244, 4.206500053405762, 4.20550012588501, 4.202199935913086, 4.19789981842041, 4.194300174713135, 4.167099952697754, 4.164999961853027, 4.161300182342529, 4.158100128173828, 4.1554999351501465, 4.151500225067139, 4.148499965667725, 4.148099899291992, 4.146299839019775, 4.108699798583984, 4.073400020599365, 4.071499824523926, 4.0381999015808105, 4.036200046539307, 4.015200138092041, 3.9944000244140625, 3.9892001152038574, 3.9834001064300537, 3.9590001106262207, 3.941699981689453, 3.940200090408325, 3.9386000633239746, 3.933000087738037, 3.932499885559082, 3.919800043106079, 3.8785998821258545, 3.8789000511169434, 3.835599899291992, 3.8029000759124756, 3.697499990463257, 3.7607998847961426, 3.596400022506714, 3.442199945449829, 3.3578999042510986, 2.877000093460083, 2.8406999111175537, 3.1226999759674072, 1.676800012588501, 2.22979998588562, 1.3955999612808228, 1.1406999826431274, 1.9699000120162964, 1.5680999755859375, 4.268899917602539, 4.22160005569458, 4.2052998542785645, 4.202099800109863, 4.198800086975098, 4.18310022354126, 4.153200149536133, 4.128699779510498, 4.122200012207031, 4.094699859619141, 4.088699817657471, 4.086599826812744, 4.0858001708984375, 4.084499835968018, 4.073500156402588, 4.071899890899658, 4.066199779510498, 4.047699928283691, 4.04640007019043, 4.04610013961792, 4.043600082397461, 4.02869987487793, 4.02810001373291, 4.024799823760986, 4.0208001136779785, 4.020500183105469, 4.005099773406982, 4.001299858093262, 3.9999001026153564, 3.982100009918213, 3.95770001411438, 3.940000057220459, 3.854599952697754, 3.8050999641418457, 4.388400077819824, 4.37470006942749, 4.332900047302246, 4.311399936676025, 4.310999870300293, 4.287600040435791, 4.259099960327148, 4.2357001304626465, 4.232500076293945, 4.198299884796143, 4.189799785614014, 4.183899879455566, 4.161900043487549, 4.155200004577637, 4.1493000984191895, 4.1407999992370605, 4.140500068664551, 4.138899803161621, 4.1356000900268555, 4.135499954223633, 4.13100004196167, 4.123300075531006, 4.107999801635742, 4.105299949645996, 4.099999904632568, 4.098899841308594, 4.077700138092041, 4.0721001625061035, 4.064899921417236, 4.051499843597412, 3.634000062942505, 3.4377999305725098, 4.360400199890137, 4.349299907684326, 4.322500228881836, 4.259699821472168, 4.253799915313721, 4.249800205230713, 4.238999843597412, 4.236800193786621, 4.230199813842773, 4.219600200653076, 4.213200092315674, 4.21120023727417, 4.202600002288818, 4.183700084686279, 4.180600166320801, 4.165800094604492, 4.146100044250488, 4.128699779510498, 4.128499984741211, 4.127500057220459, 4.094600200653076, 4.090799808502197, 4.086299896240234, 4.082099914550781, 4.066699981689453, 4.066699981689453, 4.065299987792969, 4.064899921417236, 4.057799816131592, 4.051700115203857, 4.0046000480651855, 3.3361001014709473, 4.4704999923706055, 4.452400207519531, 4.41540002822876, 4.408699989318848, 4.33519983291626, 4.315800189971924, 4.313199996948242, 4.294099807739258, 4.27400016784668, 4.26609992980957, 4.236100196838379, 4.235400199890137, 4.2179999351501465, 4.215400218963623, 4.205999851226807, 4.183899879455566, 4.148499965667725, 4.132199764251709, 4.1072001457214355, 4.1072001457214355, 4.09630012512207, 4.083499908447266, 4.074399948120117, 4.07390022277832, 4.066199779510498, 4.054599761962891, 4.052299976348877, 4.0518999099731445, 4.047299861907959, 4.040999889373779, 3.963599920272827, 4.4994001388549805, 4.44189977645874, 4.44189977645874, 4.435400009155273, 4.427000045776367, 4.407299995422363, 4.2555999755859375, 4.238999843597412, 4.232600212097168, 4.18779993057251, 4.18779993057251, 4.182400226593018, 4.182400226593018, 4.134500026702881, 4.133999824523926, 4.097599983215332, 4.068299770355225, 4.062600135803223, 4.054900169372559, 4.043499946594238, 4.020199775695801, 4.005799770355225, 3.9820001125335693, 3.972599983215332, 3.968100070953369, 3.965399980545044, 3.9340999126434326, 3.92549991607666, 3.920799970626831, 3.915800094604492, 3.7980000972747803, 3.4219000339508057, 3.183500051498413, 2.269700050354004, 2.4630000591278076, 1.3700000047683716, 1.9473999738693237, 1.0295000076293945, 1.5758999586105347, 1.5009000301361084, 1.1359000205993652, 1.4567999839782715, 1.0542000532150269, 1.1158000230789185, 1.312000036239624, 1.0781999826431274, 1.1829999685287476, 0.7908999919891357, 0.608299970626831, 0.8169000148773193, 0.6743000149726868, 0.6101999878883362, 4.541900157928467, 4.539299964904785, 4.538000106811523, 4.538000106811523, 4.469099998474121, 4.420599937438965, 4.3765997886657715, 4.325900077819824, 4.306300163269043, 4.277699947357178, 4.242800235748291, 4.242199897766113, 4.224299907684326, 4.203000068664551, 4.18149995803833, 4.160999774932861, 4.146200180053711, 4.105999946594238, 4.101799964904785, 4.0954999923706055, 4.082200050354004, 4.0767998695373535, 4.070700168609619, 4.070499897003174, 4.065499782562256, 4.05649995803833, 4.03980016708374, 4.030200004577637, 4.025400161743164, 4.015999794006348, 3.0318000316619873, 3.3441998958587646, 0.4867999851703644, 2.0757999420166016, 4.599899768829346, 4.445199966430664, 4.396500110626221, 4.390500068664551, 4.383800029754639, 4.305300235748291, 4.299900054931641, 4.282899856567383, 4.277500152587891, 4.265200138092041, 4.250199794769287, 4.2480998039245605, 4.241799831390381, 4.227700233459473, 4.21750020980835, 4.215799808502197, 4.191299915313721, 4.171199798583984, 4.159200191497803, 4.148900032043457, 4.141900062561035, 4.116700172424316, 4.109000205993652, 4.10699987411499, 4.100399971008301, 4.0970001220703125, 4.086900234222412, 4.080399990081787, 4.07919979095459, 4.05049991607666, 3.940700054168701, 4.508399963378906, 4.389200210571289, 4.314599990844727, 4.298900127410889, 4.280300140380859, 4.2789998054504395, 4.269000053405762, 4.251999855041504, 4.244500160217285, 4.237199783325195, 4.2291998863220215, 4.225399971008301, 4.152900218963623, 4.120800018310547, 4.104000091552734, 4.100900173187256, 4.0843000411987305, 4.084099769592285, 4.075099945068359, 4.033100128173828, 4.015999794006348, 4.015699863433838, 3.989500045776367, 3.9767000675201416, 3.9767000675201416, 3.9704999923706055, 3.957200050354004, 3.952500104904175, 3.937700033187866, 3.9351999759674072, 3.8721001148223877, 3.7044999599456787, 3.5945000648498535, 4.385900020599365, 4.35830020904541, 4.328000068664551, 4.295599937438965, 4.279900074005127, 4.2555999755859375, 4.2399001121521, 4.228099822998047, 4.22730016708374, 4.218699932098389, 4.218699932098389, 4.217199802398682, 4.2052998542785645, 4.198200225830078, 4.190499782562256, 4.178999900817871, 4.176400184631348, 4.171199798583984, 4.14739990234375, 4.124800205230713, 4.122499942779541, 4.122499942779541, 4.122499942779541, 4.121399879455566, 4.117300033569336, 4.109600067138672, 4.054500102996826, 4.0524001121521, 4.0503997802734375, 4.043399810791016, 4.019000053405762, 3.3375000953674316, 2.513200044631958, 3.4779000282287598, 4.571400165557861, 4.505000114440918, 4.498000144958496, 4.476600170135498, 4.462200164794922, 4.440299987792969, 4.427499771118164, 4.416100025177002, 4.407199859619141, 4.326499938964844, 4.322299957275391, 4.2418999671936035, 4.238699913024902, 4.23390007019043, 4.233500003814697, 4.213699817657471, 4.187900066375732, 4.181600093841553, 4.179800033569336, 4.165900230407715, 4.162899971008301, 4.160299777984619, 4.147500038146973, 4.142399787902832, 4.131199836730957, 4.111599922180176, 4.084099769592285, 4.076200008392334, 4.0696001052856445, 4.0507001876831055, 3.975399971008301, 3.218400001525879, 2.481800079345703, 4.473700046539307, 4.265399932861328, 4.252699851989746, 4.25029993057251, 4.243899822235107, 4.242300033569336, 4.240200042724609, 4.225100040435791, 4.20419979095459, 4.180300235748291, 4.167500019073486, 4.1417999267578125, 4.121300220489502, 4.105100154876709, 4.092400074005127, 4.068999767303467, 4.060500144958496, 4.049699783325195, 4.0346999168396, 3.948499917984009, 3.943000078201294, 3.9368999004364014, 3.92930006980896, 3.920599937438965, 3.8945000171661377, 3.880500078201294, 3.8657000064849854, 3.8647000789642334, 3.8610000610351562, 3.849600076675415, 3.6698999404907227, 4.478400230407715, 4.439000129699707, 4.390399932861328, 4.296899795532227, 4.271599769592285, 4.253600120544434, 4.251800060272217, 4.216100215911865, 4.188300132751465, 4.185200214385986, 4.168099880218506, 4.105299949645996, 4.082499980926514, 4.030600070953369, 4.0096001625061035, 3.9688000679016113, 3.9346001148223877, 3.9263999462127686, 3.9263999462127686, 3.8951001167297363, 3.888200044631958, 3.8770999908447266, 3.8601999282836914, 3.8575000762939453, 3.84660005569458, 3.8141000270843506, 3.8106000423431396, 3.8043999671936035, 3.7909998893737793, 3.7848000526428223, 3.5104000568389893, 3.158799886703491, 2.7727999687194824, 4.4633002281188965, 4.445000171661377, 4.441800117492676, 4.381700038909912, 4.3805999755859375, 4.368100166320801, 4.368100166320801, 4.342800140380859, 4.300899982452393, 4.299799919128418, 4.294300079345703, 4.281300067901611, 4.259699821472168, 4.256400108337402, 4.243500232696533, 4.195400238037109, 4.158400058746338, 4.1407999992370605, 4.109499931335449, 4.097799777984619, 4.061299800872803, 4.049600124359131, 4.046599864959717, 4.034299850463867, 4.021599769592285, 3.9588000774383545, 3.947000026702881, 3.9047000408172607, 3.879300117492676, 3.849900007247925, 4.639400005340576, 4.564000129699707, 4.496300220489502, 4.409999847412109, 4.349400043487549, 4.291500091552734, 4.289999961853027, 4.2480998039245605, 4.2266998291015625, 4.2256999015808105, 4.2210001945495605, 4.196100234985352, 4.167699813842773, 4.146699905395508, 4.105899810791016, 4.105899810791016, 4.090000152587891, 4.067299842834473, 4.067200183868408, 4.064499855041504, 4.0416998863220215, 4.037600040435791, 4.035699844360352, 4.0295000076293945, 4.000199794769287, 3.978600025177002, 3.9616000652313232, 3.849100112915039, 3.842900037765503, 3.8385000228881836, 2.171099901199341, 1.1019999980926514, 4.536399841308594, 4.497200012207031, 4.4542999267578125, 4.345600128173828, 4.275700092315674, 4.235099792480469, 4.21750020980835, 4.209400177001953, 4.205100059509277, 4.157400131225586, 4.131499767303467, 4.115099906921387, 4.111999988555908, 4.100500106811523, 4.0914998054504395, 4.089000225067139, 4.0680999755859375, 4.054200172424316, 4.050600051879883, 4.036200046539307, 4.036200046539307, 4.019400119781494, 4.002699851989746, 3.9946000576019287, 3.99429988861084, 3.9746999740600586, 3.955699920654297, 3.9351999759674072, 3.9230000972747803, 3.918600082397461, 3.3338000774383545, 4.499499797821045, 4.4893999099731445, 4.357600212097168, 4.348199844360352, 4.312300205230713, 4.276199817657471, 4.232900142669678, 4.220699787139893, 4.198200225830078, 4.162399768829346, 4.156400203704834, 4.140200138092041, 4.1346001625061035, 4.062600135803223, 4.041500091552734, 4.036799907684326, 4.011199951171875, 3.9990999698638916, 3.9951000213623047, 3.982599973678589, 3.9723000526428223, 3.961199998855591, 3.9035000801086426, 3.810699939727783, 3.7844998836517334, 3.736599922180176, 3.7276999950408936, 3.716900110244751, 3.700000047683716, 3.679800033569336, 3.2558000087738037, 4.492499828338623, 4.418900012969971, 4.397600173950195, 4.299499988555908, 4.273399829864502, 4.1996002197265625, 4.19950008392334, 4.190100193023682, 4.183800220489502, 4.163599967956543, 4.14169979095459, 4.0904998779296875, 4.074100017547607, 4.041500091552734, 4.013500213623047, 4.010799884796143, 3.987799882888794, 3.955199956893921, 3.9384000301361084, 3.9351000785827637, 3.9131999015808105, 3.860100030899048, 3.849299907684326, 3.835099935531616, 3.813199996948242, 3.783099889755249, 3.754300117492676, 3.718400001525879, 3.359299898147583, 3.105799913406372, 2.686500072479248, 2.0357000827789307, 1.1921000480651855], \"logprob\": [30.0, 29.0, 28.0, 27.0, 26.0, 25.0, 24.0, 23.0, 22.0, 21.0, 20.0, 19.0, 18.0, 17.0, 16.0, 15.0, 14.0, 13.0, 12.0, 11.0, 10.0, 9.0, 8.0, 7.0, 6.0, 5.0, 4.0, 3.0, 2.0, 1.0, -6.241799831390381, -6.360099792480469, -6.49970006942749, -6.524700164794922, -6.612199783325195, -6.640500068664551, -6.656400203704834, -6.660699844360352, -6.6834001541137695, -6.706299781799316, -6.713799953460693, -6.728400230407715, -6.731299877166748, -6.73829984664917, -6.752299785614014, -6.754300117492676, -6.7581000328063965, -6.761199951171875, -6.767000198364258, -6.770599842071533, -6.781099796295166, -6.782100200653076, -6.786600112915039, -6.791800022125244, -6.817800045013428, -6.8317999839782715, -6.832799911499023, -6.836100101470947, -6.838099956512451, -6.844699859619141, -6.587399959564209, -6.44980001449585, -6.514599800109863, -6.559100151062012, -6.456600189208984, -6.4816999435424805, -6.739299774169922, -6.642499923706055, -6.700099945068359, -6.108500003814697, -6.326399803161621, -6.395599842071533, -6.478499889373779, -6.4918999671936035, -6.599899768829346, -6.624599933624268, -6.667799949645996, -6.682199954986572, -6.726799964904785, -6.728600025177002, -6.737299919128418, -6.746699810028076, -6.771100044250488, -6.78380012512207, -6.856900215148926, -6.870699882507324, -6.87529993057251, -6.875500202178955, -6.891200065612793, -6.9070000648498535, -6.915900230407715, -6.923399925231934, -6.935200214385986, -6.722300052642822, -6.974899768829346, -6.773900032043457, -6.984099864959717, -6.990600109100342, -6.993299961090088, -6.689499855041504, -6.86460018157959, -6.676599979400635, -6.770999908447266, -6.657299995422363, -6.756999969482422, -6.748899936676025, -6.824100017547607, -6.866600036621094, -6.128200054168701, -6.141200065612793, -6.180200099945068, -6.228600025177002, -6.26800012588501, -6.5279998779296875, -6.546000003814697, -6.576600074768066, -6.603000164031982, -6.623199939727783, -5.94890022277832, -6.67710018157959, -6.679599761962891, -6.693399906158447, -6.5609002113342285, -6.284299850463867, -7.1468000411987305, -7.304699897766113, -7.313799858093262, -7.403600215911865, -7.486700057983398, -6.396599769592285, -7.529200077056885, -7.358099937438965, -7.677700042724609, -7.682799816131592, -7.688300132751465, -7.706900119781494, -7.708700180053711, -7.750100135803223, -5.673500061035156, -6.588200092315674, -5.823999881744385, -5.556300163269043, -5.762899875640869, -6.575399875640869, -6.4994001388549805, -6.393099784851074, -6.3516998291015625, -6.367300033569336, -6.511099815368652, -6.823200225830078, -6.239999771118164, -6.601200103759766, -6.410900115966797, -6.382500171661377, -6.541900157928467, -6.5243000984191895, -6.730599880218506, -6.995500087738037, -7.074999809265137, -7.089900016784668, -7.105500221252441, -7.1757001876831055, -7.061500072479248, -7.3942999839782715, -7.4182000160217285, -7.514999866485596, -7.5355000495910645, -7.048099994659424, -7.545100212097168, -7.549600124359131, -7.585400104522705, -7.5904998779296875, -7.609000205993652, -7.666600227355957, -7.670599937438965, -7.6717000007629395, -7.679299831390381, -7.723899841308594, -7.725599765777588, -7.735300064086914, -7.747000217437744, -7.747700214385986, -7.791999816894531, -7.362299919128418, -7.806300163269043, -7.855299949645996, -7.280399799346924, -7.518700122833252, -7.680600166320801, -7.688899993896484, -6.278200149536133, -6.391600131988525, -6.68209981918335, -6.807700157165527, -6.809800148010254, -6.932700157165527, -7.06790018081665, -7.1691999435424805, -7.182600021362305, -7.316500186920166, -7.348100185394287, -7.369200229644775, -7.446199893951416, -7.468800067901611, -7.48829984664917, -7.515999794006348, -7.517000198364258, -7.522299766540527, -7.532800197601318, -7.533199787139893, -7.547599792480469, -7.571599960327148, -7.618500232696533, -7.3053998947143555, -7.642600059509277, -7.645699977874756, -7.707300186157227, -7.723400115966797, -7.7434000968933105, -7.780399799346924, -7.546199798583984, -7.718699932098389, -6.819200038909912, -6.875500202178955, -7.002200126647949, -7.258200168609619, -7.279799938201904, -7.29449987411499, -7.333099842071533, -7.340700149536133, -7.363500118255615, -7.399600028991699, -7.4207000732421875, -7.427599906921387, -7.4552998542785645, -7.515100002288818, -7.524799823760986, -7.206500053405762, -7.627399921417236, -7.676599979400635, -7.677000045776367, -7.679800033569336, -7.768799781799316, -7.77869987487793, -7.790500164031982, -7.801300048828125, -7.840400218963623, -7.840400218963623, -7.843900203704834, -7.446300029754639, -7.86269998550415, -7.877699851989746, -7.555500030517578, -7.339600086212158, -6.548099994659424, -6.320700168609619, -6.844900131225586, -6.8765997886657715, -6.8302998542785645, -7.251299858093262, -7.260499954223633, -7.079100131988525, -7.391499996185303, -7.168600082397461, -7.507800102233887, -7.510000228881836, -7.560299873352051, -7.567699909210205, -7.594299793243408, -7.654699802398682, -7.747200012207031, -7.787899971008301, -7.848899841308594, -7.848899841308594, -7.87470006942749, -7.904600143432617, -7.92549991607666, -7.926599979400635, -7.9440999031066895, -7.970200061798096, -7.975299835205078, -7.976099967956543, -7.986199855804443, -8.000100135803223, -7.853799819946289, -6.44189977645874, -6.771200180053711, -6.771299839019775, -6.803100109100342, -6.843500137329102, -6.933800220489502, -7.094200134277344, -7.526599884033203, -7.265500068664551, -7.667900085449219, -7.667900085449219, -7.682000160217285, -7.682000160217285, -7.802700042724609, -6.9197998046875, -7.8902997970581055, -7.9567999839782715, -7.969299793243408, -7.5233001708984375, -8.011099815368652, -8.06089973449707, -7.766900062561035, -8.139599800109863, -8.158599853515625, -8.167499542236328, -8.172900199890137, -8.234199523925781, -8.250699996948242, -8.25979995727539, -8.269200325012207, -7.880199909210205, -7.023900032043457, -6.883699893951416, -6.3242998123168945, -6.963500022888184, -6.74399995803833, -7.059800148010254, -6.70550012588501, -7.006400108337402, -7.156899929046631, -7.128699779510498, -7.220900058746338, -7.228799819946289, -7.250800132751465, -7.298099994659424, -7.281400203704834, -7.338500022888184, -7.301599979400635, -7.324399948120117, -7.41349983215332, -7.403200149536133, -7.428899765014648, -6.642199993133545, -6.655200004577637, -6.662099838256836, -6.662099838256836, -6.970699787139893, -7.151700019836426, -7.297399997711182, -7.44950008392334, -7.504499912261963, -7.581200122833252, -7.670400142669678, -7.671599864959717, -7.71560001373291, -7.766300201416016, -7.816199779510498, -7.862299919128418, -7.894999980926514, -7.980899810791016, -7.989699840545654, -8.002599716186523, -8.029999732971191, -8.041000366210938, -8.053299903869629, -8.053600311279297, -8.063599586486816, -8.081700325012207, -7.80049991607666, -8.133099555969238, -7.80210018157959, -8.160400390625, -7.354000091552734, -7.986599922180176, -7.617599964141846, -8.0246000289917, -6.3420000076293945, -6.619800090789795, -7.25029993057251, -7.269700050354004, -7.290999889373779, -7.519899845123291, -7.53439998626709, -7.579599857330322, -7.593599796295166, -7.62529993057251, -7.662799835205078, -7.6682000160217285, -7.683599948883057, -7.7179999351501465, -7.742300033569336, -7.746200084686279, -7.803199768066406, -7.848800182342529, -7.875400066375732, -7.897799968719482, -7.913000106811523, -7.9664998054504395, -7.982699871063232, -7.986800193786621, -8.000300407409668, -7.719600200653076, -8.027999877929688, -8.041199684143066, -8.043600082397461, -8.100500106811523, -7.997700214385986, -6.849400043487549, -7.286200046539307, -7.5046000480651855, -7.546899795532227, -7.595600128173828, -7.598899841308594, -7.6244001388549805, -7.666999816894531, -7.685299873352051, -7.703199863433838, -7.722400188446045, -7.731500148773193, -7.530900001525879, -7.964300155639648, -7.999000072479248, -8.005399703979492, -8.03909969329834, -7.598999977111816, -8.057600021362305, -8.13949966430664, -8.172200202941895, -8.172699928283691, -8.221500396728516, -8.244999885559082, -8.244999885559082, -8.25629997253418, -8.28030014038086, -8.288700103759766, -7.777200222015381, -8.3193998336792, -7.956299781799316, -8.1427001953125, -8.188599586486816, -7.323400020599365, -7.405099868774414, -7.490200042724609, -7.576300144195557, -7.616399765014648, -7.676499843597412, -7.017300128936768, -7.742400169372559, -7.74429988861084, -7.764200210571289, -7.764200210571289, -7.7677001953125, -7.795100212097168, -7.811200141906738, -7.8282999992370605, -7.853799819946289, -7.8597002029418945, -7.870999813079834, -7.9222002029418945, -7.9695000648498535, -7.974400043487549, -7.974400043487549, -7.974400043487549, -7.976600170135498, -7.985000133514404, -8.000800132751465, -8.109999656677246, -8.1141996383667, -8.118000030517578, -8.13129997253418, -7.801000118255615, -7.295899868011475, -7.392099857330322, -8.094499588012695, -6.440700054168701, -6.91949987411499, -6.9475998878479, -7.029699802398682, -7.082300186157227, -7.158999919891357, -7.2017998695373535, -7.238900184631348, -7.267199993133545, -7.502099990844727, -7.513400077819824, -7.71589994430542, -7.723499774932861, -7.734899997711182, -7.7357001304626465, -7.781599998474121, -7.839700222015381, -7.853499889373779, -7.857399940490723, -7.887700080871582, -7.894199848175049, -7.899799823760986, -7.92710018157959, -7.718800067901611, -7.96120023727417, -8.001399993896484, -8.056500434875488, -8.071999549865723, -8.085000038146973, -8.121600151062012, -8.034000396728516, -7.683700084686279, -7.899700164794922, -7.141300201416016, -7.714200019836426, -7.743599891662598, -7.749100208282471, -7.763599872589111, -7.767199993133545, -7.7718000411987305, -7.805500030517578, -7.851099967956543, -7.901700019836426, -7.928199768066406, -7.980800151824951, -8.021499633789062, -8.053099632263184, -8.077799797058105, -8.122099876403809, -8.137999534606934, -8.157999992370605, -8.185700416564941, -8.337599754333496, -8.347000122070312, -8.357399940490723, -8.370200157165527, -8.38479995727539, -8.428199768066406, -8.45110034942627, -8.475199699401855, -8.476699829101562, -8.482799530029297, -8.50100040435791, -8.338700294494629, -7.218800067901611, -7.335400104522705, -7.467800140380859, -7.696199893951416, -7.752900123596191, -7.077199935913086, -7.796299934387207, -7.872099876403809, -7.929100036621094, -7.935200214385986, -7.969399929046631, -8.090100288391113, -8.132200241088867, -8.225299835205078, -8.261899948120117, -8.331500053405762, -8.388400077819824, -8.401900291442871, -8.401900291442871, -8.45259952545166, -8.463500022888184, -8.481300354003906, -8.508000373840332, -8.512100219726562, -8.529199600219727, -8.579500198364258, -8.58489990234375, -8.594200134277344, -8.61460018157959, -8.62399959564209, -8.498100280761719, -8.376399993896484, -8.362000465393066, -7.276500225067139, -7.329800128936768, -7.338600158691406, -7.500100135803223, -7.502799987792969, -7.5345001220703125, -7.5345001220703125, -7.59660005569458, -7.694900035858154, -7.697299957275391, -7.709700107574463, -7.738900184631348, -7.786300182342529, -7.793499946594238, -7.821199893951416, -7.698800086975098, -7.994200229644775, -8.028300285339355, -8.087400436401367, -8.109100341796875, -8.17549991607666, -8.196399688720703, -8.201700210571289, -7.800899982452393, -8.245599746704102, -8.352399826049805, -8.371800422668457, -8.440699577331543, -8.481300354003906, -8.00570011138916, -6.728499889373779, -7.0167999267578125, -7.233399868011475, -7.470699787139893, -7.618899822235107, -7.7494001388549805, -7.3454999923706055, -7.841599941253662, -7.885499954223633, -7.887599945068359, -7.896999835968018, -7.946599960327148, -8.001700401306152, -7.558000087738037, -8.116800308227539, -8.116800308227539, -8.145700454711914, -8.18589973449707, -7.885900020599365, -8.190799713134766, -8.230500221252441, -8.237700462341309, -8.240900039672852, -8.25160026550293, -8.301199913024902, -8.337300300598145, -8.36520004272461, -8.543100357055664, -8.552599906921387, -8.559399604797363, -7.9217000007629395, -8.075400352478027, -7.112500190734863, -7.233699798583984, -7.355899810791016, -7.6296000480651855, -7.785200119018555, -7.870100021362305, -7.905600070953369, -7.921800136566162, -7.930300235748291, -8.022700309753418, -8.071200370788574, -8.101400375366211, -7.460400104522705, -8.128000259399414, -8.144200325012207, -8.148699760437012, -8.185799598693848, -8.210000038146973, -8.216300010681152, -8.241100311279297, -8.241100311279297, -8.269800186157227, -8.298100471496582, -8.311699867248535, -8.312100410461426, -8.344599723815918, -8.375699996948242, -8.409000396728516, -8.231599807739258, -8.435500144958496, -8.43340015411377, -7.267499923706055, -7.29610013961792, -7.6296000480651855, -7.651100158691406, -7.7307000160217285, -7.807499885559082, -7.895699977874756, -7.920000076293945, -7.963699817657471, -8.031599998474121, -8.042900085449219, -8.072699546813965, -8.083000183105469, -8.210599899291992, -8.246800422668457, -8.254799842834473, -8.297800064086914, -8.31779956817627, -8.324399948120117, -8.344900131225586, -8.361700057983398, -8.379599571228027, -8.470999717712402, -8.612199783325195, -8.650799751281738, -8.720399856567383, -8.733200073242188, -8.748499870300293, -8.772500038146973, -8.80090045928955, -7.982399940490723, -7.343400001525879, -7.5289998054504395, -7.578999996185303, -7.7932000160217285, -7.84630012512207, -7.041900157928467, -7.989799976348877, -7.747300148010254, -8.019000053405762, -8.055999755859375, -8.095600128173828, -8.185199737548828, -8.213299751281738, -8.267999649047852, -7.922699928283691, -8.318599700927734, -7.967800140380859, -8.407600402832031, -8.434000015258789, -8.064499855041504, -8.472999572753906, -8.553600311279297, -8.569899559020996, -8.590900421142578, -8.623100280761719, -8.666899681091309, -8.708200454711914, -8.759099960327148, -9.233499526977539, -9.541899681091309, -8.67300033569336, -8.634400367736816, -8.559200286865234]}, \"token.table\": {\"Topic\": [3, 9, 1, 3, 12, 2, 3, 1, 8, 1, 3, 3, 3, 1, 1, 3, 1, 8, 3, 1, 1, 2, 1, 3, 5, 1, 3, 4, 1, 3, 1, 3, 2, 3, 2, 5, 2, 7, 5, 1, 1, 8, 1, 2, 2, 3, 2, 1, 2, 7, 1, 3, 2, 3, 2, 5, 1, 2, 2, 1, 3, 2, 2, 8, 2, 1, 3, 1, 8, 4, 1, 8, 1, 8, 8, 1, 2, 1, 2, 1, 1, 3, 10, 1, 3, 1, 3, 1, 3, 1, 8, 2, 8, 2, 1, 1, 1, 2, 1, 4, 8, 1, 1, 4, 1, 1, 2, 2, 8, 1, 1, 3, 1, 2, 6, 6, 3, 8, 9, 8, 2, 2, 2, 1, 1, 8, 1, 8, 1, 3, 1, 6, 1, 2, 3, 1, 2, 4, 2, 1, 5, 2, 11, 2, 7, 13, 1, 3, 2, 3, 2, 1, 8, 2, 6, 1, 1, 8, 5, 3, 7, 13, 2, 1, 2, 3, 7, 7, 4, 4, 6, 1, 3, 4, 5, 9, 9, 1, 1, 1, 7, 1, 2, 3, 1, 1, 1, 3, 1, 6, 1, 3, 1, 4, 2, 1, 3, 1, 1, 3, 2, 1, 1, 1, 17, 4, 3, 1, 8, 3, 5, 13, 3, 1, 2, 1, 7, 3, 1, 3, 10, 1, 8, 1, 2, 1, 5, 5, 5, 5, 4, 1, 2, 1, 13, 2, 1, 6, 1, 1, 13, 1, 3, 3, 2, 1, 3, 3, 3, 1, 3, 4, 9, 2, 5, 1, 3, 2, 3, 1, 2, 2, 2, 3], \"Freq\": [0.9906384944915771, 1.2602657079696655, 0.3482043743133545, 0.5223065614700317, 1.0500187873840332, 1.0165585279464722, 0.8785410523414612, 0.9364364147186279, 0.078036367893219, 0.9326269626617432, 0.06661620736122131, 0.8347584009170532, 0.8755363821983337, 0.991491973400116, 0.9534783959388733, 0.050183072686195374, 0.885304868221283, 0.11066310852766037, 1.1439121961593628, 1.0034739971160889, 0.9932165145874023, 0.9266430139541626, 0.4180108308792114, 0.4180108308792114, 1.2294865846633911, 0.9821609854698181, 0.017857473343610764, 1.0871469974517822, 0.8350251317024231, 0.09278056770563126, 0.5658824443817139, 0.28294122219085693, 0.9209969639778137, 0.6080976724624634, 0.9223775863647461, 1.3901000022888184, 0.8942385315895081, 1.0532312393188477, 1.1633923053741455, 0.9952821731567383, 0.9666901230812073, 1.1518875360488892, 0.7360782623291016, 0.8863784074783325, 0.934410035610199, 0.9483698010444641, 0.9428776502609253, 0.953193187713623, 0.8463793396949768, 1.2538421154022217, 0.5066120028495789, 0.5066120028495789, 1.0662990808486938, 1.3135240077972412, 0.8788471221923828, 1.011924386024475, 0.9845103025436401, 0.861524224281311, 1.0482937097549438, 0.9802215099334717, 0.020004520192742348, 0.9250950217247009, 0.46639522910118103, 0.46639522910118103, 0.9315329790115356, 0.6701641082763672, 0.4467760920524597, 0.9990929365158081, 1.0047051906585693, 1.3696646690368652, 0.8415606617927551, 0.16831213235855103, 0.951291024684906, 0.04529957100749016, 1.064085602760315, 0.9939202666282654, 0.9487693905830383, 0.9884883761405945, 1.0660171508789062, 0.9183747172355652, 0.9297505617141724, 0.07438004016876221, 0.8663321137428284, 0.8942610621452332, 0.0745217502117157, 0.7013474106788635, 0.280538946390152, 0.9967867732048035, 1.1519643068313599, 0.8785037398338318, 0.07320864498615265, 0.8789388537406921, 1.0305408239364624, 0.8239749073982239, 0.9998738765716553, 0.990902841091156, 0.9956454634666443, 0.9651820659637451, 1.0009738206863403, 1.074475646018982, 1.1418778896331787, 1.00058913230896, 0.9953241944313049, 0.8113888502120972, 0.9990244507789612, 0.9980319738388062, 0.949386477470398, 1.0823047161102295, 1.004621148109436, 0.9906390309333801, 0.9955480098724365, 1.114760160446167, 0.9998823404312134, 0.8920040726661682, 1.1233092546463013, 1.3626880645751953, 0.5984970927238464, 0.8567239046096802, 0.9862045049667358, 0.7655578255653381, 1.047940969467163, 0.9104407429695129, 1.047518014907837, 0.9922307729721069, 0.9479069113731384, 0.05266149714589119, 0.6388670206069946, 0.3194335103034973, 0.42499157786369324, 0.6374873518943787, 0.9967208504676819, 1.1780623197555542, 0.9871563911437988, 0.32869356870651245, 0.6573871374130249, 0.9832035899162292, 0.9769980907440186, 1.1678214073181152, 1.1630868911743164, 0.9929940700531006, 1.21706223487854, 0.8150139451026917, 1.1611336469650269, 0.9579827189445496, 0.9579634070396423, 1.3469319343566895, 0.9683054685592651, 0.029342589899897575, 0.8369301557540894, 0.8541674017906189, 0.9427474737167358, 0.9655163884162903, 0.05363979935646057, 0.9909631609916687, 0.971486508846283, 0.9824945330619812, 0.9552476406097412, 0.07960397005081177, 0.6426708102226257, 0.6392831802368164, 1.1791309118270874, 1.2411950826644897, 1.0614418983459473, 1.004542350769043, 0.8865220546722412, 0.6915499567985535, 1.43145751953125, 0.8270514011383057, 1.006299376487732, 1.1005080938339233, 1.3842631578445435, 0.3147204518318176, 0.6294409036636353, 1.1622283458709717, 1.1258876323699951, 0.9759302139282227, 0.9916470050811768, 0.9671473503112793, 0.9972689151763916, 1.0028728246688843, 0.6470360159873962, 0.9973636865615845, 0.5836860537528992, 0.9150868058204651, 0.9608745574951172, 0.9670289158821106, 0.973978579044342, 0.02782795950770378, 1.0002802610397339, 1.0164923667907715, 0.9308932423591614, 0.044328249990940094, 1.0025825500488281, 1.0301681756973267, 1.0240213871002197, 0.9798092842102051, 0.027216924354434013, 1.0026378631591797, 1.0013715028762817, 0.8448119163513184, 1.0082429647445679, 0.997402548789978, 1.0021629333496094, 0.991791307926178, 1.172920823097229, 1.008698582649231, 1.2340463399887085, 0.9613407254219055, 0.03101099096238613, 1.3553650379180908, 1.3584851026535034, 1.3994845151901245, 1.0098785161972046, 0.9913594126701355, 0.8395041227340698, 0.9976831674575806, 1.0798677206039429, 0.5834499597549438, 0.47644782066345215, 0.47644782066345215, 0.7660689353942871, 0.9406474232673645, 0.07235749065876007, 0.9942004680633545, 0.5626848340034485, 0.99320387840271, 0.8240853548049927, 0.9144983291625977, 1.224181890487671, 0.916087806224823, 1.3937102556228638, 1.0003210306167603, 0.587000846862793, 0.9931831359863281, 0.82174152135849, 0.8741657137870789, 0.9962136745452881, 1.399125337600708, 0.997990608215332, 0.9933662414550781, 1.2675682306289673, 0.7810023427009583, 0.3124009370803833, 0.6818839311599731, 0.8310059905052185, 0.9311113953590393, 0.044338639825582504, 0.6246891021728516, 0.6506622433662415, 0.8766206502914429, 0.06743235886096954, 0.9289337396621704, 0.9916470050811768, 1.0236265659332275, 1.411529302597046, 0.9851862192153931, 0.025261184200644493, 0.38165441155433655, 0.5724815726280212, 0.9984796047210693, 0.8747590780258179, 0.9106883406639099, 0.9831034541130066, 0.6833874583244324], \"Term\": [\"12h\", \"12het\", \"17h\", \"17h\", \"1kubator\", \"3d\", \"8h30\", \"accelerator\", \"accelerator\", \"acc\\u00e8s\", \"acc\\u00e8s\", \"adavim\", \"adavimawanadoo.fr\", \"adresse\", \"aide\", \"aide\", \"aix-marseille\", \"aix-marseille\", \"alg\\u00e9rien\", \"an\", \"ann\\u00e9e\", \"appr\\u00e9cier\", \"arabie\", \"arabie\", \"argouague\", \"association\", \"association\", \"auray\", \"avis\", \"avis\", \"ben\", \"ben\", \"benjamin\", \"berry\", \"bien-\\u00eatre\", \"biop\\u00f4le\", \"bitcoin\", \"bordelais\", \"bourges\", \"business\", \"by\", \"camille\", \"canard\", \"cancer\", \"capteur\", \"carnetanr-communication.fr\", \"cellule\", \"centrale\", \"cerveau\", \"chaire\", \"ch\\u00e2teauroux\", \"ch\\u00e2teauroux\", \"claire\", \"clara\", \"clinique\", \"cnes\", \"co\", \"code\", \"coll\\u00e8ge\", \"conseil\", \"conseil\", \"cons\\u00e9cutive\", \"coordination\", \"coordination\", \"cosm\\u00e9tique\", \"courriel\", \"courriel\", \"cr\\u00e9er\", \"cs\", \"danone\", \"dassault\", \"dassault\", \"design\", \"design\", \"desmoulins\", \"deux\", \"diagnostic\", \"digital\", \"digitalisation\", \"dr\", \"droit\", \"droit\", \"drone\", \"d\\u00e9partemental\", \"d\\u00e9partemental\", \"d\\u00e9partementale\", \"d\\u00e9partementale\", \"d\\u00e9veloppement\", \"d\\u00eener\", \"ecole\", \"ecole\", \"elys\\u00e9e\", \"ensci\", \"enseignant\", \"entrepreneur\", \"entreprise\", \"espace\", \"ess\", \"euro\", \"eurodev\", \"experience\", \"fait\", \"fond\", \"forbach\", \"france\", \"fran\\u00e7ais\", \"fus\\u00e9e\", \"f\\u00e9minin\", \"graduate\", \"grand\", \"groupe\", \"g\\u00e9n\\u00e9rateur\", \"heure\", \"heureux\", \"h\\u00e9lioparc\", \"h\\u00e9rault\", \"h\\u00e9ritier\", \"iae\", \"ibmediationaorange.fr\", \"icade\", \"identit\\u00e9\", \"impression\", \"imprimante\", \"incubateur\", \"incubation\", \"incubation\", \"incubator\", \"incubator\", \"indre\", \"indre\", \"innovation\", \"inria\", \"inscription\", \"instance\", \"instance\", \"institut\", \"isra\\u00e9lien\", \"ivoire\", \"jardinage\", \"jeune\", \"joigny\", \"j\\u00e9r\\u00f4me\", \"kreuzberg\", \"labelliser\", \"leonard\", \"lilla\", \"lundi\", \"lundi\", \"made\", \"mail\", \"maladie\", \"management\", \"management\", \"marge\", \"marocain\", \"marseille\", \"master\", \"master\", \"maul\\u00e9on\", \"mbs\", \"medef\", \"merabet\", \"militaire\", \"million\", \"mixte\", \"mohammed\", \"molenbeek\", \"molengeek\", \"monacotech\", \"mon\\u00e9gasque\", \"moroccan\", \"m\\u00e9diation\", \"m\\u00e9diation\", \"n26\", \"nacre\", \"newsletter\", \"nice-matin\", \"normandie\", \"nouveau\", \"nouvelle\", \"nouvelle-aquitaine\", \"num\\u00e9rique\", \"nutrition\", \"n\\u00e9crologiques\", \"of\", \"open\", \"ouvert\", \"ouvert\", \"pari\", \"pau\", \"permanence\", \"permanence\", \"permettre\", \"perpignan\", \"poids\", \"porte\", \"porte\", \"pouvoir\", \"premier\", \"prince\", \"professeur\", \"projet\", \"pr\\u00e9sident\", \"p\\u00e9pini\\u00e8re\", \"quimperl\\u00e9\", \"qu\\u00e9bec\", \"raise\", \"responsable\", \"responsable\", \"resserrer\", \"rlv\", \"rottner\", \"royaume\", \"rue\", \"r\\u00e9compenser\", \"r\\u00e9gion\", \"salmane\", \"saoudien\", \"saoudite\", \"saoudite\", \"sap\", \"school\", \"school\", \"service\", \"sigfox\", \"soci\\u00e9t\\u00e9\", \"solen\", \"spatial\", \"spatiale\", \"spatiales\", \"stagiaire\", \"start-up\", \"startupers\", \"startups\", \"swave\", \"syndicat\", \"territoire\", \"touch\", \"tout\", \"travail\", \"travel\", \"tribunal\", \"tribunal\", \"tunisie\", \"t\\u00e2che\", \"t\\u00e9l\", \"t\\u00e9l\", \"t\\u00e9l.02.54.07.33.72\", \"t\\u00e9l.02.54.60.35.35\", \"utile\", \"utile\", \"vanne\", \"var-matin\", \"vaste\", \"velco\", \"vendredi\", \"vendredi\", \"victime\", \"victime\", \"ville\", \"virginie\", \"vitesse\", \"vivatech\", \"www.indreberrymediation.fr\"]}, \"R\": 30, \"lambda.step\": 0.01, \"plot.opts\": {\"xlab\": \"PC1\", \"ylab\": \"PC2\"}, \"topic.order\": [18, 19, 2, 9, 7, 8, 13, 3, 15, 4, 14, 1, 17, 11, 12, 6, 20, 16, 5, 10]};\n",
       "\n",
       "function LDAvis_load_lib(url, callback){\n",
       "  var s = document.createElement('script');\n",
       "  s.src = url;\n",
       "  s.async = true;\n",
       "  s.onreadystatechange = s.onload = callback;\n",
       "  s.onerror = function(){console.warn(\"failed to load library \" + url);};\n",
       "  document.getElementsByTagName(\"head\")[0].appendChild(s);\n",
       "}\n",
       "\n",
       "if(typeof(LDAvis) !== \"undefined\"){\n",
       "   // already loaded: just create the visualization\n",
       "   !function(LDAvis){\n",
       "       new LDAvis(\"#\" + \"ldavis_el670810696928726423898096\", ldavis_el670810696928726423898096_data);\n",
       "   }(LDAvis);\n",
       "}else if(typeof define === \"function\" && define.amd){\n",
       "   // require.js is available: use it to load d3/LDAvis\n",
       "   require.config({paths: {d3: \"https://cdnjs.cloudflare.com/ajax/libs/d3/3.5.5/d3.min\"}});\n",
       "   require([\"d3\"], function(d3){\n",
       "      window.d3 = d3;\n",
       "      LDAvis_load_lib(\"https://cdn.rawgit.com/bmabey/pyLDAvis/files/ldavis.v1.0.0.js\", function(){\n",
       "        new LDAvis(\"#\" + \"ldavis_el670810696928726423898096\", ldavis_el670810696928726423898096_data);\n",
       "      });\n",
       "    });\n",
       "}else{\n",
       "    // require.js not available: dynamically load d3 & LDAvis\n",
       "    LDAvis_load_lib(\"https://cdnjs.cloudflare.com/ajax/libs/d3/3.5.5/d3.min.js\", function(){\n",
       "         LDAvis_load_lib(\"https://cdn.rawgit.com/bmabey/pyLDAvis/files/ldavis.v1.0.0.js\", function(){\n",
       "                 new LDAvis(\"#\" + \"ldavis_el670810696928726423898096\", ldavis_el670810696928726423898096_data);\n",
       "            })\n",
       "         });\n",
       "}\n",
       "</script>"
      ],
      "text/plain": [
       "PreparedData(topic_coordinates=              x         y  topics  cluster       Freq\n",
       "topic                                                \n",
       "17    -0.427483  0.007143       1        1  79.283638\n",
       "18     0.048587  0.116633       2        1   4.687829\n",
       "1      0.017861 -0.022504       3        1   1.368030\n",
       "8      0.025661 -0.012790       4        1   1.176200\n",
       "6      0.024677 -0.011396       5        1   1.099492\n",
       "7      0.024042 -0.009552       6        1   1.031980\n",
       "12     0.023087 -0.008465       7        1   0.956559\n",
       "2      0.011770 -0.007870       8        1   0.942684\n",
       "14     0.020406 -0.006144       9        1   0.858499\n",
       "3      0.022166 -0.006309      10        1   0.852005\n",
       "13     0.021868 -0.005815      11        1   0.847043\n",
       "0      0.021802 -0.004988      12        1   0.836090\n",
       "16     0.021995 -0.005729      13        1   0.832161\n",
       "10     0.021049 -0.004135      14        1   0.799162\n",
       "11     0.020771 -0.003619      15        1   0.765826\n",
       "5      0.020907 -0.003940      16        1   0.761003\n",
       "19     0.019889 -0.003218      17        1   0.739908\n",
       "15     0.020544 -0.002868      18        1   0.738805\n",
       "4      0.020291 -0.002617      19        1   0.723135\n",
       "9      0.020109 -0.001818      20        1   0.699952, topic_info=      Category       Freq              Term      Total  loglift  logprob\n",
       "term                                                                    \n",
       "329    Default  39.000000              aide  39.000000  30.0000  30.0000\n",
       "195    Default  55.000000       association  55.000000  29.0000  29.0000\n",
       "1174   Default  30.000000             accès  30.000000  28.0000  28.0000\n",
       "2305   Default  32.000000       responsable  32.000000  27.0000  27.0000\n",
       "1591   Default  26.000000             droit  26.000000  26.0000  26.0000\n",
       "88     Default  34.000000             lundi  34.000000  25.0000  25.0000\n",
       "316    Default  39.000000          vendredi  39.000000  24.0000  24.0000\n",
       "285    Default  36.000000             porte  36.000000  23.0000  23.0000\n",
       "278    Default  22.000000        permanence  22.000000  22.0000  22.0000\n",
       "3222   Default  22.000000            design  22.000000  21.0000  21.0000\n",
       "5667   Default  22.000000               tél  22.000000  20.0000  20.0000\n",
       "79     Default  92.000000        innovation  92.000000  19.0000  19.0000\n",
       "1043   Default  35.000000            ouvert  35.000000  18.0000  18.0000\n",
       "611    Default  49.000000           conseil  49.000000  17.0000  17.0000\n",
       "221    Default  13.000000             ecole  13.000000  16.0000  16.0000\n",
       "2016   Default  26.000000         marseille  26.000000  15.0000  15.0000\n",
       "7366   Default  18.000000        incubation  18.000000  14.0000  14.0000\n",
       "2326   Default  45.000000               rue  45.000000  13.0000  13.0000\n",
       "4234   Default  14.000000             utile  14.000000  12.0000  12.0000\n",
       "295    Default  72.000000         pépinière  72.000000  11.0000  11.0000\n",
       "1377   Default  23.000000                by  23.000000  10.0000  10.0000\n",
       "1042   Default  22.000000                of  22.000000   9.0000   9.0000\n",
       "3604   Default  34.000000           digital  34.000000   8.0000   8.0000\n",
       "2009   Default  18.000000        management  18.000000   7.0000   7.0000\n",
       "1883   Default  27.000000          institut  27.000000   6.0000   6.0000\n",
       "967    Default  42.000000          business  42.000000   5.0000   5.0000\n",
       "4162   Default  13.000000     départemental  13.000000   4.0000   4.0000\n",
       "1189   Default  17.000000           adresse  17.000000   3.0000   3.0000\n",
       "600    Default  17.000000                co  17.000000   2.0000   2.0000\n",
       "2115   Default  19.000000              open  19.000000   1.0000   1.0000\n",
       "...        ...        ...               ...        ...      ...      ...\n",
       "23473  Topic20   0.212954           algérie   0.413006   4.2995  -7.7932\n",
       "20920  Topic20   0.201935             poool   0.401987   4.2734  -7.8463\n",
       "8344   Topic20   0.451424            beauté   0.967472   4.1996  -7.0419\n",
       "6523   Topic20   0.174943     masschallenge   0.374994   4.1995  -7.9898\n",
       "24691  Topic20   0.222964           pepsico   0.482414   4.1901  -7.7473\n",
       "41805  Topic20   0.169919          mendixka   0.369971   4.1838  -8.0190\n",
       "6535   Topic20   0.163736       switzerland   0.363788   4.1636  -8.0560\n",
       "25726  Topic20   0.157390      réjouissante   0.357441   4.1417  -8.0956\n",
       "9476   Topic20   0.143898           corwave   0.343950   4.0905  -8.1852\n",
       "18865  Topic20   0.139905      prevision.io   0.339956   4.0741  -8.2133\n",
       "21545  Topic20   0.132457              malo   0.332508   4.0415  -8.2680\n",
       "22234  Topic20   0.187086          yourself   0.482966   4.0135  -7.9227\n",
       "24373  Topic20   0.125922         oubliette   0.325974   4.0108  -8.3186\n",
       "8354   Topic20   0.178833            rochet   0.473702   3.9878  -7.9678\n",
       "32816  Topic20   0.115206      saint-junien   0.315257   3.9552  -8.4076\n",
       "3358   Topic20   0.112207      dix-huitième   0.312258   3.9384  -8.4340\n",
       "8351   Topic20   0.162353          lubomira   0.453321   3.9351  -8.0645\n",
       "22492  Topic20   0.107911           podcast   0.307962   3.9132  -8.4730\n",
       "16932  Topic20   0.099550       décortiquer   0.299601   3.8601  -8.5536\n",
       "24678  Topic20   0.097947        greenhouse   0.297998   3.8493  -8.5699\n",
       "5211   Topic20   0.095909           opacité   0.295961   3.8351  -8.5909\n",
       "29186  Topic20   0.092868  charritte-de-bas   0.292919   3.8132  -8.6231\n",
       "25725  Topic20   0.088892         prévôtois   0.288943   3.7831  -8.6669\n",
       "36471  Topic20   0.085293               eit   0.285345   3.7543  -8.7082\n",
       "25910  Topic20   0.081060              snci   0.281111   3.7184  -8.7591\n",
       "8345   Topic20   0.050442               c.a   0.250493   3.3593  -9.2335\n",
       "8350   Topic20   0.037056         loréalien   0.237107   3.1058  -9.5419\n",
       "3754   Topic20   0.088348         jardinage   0.859781   2.6865  -8.6730\n",
       "13559  Topic20   0.091826         nutrition   1.713250   2.0357  -8.6344\n",
       "3598   Topic20   0.098999        cosmétique   4.293997   1.1921  -8.5592\n",
       "\n",
       "[723 rows x 6 columns], token_table=       Topic      Freq                        Term\n",
       "term                                              \n",
       "8314       3  0.990638                         12h\n",
       "9988       9  1.260266                       12het\n",
       "1142       1  0.348204                         17h\n",
       "1142       3  0.522307                         17h\n",
       "14697     12  1.050019                    1kubator\n",
       "532        2  1.016559                          3d\n",
       "9148       3  0.878541                        8h30\n",
       "7357       1  0.936436                 accelerator\n",
       "7357       8  0.078036                 accelerator\n",
       "1174       1  0.932627                       accès\n",
       "1174       3  0.066616                       accès\n",
       "9989       3  0.834758                      adavim\n",
       "9990       3  0.875536           adavimawanadoo.fr\n",
       "1189       1  0.991492                     adresse\n",
       "329        1  0.953478                        aide\n",
       "329        3  0.050183                        aide\n",
       "7358       1  0.885305               aix-marseille\n",
       "7358       8  0.110663               aix-marseille\n",
       "27192      3  1.143912                    algérien\n",
       "332        1  1.003474                          an\n",
       "8          1  0.993217                       année\n",
       "4339       2  0.926643                   apprécier\n",
       "7145       1  0.418011                      arabie\n",
       "7145       3  0.418011                      arabie\n",
       "193        5  1.229487                   argouague\n",
       "195        1  0.982161                 association\n",
       "195        3  0.017857                 association\n",
       "38343      4  1.087147                       auray\n",
       "563        1  0.835025                        avis\n",
       "563        3  0.092781                        avis\n",
       "...      ...       ...                         ...\n",
       "12019     13  0.821742                       swave\n",
       "3554       2  0.874166                    syndicat\n",
       "164        1  0.996214                  territoire\n",
       "19197      6  1.399125                       touch\n",
       "506        1  0.997991                        tout\n",
       "167        1  0.993366                     travail\n",
       "36521     13  1.267568                      travel\n",
       "7321       1  0.781002                    tribunal\n",
       "7321       3  0.312401                    tribunal\n",
       "11239      3  0.681884                     tunisie\n",
       "3804       2  0.831006                       tâche\n",
       "5667       1  0.931111                         tél\n",
       "5667       3  0.044339                         tél\n",
       "10002      3  0.624689          tél.02.54.07.33.72\n",
       "10003      3  0.650662          tél.02.54.60.35.35\n",
       "4234       1  0.876621                       utile\n",
       "4234       3  0.067432                       utile\n",
       "12389      4  0.928934                       vanne\n",
       "2709       9  0.991647                   var-matin\n",
       "6653       2  1.023627                       vaste\n",
       "10600      5  1.411529                       velco\n",
       "316        1  0.985186                    vendredi\n",
       "316        3  0.025261                    vendredi\n",
       "7600       2  0.381654                     victime\n",
       "7600       3  0.572482                     victime\n",
       "172        1  0.998480                       ville\n",
       "512        2  0.874759                    virginie\n",
       "2577       2  0.910688                     vitesse\n",
       "16969      2  0.983103                    vivatech\n",
       "18852      3  0.683387  www.indreberrymediation.fr\n",
       "\n",
       "[264 rows x 3 columns], R=30, lambda_step=0.01, plot_opts={'xlab': 'PC1', 'ylab': 'PC2'}, topic_order=[18, 19, 2, 9, 7, 8, 13, 3, 15, 4, 14, 1, 17, 11, 12, 6, 20, 16, 5, 10])"
      ]
     },
     "execution_count": 57,
     "metadata": {},
     "output_type": "execute_result"
    }
   ],
   "source": [
    "data = pyLDAvis.gensim.prepare(loading, c, d)\n",
    "data"
   ]
  },
  {
   "cell_type": "code",
   "execution_count": null,
   "metadata": {},
   "outputs": [],
   "source": []
  }
 ],
 "metadata": {
  "kernelspec": {
   "display_name": "Python 3",
   "language": "python",
   "name": "python3"
  },
  "language_info": {
   "codemirror_mode": {
    "name": "ipython",
    "version": 3
   },
   "file_extension": ".py",
   "mimetype": "text/x-python",
   "name": "python",
   "nbconvert_exporter": "python",
   "pygments_lexer": "ipython3",
   "version": "3.6.5"
  }
 },
 "nbformat": 4,
 "nbformat_minor": 2
}
