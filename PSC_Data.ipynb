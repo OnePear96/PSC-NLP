{
 "cells": [
  {
   "cell_type": "code",
   "execution_count": 4,
   "metadata": {
    "collapsed": true
   },
   "outputs": [],
   "source": [
    "from pprint import pprint\n",
    "import json \n",
    "\n",
    "with open('articles_Accuracy.json','r') as f:\n",
    "    data = json.load(f)"
   ]
  },
  {
   "cell_type": "code",
   "execution_count": 7,
   "metadata": {},
   "outputs": [
    {
     "name": "stdout",
     "output_type": "stream",
     "text": [
      "Le groupe de la Défense veut accompagner 500 jeunes pousses françaises à haut potentiel d'ici 2020. La banque complète son offre et travaille à s'insérer dans l'écosystème du développement d'entreprises. Société Générale se met en quête de nouvelles « pépites ». La banque de la Défense sert déjà 2.000 start-up dont 200 sont jugées particulièrement prometteuses. Elle a annoncé mardi qu'elle souhaitait en séduire 300 supplémentaires à l'horizon 2020, sur l'ensemble du territoire. Dans le jargon de la banque, une pépite est une entreprise ayant déjà réussi une première levée de fonds d'au moins 300.000 euros, accompagnée par un incubateur « phare » ou un fonds de capital-risque, et créée idéalement par un entrepreneur qui n'en serait pas à son coup d'essai. Il peut s'agir d'entreprises déjà suivies par la banque mais qui doit encore grandir, comme de recrutements externes. Pour y parvenir, la banque peaufine son arsenal : elle va signer lundi prochain un partenariat avec bpifrance, en vue notamment, de faire dialoguer les conseillers du réseau bancaire avec les chargés d'affaires innovation de l'établissement public. Seul BNP Paribas avait pour l'heure passé un tel accord avec bpifrance. Une deuxième nouveauté concerne l'ensemble des jeunes pousses de la « tech » : elles vont bénéficier d'une offre dédiée baptisée « Welcome Pack Startup ». Cette dernière comprend notamment un service de banque mobile, des moyens de paiement ou encore un bilan patrimonial. Industrialiser les pratiques Mais la démarche du groupe bancaire va plus loin qu'une simple offre commerciale : elle vise désormais à industrialiser des pratiques déjà en place depuis plusieurs années, dans l'animation de cette clientèle si particulière. Elle va compléter et entériner un dispositif de 150 conseillers référents start-up. Selon les villes, et le nombre de créateurs à suivre, ce rôle sera occupé à plein temps ou de façon partielle par des conseillers clientèle classiques. Leur rôle sera notamment d'orienter le client à travers l'ensemble des services que pourrait lui apporter le groupe. Enfin, huit « ambassadeurs » sont chargés d'identifier et de faire connaître à la direction générale les entreprises du portefeuille les plus en pointe ou les plus prometteuses. Ce travail d'animation interne et de partage du client est aussi une marque de fabrique pour la banque au logo rouge et noir, qui a mené par le passé le même type de démarches pour développer les services de banque privée. Ce travail de réseau, la banque le mène aussi en externe, devenant le « partenaire bancaire » d'une vingtaine d'incubateurs, dont Station F, WeWork ou Le Tremplin. A l'horizon 2020, elle espère être en relation avec « 50 incubateurs de premier plan en France ». Les entreprises accompagnées par la banque pourraient en outre être accueillies dans certains de ses centres d'affaires, ou dans Les Dunes, son nouvel immeuble de Fontenay-sous-Bois. Par cette démarche, la banque reconnaît en creux qu'elle a pu prendre du retard dans ces thématiques de développement de l'innovation : le réseau de partenaires et de clients qu'elle va tisser ces prochaines années lui permettra aussi de progresser. E. Le.\n"
     ]
    }
   ],
   "source": [
    "print(data[0]['body_fr'])"
   ]
  },
  {
   "cell_type": "code",
   "execution_count": 4,
   "metadata": {},
   "outputs": [
    {
     "name": "stdout",
     "output_type": "stream",
     "text": [
      "11791\n"
     ]
    }
   ],
   "source": [
    "print(len(data))"
   ]
  },
  {
   "cell_type": "code",
   "execution_count": 8,
   "metadata": {},
   "outputs": [
    {
     "name": "stdout",
     "output_type": "stream",
     "text": [
      "{'body': '',\n",
      " 'body_en': '',\n",
      " 'body_fr': 'Le groupe de la Défense veut accompagner 500 jeunes pousses '\n",
      "            \"françaises à haut potentiel d'ici 2020. La banque complète son \"\n",
      "            \"offre et travaille à s'insérer dans l'écosystème du développement \"\n",
      "            \"d'entreprises. Société Générale se met en quête de nouvelles « \"\n",
      "            'pépites ». La banque de la Défense sert déjà 2.000 start-up dont '\n",
      "            '200 sont jugées particulièrement prometteuses. Elle a annoncé '\n",
      "            \"mardi qu'elle souhaitait en séduire 300 supplémentaires à \"\n",
      "            \"l'horizon 2020, sur l'ensemble du territoire. Dans le jargon de \"\n",
      "            'la banque, une pépite est une entreprise ayant déjà réussi une '\n",
      "            \"première levée de fonds d'au moins 300.000 euros, accompagnée par \"\n",
      "            'un incubateur « phare » ou un fonds de capital-risque, et créée '\n",
      "            \"idéalement par un entrepreneur qui n'en serait pas à son coup \"\n",
      "            \"d'essai. Il peut s'agir d'entreprises déjà suivies par la banque \"\n",
      "            'mais qui doit encore grandir, comme de recrutements externes. '\n",
      "            'Pour y parvenir, la banque peaufine son arsenal : elle va signer '\n",
      "            'lundi prochain un partenariat avec bpifrance, en vue notamment, '\n",
      "            'de faire dialoguer les conseillers du réseau bancaire avec les '\n",
      "            \"chargés d'affaires innovation de l'établissement public. Seul BNP \"\n",
      "            \"Paribas avait pour l'heure passé un tel accord avec bpifrance. \"\n",
      "            \"Une deuxième nouveauté concerne l'ensemble des jeunes pousses de \"\n",
      "            \"la « tech » : elles vont bénéficier d'une offre dédiée baptisée « \"\n",
      "            'Welcome Pack Startup ». Cette dernière comprend notamment un '\n",
      "            'service de banque mobile, des moyens de paiement ou encore un '\n",
      "            'bilan patrimonial. Industrialiser les pratiques Mais la démarche '\n",
      "            \"du groupe bancaire va plus loin qu'une simple offre commerciale : \"\n",
      "            'elle vise désormais à industrialiser des pratiques déjà en place '\n",
      "            \"depuis plusieurs années, dans l'animation de cette clientèle si \"\n",
      "            'particulière. Elle va compléter et entériner un dispositif de 150 '\n",
      "            'conseillers référents start-up. Selon les villes, et le nombre de '\n",
      "            'créateurs à suivre, ce rôle sera occupé à plein temps ou de façon '\n",
      "            'partielle par des conseillers clientèle classiques. Leur rôle '\n",
      "            \"sera notamment d'orienter le client à travers l'ensemble des \"\n",
      "            'services que pourrait lui apporter le groupe. Enfin, huit « '\n",
      "            \"ambassadeurs » sont chargés d'identifier et de faire connaître à \"\n",
      "            'la direction générale les entreprises du portefeuille les plus en '\n",
      "            \"pointe ou les plus prometteuses. Ce travail d'animation interne \"\n",
      "            'et de partage du client est aussi une marque de fabrique pour la '\n",
      "            'banque au logo rouge et noir, qui a mené par le passé le même '\n",
      "            'type de démarches pour développer les services de banque privée. '\n",
      "            'Ce travail de réseau, la banque le mène aussi en externe, '\n",
      "            \"devenant le « partenaire bancaire » d'une vingtaine \"\n",
      "            \"d'incubateurs, dont Station F, WeWork ou Le Tremplin. A l'horizon \"\n",
      "            '2020, elle espère être en relation avec « 50 incubateurs de '\n",
      "            'premier plan en France ». Les entreprises accompagnées par la '\n",
      "            'banque pourraient en outre être accueillies dans certains de ses '\n",
      "            \"centres d'affaires, ou dans Les Dunes, son nouvel immeuble de \"\n",
      "            'Fontenay-sous-Bois. Par cette démarche, la banque reconnaît en '\n",
      "            \"creux qu'elle a pu prendre du retard dans ces thématiques de \"\n",
      "            \"développement de l'innovation : le réseau de partenaires et de \"\n",
      "            \"clients qu'elle va tisser ces prochaines années lui permettra \"\n",
      "            'aussi de progresser. E. Le.',\n",
      " 'date_of_publication': '16 November 2017',\n",
      " 'language': 'French',\n",
      " 'number_of_words': 540,\n",
      " 'relevancy': False,\n",
      " 'source': 'Les Echos',\n",
      " 'title': '',\n",
      " 'title_en': '',\n",
      " 'title_fr': 'Société Générale veut séduire 300 futures stars de la tech'}\n"
     ]
    }
   ],
   "source": [
    "pprint(data[0])"
   ]
  },
  {
   "cell_type": "code",
   "execution_count": 14,
   "metadata": {},
   "outputs": [
    {
     "name": "stdout",
     "output_type": "stream",
     "text": [
      "dict_keys(['title_fr', 'body_en', 'body', 'date_of_publication', 'title_en', 'source', 'body_fr', 'relevancy', 'title', 'language', 'number_of_words'])\n"
     ]
    }
   ],
   "source": [
    "print(data[0].keys())"
   ]
  },
  {
   "cell_type": "code",
   "execution_count": 19,
   "metadata": {},
   "outputs": [
    {
     "name": "stdout",
     "output_type": "stream",
     "text": [
      "3342\n"
     ]
    }
   ],
   "source": [
    "n=0\n",
    "for i in data :\n",
    "    if len(i['body_en'])>10 :\n",
    "        n=n+1\n",
    "        j=i\n",
    "print(n)"
   ]
  },
  {
   "cell_type": "code",
   "execution_count": 11,
   "metadata": {},
   "outputs": [
    {
     "name": "stdout",
     "output_type": "stream",
     "text": [
      "['Le', 'groupe', 'de', 'la', 'Défense', 'veut', 'accompagner', '500', 'jeunes', 'pousses', 'françaises', 'à', 'haut', 'potentiel', \"d'ici\", '2020.', 'La', 'banque', 'complète', 'son', 'offre', 'et', 'travaille', 'à', \"s'insérer\", 'dans', \"l'écosystème\", 'du', 'développement', \"d'entreprises.\", 'Société', 'Générale', 'se', 'met', 'en', 'quête', 'de', 'nouvelles', '«', 'pépites', '».', 'La', 'banque', 'de', 'la', 'Défense', 'sert', 'déjà', '2.000', 'start-up', 'dont', '200', 'sont', 'jugées', 'particulièrement', 'prometteuses.', 'Elle', 'a', 'annoncé', 'mardi', \"qu'elle\", 'souhaitait', 'en', 'séduire', '300', 'supplémentaires', 'à', \"l'horizon\", '2020,', 'sur', \"l'ensemble\", 'du', 'territoire.', 'Dans', 'le', 'jargon', 'de', 'la', 'banque,', 'une', 'pépite', 'est', 'une', 'entreprise', 'ayant', 'déjà', 'réussi', 'une', 'première', 'levée', 'de', 'fonds', \"d'au\", 'moins', '300.000', 'euros,', 'accompagnée', 'par', 'un', 'incubateur', '«', 'phare', '»', 'ou', 'un', 'fonds', 'de', 'capital-risque,', 'et', 'créée', 'idéalement', 'par', 'un', 'entrepreneur', 'qui', \"n'en\", 'serait', 'pas', 'à', 'son', 'coup', \"d'essai.\", 'Il', 'peut', \"s'agir\", \"d'entreprises\", 'déjà', 'suivies', 'par', 'la', 'banque', 'mais', 'qui', 'doit', 'encore', 'grandir,', 'comme', 'de', 'recrutements', 'externes.', 'Pour', 'y', 'parvenir,', 'la', 'banque', 'peaufine', 'son', 'arsenal', ':', 'elle', 'va', 'signer', 'lundi', 'prochain', 'un', 'partenariat', 'avec', 'bpifrance,', 'en', 'vue', 'notamment,', 'de', 'faire', 'dialoguer', 'les', 'conseillers', 'du', 'réseau', 'bancaire', 'avec', 'les', 'chargés', \"d'affaires\", 'innovation', 'de', \"l'établissement\", 'public.', 'Seul', 'BNP', 'Paribas', 'avait', 'pour', \"l'heure\", 'passé', 'un', 'tel', 'accord', 'avec', 'bpifrance.', 'Une', 'deuxième', 'nouveauté', 'concerne', \"l'ensemble\", 'des', 'jeunes', 'pousses', 'de', 'la', '«', 'tech', '»', ':', 'elles', 'vont', 'bénéficier', \"d'une\", 'offre', 'dédiée', 'baptisée', '«', 'Welcome', 'Pack', 'Startup', '».', 'Cette', 'dernière', 'comprend', 'notamment', 'un', 'service', 'de', 'banque', 'mobile,', 'des', 'moyens', 'de', 'paiement', 'ou', 'encore', 'un', 'bilan', 'patrimonial.', 'Industrialiser', 'les', 'pratiques', 'Mais', 'la', 'démarche', 'du', 'groupe', 'bancaire', 'va', 'plus', 'loin', \"qu'une\", 'simple', 'offre', 'commerciale', ':', 'elle', 'vise', 'désormais', 'à', 'industrialiser', 'des', 'pratiques', 'déjà', 'en', 'place', 'depuis', 'plusieurs', 'années,', 'dans', \"l'animation\", 'de', 'cette', 'clientèle', 'si', 'particulière.', 'Elle', 'va', 'compléter', 'et', 'entériner', 'un', 'dispositif', 'de', '150', 'conseillers', 'référents', 'start-up.', 'Selon', 'les', 'villes,', 'et', 'le', 'nombre', 'de', 'créateurs', 'à', 'suivre,', 'ce', 'rôle', 'sera', 'occupé', 'à', 'plein', 'temps', 'ou', 'de', 'façon', 'partielle', 'par', 'des', 'conseillers', 'clientèle', 'classiques.', 'Leur', 'rôle', 'sera', 'notamment', \"d'orienter\", 'le', 'client', 'à', 'travers', \"l'ensemble\", 'des', 'services', 'que', 'pourrait', 'lui', 'apporter', 'le', 'groupe.', 'Enfin,', 'huit', '«', 'ambassadeurs', '»', 'sont', 'chargés', \"d'identifier\", 'et', 'de', 'faire', 'connaître', 'à', 'la', 'direction', 'générale', 'les', 'entreprises', 'du', 'portefeuille', 'les', 'plus', 'en', 'pointe', 'ou', 'les', 'plus', 'prometteuses.', 'Ce', 'travail', \"d'animation\", 'interne', 'et', 'de', 'partage', 'du', 'client', 'est', 'aussi', 'une', 'marque', 'de', 'fabrique', 'pour', 'la', 'banque', 'au', 'logo', 'rouge', 'et', 'noir,', 'qui', 'a', 'mené', 'par', 'le', 'passé', 'le', 'même', 'type', 'de', 'démarches', 'pour', 'développer', 'les', 'services', 'de', 'banque', 'privée.', 'Ce', 'travail', 'de', 'réseau,', 'la', 'banque', 'le', 'mène', 'aussi', 'en', 'externe,', 'devenant', 'le', '«', 'partenaire', 'bancaire', '»', \"d'une\", 'vingtaine', \"d'incubateurs,\", 'dont', 'Station', 'F,', 'WeWork', 'ou', 'Le', 'Tremplin.', 'A', \"l'horizon\", '2020,', 'elle', 'espère', 'être', 'en', 'relation', 'avec', '«', '50', 'incubateurs', 'de', 'premier', 'plan', 'en', 'France', '».', 'Les', 'entreprises', 'accompagnées', 'par', 'la', 'banque', 'pourraient', 'en', 'outre', 'être', 'accueillies', 'dans', 'certains', 'de', 'ses', 'centres', \"d'affaires,\", 'ou', 'dans', 'Les', 'Dunes,', 'son', 'nouvel', 'immeuble', 'de', 'Fontenay-sous-Bois.', 'Par', 'cette', 'démarche,', 'la', 'banque', 'reconnaît', 'en', 'creux', \"qu'elle\", 'a', 'pu', 'prendre', 'du', 'retard', 'dans', 'ces', 'thématiques', 'de', 'développement', 'de', \"l'innovation\", ':', 'le', 'réseau', 'de', 'partenaires', 'et', 'de', 'clients', \"qu'elle\", 'va', 'tisser', 'ces', 'prochaines', 'années', 'lui', 'permettra', 'aussi', 'de', 'progresser.', 'E.', 'Le.']\n"
     ]
    }
   ],
   "source": [
    "import re\n",
    "print (re.split(r' ',data[0]['body_fr']))"
   ]
  },
  {
   "cell_type": "code",
   "execution_count": 56,
   "metadata": {},
   "outputs": [
    {
     "name": "stdout",
     "output_type": "stream",
     "text": [
      "['le', 'groupe', 'de', 'la', 'défense', 'veut', 'accompagner', 'jeunes', 'pousses', 'françaises', 'à', 'haut', 'potentiel', 'd', 'ici', 'la', 'banque', 'complète', 'son', 'offre', 'et', 'travaille', 'à', 's', 'insérer', 'dans', 'l', 'écosystème', 'du', 'développement', 'd', 'entreprises', 'société', 'générale', 'se', 'met', 'en', 'quête', 'de', 'nouvelles', 'pépites', 'la', 'banque', 'de', 'la', 'défense', 'sert', 'déjà', '000', 'start', 'up', 'dont', 'sont', 'jugées', 'particulièrement', 'prometteuses', 'elle', 'a', 'annoncé', 'mardi', 'qu', 'elle', 'souhaitait', 'en', 'séduire', 'supplémentaires', 'à', 'l', 'horizon', 'sur', 'l', 'ensemble', 'du', 'territoire', 'dans', 'le', 'jargon', 'de', 'la', 'banque', 'une', 'pépite', 'est', 'une', 'entreprise', 'ayant', 'déjà', 'réussi', 'une', 'première', 'levée', 'de', 'fonds', 'd', 'au', 'moins', '000', 'euros', 'accompagnée', 'par', 'un', 'incubateur', 'phare', 'ou', 'un', 'fonds', 'de', 'capital', 'risque', 'et', 'créée', 'idéalement', 'par', 'un', 'entrepreneur', 'qui', 'n', 'en', 'serait', 'pas', 'à', 'son', 'coup', 'd', 'essai', 'il', 'peut', 's', 'agir', 'd', 'entreprises', 'déjà', 'suivies', 'par', 'la', 'banque', 'mais', 'qui', 'doit', 'encore', 'grandir', 'comme', 'de', 'recrutements', 'externes', 'pour', 'y', 'parvenir', 'la', 'banque', 'peaufine', 'son', 'arsenal', 'elle', 'va', 'signer', 'lundi', 'prochain', 'un', 'partenariat', 'avec', 'bpifrance', 'en', 'vue', 'notamment', 'de', 'faire', 'dialoguer', 'les', 'conseillers', 'du', 'réseau', 'bancaire', 'avec', 'les', 'chargés', 'd', 'affaires', 'innovation', 'de', 'l', 'établissement', 'public', 'seul', 'bnp', 'paribas', 'avait', 'pour', 'l', 'heure', 'passé', 'un', 'tel', 'accord', 'avec', 'bpifrance', 'une', 'deuxième', 'nouveauté', 'concerne', 'l', 'ensemble', 'des', 'jeunes', 'pousses', 'de', 'la', 'tech', 'elles', 'vont', 'bénéficier', 'd', 'une', 'offre', 'dédiée', 'baptisée', 'welcome', 'pack', 'startup', 'cette', 'dernière', 'comprend', 'notamment', 'un', 'service', 'de', 'banque', 'mobile', 'des', 'moyens', 'de', 'paiement', 'ou', 'encore', 'un', 'bilan', 'patrimonial', 'industrialiser', 'les', 'pratiques', 'mais', 'la', 'démarche', 'du', 'groupe', 'bancaire', 'va', 'plus', 'loin', 'qu', 'une', 'simple', 'offre', 'commerciale', 'elle', 'vise', 'désormais', 'à', 'industrialiser', 'des', 'pratiques', 'déjà', 'en', 'place', 'depuis', 'plusieurs', 'années', 'dans', 'l', 'animation', 'de', 'cette', 'clientèle', 'si', 'particulière', 'elle', 'va', 'compléter', 'et', 'entériner', 'un', 'dispositif', 'de', 'conseillers', 'référents', 'start', 'up', 'selon', 'les', 'villes', 'et', 'le', 'nombre', 'de', 'créateurs', 'à', 'suivre', 'ce', 'rôle', 'sera', 'occupé', 'à', 'plein', 'temps', 'ou', 'de', 'façon', 'partielle', 'par', 'des', 'conseillers', 'clientèle', 'classiques', 'leur', 'rôle', 'sera', 'notamment', 'd', 'orienter', 'le', 'client', 'à', 'travers', 'l', 'ensemble', 'des', 'services', 'que', 'pourrait', 'lui', 'apporter', 'le', 'groupe', 'enfin', 'huit', 'ambassadeurs', 'sont', 'chargés', 'd', 'identifier', 'et', 'de', 'faire', 'connaître', 'à', 'la', 'direction', 'générale', 'les', 'entreprises', 'du', 'portefeuille', 'les', 'plus', 'en', 'pointe', 'ou', 'les', 'plus', 'prometteuses', 'ce', 'travail', 'd', 'animation', 'interne', 'et', 'de', 'partage', 'du', 'client', 'est', 'aussi', 'une', 'marque', 'de', 'fabrique', 'pour', 'la', 'banque', 'au', 'logo', 'rouge', 'et', 'noir', 'qui', 'a', 'mené', 'par', 'le', 'passé', 'le', 'même', 'type', 'de', 'démarches', 'pour', 'développer', 'les', 'services', 'de', 'banque', 'privée', 'ce', 'travail', 'de', 'réseau', 'la', 'banque', 'le', 'mène', 'aussi', 'en', 'externe', 'devenant', 'le', 'partenaire', 'bancaire', 'd', 'une', 'vingtaine', 'd', 'incubateurs', 'dont', 'station', 'f', 'wework', 'ou', 'le', 'tremplin', 'a', 'l', 'horizon', 'elle', 'espère', 'être', 'en', 'relation', 'avec', 'incubateurs', 'de', 'premier', 'plan', 'en', 'france', 'les', 'entreprises', 'accompagnées', 'par', 'la', 'banque', 'pourraient', 'en', 'outre', 'être', 'accueillies', 'dans', 'certains', 'de', 'ses', 'centres', 'd', 'affaires', 'ou', 'dans', 'les', 'dunes', 'son', 'nouvel', 'immeuble', 'de', 'fontenay', 'sous', 'bois', 'par', 'cette', 'démarche', 'la', 'banque', 'reconnaît', 'en', 'creux', 'qu', 'elle', 'a', 'pu', 'prendre', 'du', 'retard', 'dans', 'ces', 'thématiques', 'de', 'développement', 'de', 'l', 'innovation', 'le', 'réseau', 'de', 'partenaires', 'et', 'de', 'clients', 'qu', 'elle', 'va', 'tisser', 'ces', 'prochaines', 'années', 'lui', 'permettra', 'aussi', 'de', 'progresser', 'e', 'le', '']\n"
     ]
    }
   ],
   "source": [
    "exemple=data[0]['body_fr']\n",
    "exemple=re.split(r'\\W+', exemple.lower())\n",
    "for i in exemple:\n",
    "    if i.isdigit():\n",
    "        exemple.remove(i)\n",
    "print(exemple)"
   ]
  },
  {
   "cell_type": "code",
   "execution_count": 57,
   "metadata": {
    "collapsed": true
   },
   "outputs": [],
   "source": [
    "from nltk.corpus import stopwords\n",
    "stopworddic = set(stopwords.words('french'))\n",
    "stopworddic.add('a')\n",
    "stopworddic.add('les')"
   ]
  },
  {
   "cell_type": "code",
   "execution_count": 58,
   "metadata": {},
   "outputs": [
    {
     "name": "stdout",
     "output_type": "stream",
     "text": [
      "['groupe', 'défense', 'veut', 'accompagner', 'jeunes', 'pousses', 'françaises', 'haut', 'potentiel', 'ici', 'banque', 'complète', 'offre', 'travaille', 'insérer', 'écosystème', 'développement', 'entreprises', 'société', 'générale', 'met', 'quête', 'nouvelles', 'pépites', 'banque', 'défense', 'sert', 'déjà', '000', 'start', 'up', 'dont', 'jugées', 'particulièrement', 'prometteuses', 'annoncé', 'mardi', 'souhaitait', 'séduire', 'supplémentaires', 'horizon', 'ensemble', 'territoire', 'jargon', 'banque', 'pépite', 'entreprise', 'déjà', 'réussi', 'première', 'levée', 'fonds', 'moins', '000', 'euros', 'accompagnée', 'incubateur', 'phare', 'fonds', 'capital', 'risque', 'créée', 'idéalement', 'entrepreneur', 'coup', 'essai', 'peut', 'agir', 'entreprises', 'déjà', 'suivies', 'banque', 'doit', 'encore', 'grandir', 'comme', 'recrutements', 'externes', 'parvenir', 'banque', 'peaufine', 'arsenal', 'va', 'signer', 'lundi', 'prochain', 'partenariat', 'bpifrance', 'vue', 'notamment', 'faire', 'dialoguer', 'conseillers', 'réseau', 'bancaire', 'chargés', 'affaires', 'innovation', 'établissement', 'public', 'seul', 'bnp', 'paribas', 'heure', 'passé', 'tel', 'accord', 'bpifrance', 'deuxième', 'nouveauté', 'concerne', 'ensemble', 'jeunes', 'pousses', 'tech', 'elles', 'vont', 'bénéficier', 'offre', 'dédiée', 'baptisée', 'welcome', 'pack', 'startup', 'cette', 'dernière', 'comprend', 'notamment', 'service', 'banque', 'mobile', 'moyens', 'paiement', 'encore', 'bilan', 'patrimonial', 'industrialiser', 'pratiques', 'démarche', 'groupe', 'bancaire', 'va', 'plus', 'loin', 'simple', 'offre', 'commerciale', 'vise', 'désormais', 'industrialiser', 'pratiques', 'déjà', 'place', 'depuis', 'plusieurs', 'années', 'animation', 'cette', 'clientèle', 'si', 'particulière', 'va', 'compléter', 'entériner', 'dispositif', 'conseillers', 'référents', 'start', 'up', 'selon', 'villes', 'nombre', 'créateurs', 'suivre', 'rôle', 'occupé', 'plein', 'temps', 'façon', 'partielle', 'conseillers', 'clientèle', 'classiques', 'rôle', 'notamment', 'orienter', 'client', 'travers', 'ensemble', 'services', 'pourrait', 'apporter', 'groupe', 'enfin', 'huit', 'ambassadeurs', 'chargés', 'identifier', 'faire', 'connaître', 'direction', 'générale', 'entreprises', 'portefeuille', 'plus', 'pointe', 'plus', 'prometteuses', 'travail', 'animation', 'interne', 'partage', 'client', 'aussi', 'marque', 'fabrique', 'banque', 'logo', 'rouge', 'noir', 'mené', 'passé', 'type', 'démarches', 'développer', 'services', 'banque', 'privée', 'travail', 'réseau', 'banque', 'mène', 'aussi', 'externe', 'devenant', 'partenaire', 'bancaire', 'vingtaine', 'incubateurs', 'dont', 'station', 'f', 'wework', 'tremplin', 'horizon', 'espère', 'être', 'relation', 'incubateurs', 'premier', 'plan', 'france', 'entreprises', 'accompagnées', 'banque', 'pourraient', 'outre', 'être', 'accueillies', 'certains', 'centres', 'affaires', 'dunes', 'nouvel', 'immeuble', 'fontenay', 'sous', 'bois', 'cette', 'démarche', 'banque', 'reconnaît', 'creux', 'pu', 'prendre', 'retard', 'thématiques', 'développement', 'innovation', 'réseau', 'partenaires', 'clients', 'va', 'tisser', 'prochaines', 'années', 'permettra', 'aussi', 'progresser', 'e', '']\n"
     ]
    }
   ],
   "source": [
    "exemple = [i for i in exemple if i not in stopworddic ]\n",
    "print(exemple)"
   ]
  },
  {
   "cell_type": "code",
   "execution_count": 59,
   "metadata": {},
   "outputs": [
    {
     "data": {
      "text/plain": [
       "True"
      ]
     },
     "execution_count": 59,
     "metadata": {},
     "output_type": "execute_result"
    }
   ],
   "source": [
    "'000'.isdigit()"
   ]
  },
  {
   "cell_type": "code",
   "execution_count": 3,
   "metadata": {},
   "outputs": [
    {
     "name": "stdout",
     "output_type": "stream",
     "text": [
      "showing info https://raw.githubusercontent.com/nltk/nltk_data/gh-pages/index.xml\n"
     ]
    },
    {
     "data": {
      "text/plain": [
       "True"
      ]
     },
     "execution_count": 3,
     "metadata": {},
     "output_type": "execute_result"
    }
   ],
   "source": [
    "import nltk\n",
    "nltk.download()"
   ]
  },
  {
   "cell_type": "code",
   "execution_count": null,
   "metadata": {
    "collapsed": true
   },
   "outputs": [],
   "source": []
  }
 ],
 "metadata": {
  "kernelspec": {
   "display_name": "Python 3",
   "language": "python",
   "name": "python3"
  },
  "language_info": {
   "codemirror_mode": {
    "name": "ipython",
    "version": 3
   },
   "file_extension": ".py",
   "mimetype": "text/x-python",
   "name": "python",
   "nbconvert_exporter": "python",
   "pygments_lexer": "ipython3",
   "version": "3.6.1"
  }
 },
 "nbformat": 4,
 "nbformat_minor": 2
}
