{
 "cells": [
  {
   "cell_type": "code",
   "execution_count": 2,
   "metadata": {
    "collapsed": true
   },
   "outputs": [],
   "source": [
    "from pprint import pprint\n",
    "import json \n",
    "\n",
    "with open('articles_Accuracy.json','r') as f:\n",
    "    data = json.load(f)"
   ]
  },
  {
   "cell_type": "code",
   "execution_count": 3,
   "metadata": {},
   "outputs": [
    {
     "name": "stdout",
     "output_type": "stream",
     "text": [
      "Le groupe de la Défense veut accompagner 500 jeunes pousses françaises à haut potentiel d'ici 2020. La banque complète son offre et travaille à s'insérer dans l'écosystème du développement d'entreprises. Société Générale se met en quête de nouvelles « pépites ». La banque de la Défense sert déjà 2.000 start-up dont 200 sont jugées particulièrement prometteuses. Elle a annoncé mardi qu'elle souhaitait en séduire 300 supplémentaires à l'horizon 2020, sur l'ensemble du territoire. Dans le jargon de la banque, une pépite est une entreprise ayant déjà réussi une première levée de fonds d'au moins 300.000 euros, accompagnée par un incubateur « phare » ou un fonds de capital-risque, et créée idéalement par un entrepreneur qui n'en serait pas à son coup d'essai. Il peut s'agir d'entreprises déjà suivies par la banque mais qui doit encore grandir, comme de recrutements externes. Pour y parvenir, la banque peaufine son arsenal : elle va signer lundi prochain un partenariat avec bpifrance, en vue notamment, de faire dialoguer les conseillers du réseau bancaire avec les chargés d'affaires innovation de l'établissement public. Seul BNP Paribas avait pour l'heure passé un tel accord avec bpifrance. Une deuxième nouveauté concerne l'ensemble des jeunes pousses de la « tech » : elles vont bénéficier d'une offre dédiée baptisée « Welcome Pack Startup ». Cette dernière comprend notamment un service de banque mobile, des moyens de paiement ou encore un bilan patrimonial. Industrialiser les pratiques Mais la démarche du groupe bancaire va plus loin qu'une simple offre commerciale : elle vise désormais à industrialiser des pratiques déjà en place depuis plusieurs années, dans l'animation de cette clientèle si particulière. Elle va compléter et entériner un dispositif de 150 conseillers référents start-up. Selon les villes, et le nombre de créateurs à suivre, ce rôle sera occupé à plein temps ou de façon partielle par des conseillers clientèle classiques. Leur rôle sera notamment d'orienter le client à travers l'ensemble des services que pourrait lui apporter le groupe. Enfin, huit « ambassadeurs » sont chargés d'identifier et de faire connaître à la direction générale les entreprises du portefeuille les plus en pointe ou les plus prometteuses. Ce travail d'animation interne et de partage du client est aussi une marque de fabrique pour la banque au logo rouge et noir, qui a mené par le passé le même type de démarches pour développer les services de banque privée. Ce travail de réseau, la banque le mène aussi en externe, devenant le « partenaire bancaire » d'une vingtaine d'incubateurs, dont Station F, WeWork ou Le Tremplin. A l'horizon 2020, elle espère être en relation avec « 50 incubateurs de premier plan en France ». Les entreprises accompagnées par la banque pourraient en outre être accueillies dans certains de ses centres d'affaires, ou dans Les Dunes, son nouvel immeuble de Fontenay-sous-Bois. Par cette démarche, la banque reconnaît en creux qu'elle a pu prendre du retard dans ces thématiques de développement de l'innovation : le réseau de partenaires et de clients qu'elle va tisser ces prochaines années lui permettra aussi de progresser. E. Le.\n"
     ]
    }
   ],
   "source": [
    "print(data[0]['body_fr'])"
   ]
  },
  {
   "cell_type": "code",
   "execution_count": 4,
   "metadata": {},
   "outputs": [
    {
     "name": "stdout",
     "output_type": "stream",
     "text": [
      "11791\n"
     ]
    }
   ],
   "source": [
    "print(len(data))"
   ]
  },
  {
   "cell_type": "code",
   "execution_count": 5,
   "metadata": {},
   "outputs": [
    {
     "name": "stdout",
     "output_type": "stream",
     "text": [
      "{'body': '',\n",
      " 'body_en': '',\n",
      " 'body_fr': 'Le groupe de la Défense veut accompagner 500 jeunes pousses '\n",
      "            \"françaises à haut potentiel d'ici 2020. La banque complète son \"\n",
      "            \"offre et travaille à s'insérer dans l'écosystème du développement \"\n",
      "            \"d'entreprises. Société Générale se met en quête de nouvelles « \"\n",
      "            'pépites ». La banque de la Défense sert déjà 2.000 start-up dont '\n",
      "            '200 sont jugées particulièrement prometteuses. Elle a annoncé '\n",
      "            \"mardi qu'elle souhaitait en séduire 300 supplémentaires à \"\n",
      "            \"l'horizon 2020, sur l'ensemble du territoire. Dans le jargon de \"\n",
      "            'la banque, une pépite est une entreprise ayant déjà réussi une '\n",
      "            \"première levée de fonds d'au moins 300.000 euros, accompagnée par \"\n",
      "            'un incubateur « phare » ou un fonds de capital-risque, et créée '\n",
      "            \"idéalement par un entrepreneur qui n'en serait pas à son coup \"\n",
      "            \"d'essai. Il peut s'agir d'entreprises déjà suivies par la banque \"\n",
      "            'mais qui doit encore grandir, comme de recrutements externes. '\n",
      "            'Pour y parvenir, la banque peaufine son arsenal : elle va signer '\n",
      "            'lundi prochain un partenariat avec bpifrance, en vue notamment, '\n",
      "            'de faire dialoguer les conseillers du réseau bancaire avec les '\n",
      "            \"chargés d'affaires innovation de l'établissement public. Seul BNP \"\n",
      "            \"Paribas avait pour l'heure passé un tel accord avec bpifrance. \"\n",
      "            \"Une deuxième nouveauté concerne l'ensemble des jeunes pousses de \"\n",
      "            \"la « tech » : elles vont bénéficier d'une offre dédiée baptisée « \"\n",
      "            'Welcome Pack Startup ». Cette dernière comprend notamment un '\n",
      "            'service de banque mobile, des moyens de paiement ou encore un '\n",
      "            'bilan patrimonial. Industrialiser les pratiques Mais la démarche '\n",
      "            \"du groupe bancaire va plus loin qu'une simple offre commerciale : \"\n",
      "            'elle vise désormais à industrialiser des pratiques déjà en place '\n",
      "            \"depuis plusieurs années, dans l'animation de cette clientèle si \"\n",
      "            'particulière. Elle va compléter et entériner un dispositif de 150 '\n",
      "            'conseillers référents start-up. Selon les villes, et le nombre de '\n",
      "            'créateurs à suivre, ce rôle sera occupé à plein temps ou de façon '\n",
      "            'partielle par des conseillers clientèle classiques. Leur rôle '\n",
      "            \"sera notamment d'orienter le client à travers l'ensemble des \"\n",
      "            'services que pourrait lui apporter le groupe. Enfin, huit « '\n",
      "            \"ambassadeurs » sont chargés d'identifier et de faire connaître à \"\n",
      "            'la direction générale les entreprises du portefeuille les plus en '\n",
      "            \"pointe ou les plus prometteuses. Ce travail d'animation interne \"\n",
      "            'et de partage du client est aussi une marque de fabrique pour la '\n",
      "            'banque au logo rouge et noir, qui a mené par le passé le même '\n",
      "            'type de démarches pour développer les services de banque privée. '\n",
      "            'Ce travail de réseau, la banque le mène aussi en externe, '\n",
      "            \"devenant le « partenaire bancaire » d'une vingtaine \"\n",
      "            \"d'incubateurs, dont Station F, WeWork ou Le Tremplin. A l'horizon \"\n",
      "            '2020, elle espère être en relation avec « 50 incubateurs de '\n",
      "            'premier plan en France ». Les entreprises accompagnées par la '\n",
      "            'banque pourraient en outre être accueillies dans certains de ses '\n",
      "            \"centres d'affaires, ou dans Les Dunes, son nouvel immeuble de \"\n",
      "            'Fontenay-sous-Bois. Par cette démarche, la banque reconnaît en '\n",
      "            \"creux qu'elle a pu prendre du retard dans ces thématiques de \"\n",
      "            \"développement de l'innovation : le réseau de partenaires et de \"\n",
      "            \"clients qu'elle va tisser ces prochaines années lui permettra \"\n",
      "            'aussi de progresser. E. Le.',\n",
      " 'date_of_publication': '16 November 2017',\n",
      " 'language': 'French',\n",
      " 'number_of_words': 540,\n",
      " 'relevancy': False,\n",
      " 'source': 'Les Echos',\n",
      " 'title': '',\n",
      " 'title_en': '',\n",
      " 'title_fr': 'Société Générale veut séduire 300 futures stars de la tech'}\n"
     ]
    }
   ],
   "source": [
    "pprint(data[0])"
   ]
  },
  {
   "cell_type": "code",
   "execution_count": 6,
   "metadata": {},
   "outputs": [
    {
     "name": "stdout",
     "output_type": "stream",
     "text": [
      "dict_keys(['title_fr', 'body_en', 'body', 'date_of_publication', 'title_en', 'source', 'body_fr', 'relevancy', 'title', 'language', 'number_of_words'])\n"
     ]
    }
   ],
   "source": [
    "print(data[0].keys())"
   ]
  },
  {
   "cell_type": "code",
   "execution_count": 7,
   "metadata": {},
   "outputs": [
    {
     "name": "stdout",
     "output_type": "stream",
     "text": [
      "3342\n"
     ]
    }
   ],
   "source": [
    "n=0\n",
    "for i in data :\n",
    "    if len(i['body_en'])>10 :\n",
    "        n=n+1\n",
    "        j=i\n",
    "print(n)"
   ]
  },
  {
   "cell_type": "code",
   "execution_count": 8,
   "metadata": {},
   "outputs": [
    {
     "name": "stdout",
     "output_type": "stream",
     "text": [
      "['Le', 'groupe', 'de', 'la', 'Défense', 'veut', 'accompagner', '500', 'jeunes', 'pousses', 'françaises', 'à', 'haut', 'potentiel', \"d'ici\", '2020.', 'La', 'banque', 'complète', 'son', 'offre', 'et', 'travaille', 'à', \"s'insérer\", 'dans', \"l'écosystème\", 'du', 'développement', \"d'entreprises.\", 'Société', 'Générale', 'se', 'met', 'en', 'quête', 'de', 'nouvelles', '«', 'pépites', '».', 'La', 'banque', 'de', 'la', 'Défense', 'sert', 'déjà', '2.000', 'start-up', 'dont', '200', 'sont', 'jugées', 'particulièrement', 'prometteuses.', 'Elle', 'a', 'annoncé', 'mardi', \"qu'elle\", 'souhaitait', 'en', 'séduire', '300', 'supplémentaires', 'à', \"l'horizon\", '2020,', 'sur', \"l'ensemble\", 'du', 'territoire.', 'Dans', 'le', 'jargon', 'de', 'la', 'banque,', 'une', 'pépite', 'est', 'une', 'entreprise', 'ayant', 'déjà', 'réussi', 'une', 'première', 'levée', 'de', 'fonds', \"d'au\", 'moins', '300.000', 'euros,', 'accompagnée', 'par', 'un', 'incubateur', '«', 'phare', '»', 'ou', 'un', 'fonds', 'de', 'capital-risque,', 'et', 'créée', 'idéalement', 'par', 'un', 'entrepreneur', 'qui', \"n'en\", 'serait', 'pas', 'à', 'son', 'coup', \"d'essai.\", 'Il', 'peut', \"s'agir\", \"d'entreprises\", 'déjà', 'suivies', 'par', 'la', 'banque', 'mais', 'qui', 'doit', 'encore', 'grandir,', 'comme', 'de', 'recrutements', 'externes.', 'Pour', 'y', 'parvenir,', 'la', 'banque', 'peaufine', 'son', 'arsenal', ':', 'elle', 'va', 'signer', 'lundi', 'prochain', 'un', 'partenariat', 'avec', 'bpifrance,', 'en', 'vue', 'notamment,', 'de', 'faire', 'dialoguer', 'les', 'conseillers', 'du', 'réseau', 'bancaire', 'avec', 'les', 'chargés', \"d'affaires\", 'innovation', 'de', \"l'établissement\", 'public.', 'Seul', 'BNP', 'Paribas', 'avait', 'pour', \"l'heure\", 'passé', 'un', 'tel', 'accord', 'avec', 'bpifrance.', 'Une', 'deuxième', 'nouveauté', 'concerne', \"l'ensemble\", 'des', 'jeunes', 'pousses', 'de', 'la', '«', 'tech', '»', ':', 'elles', 'vont', 'bénéficier', \"d'une\", 'offre', 'dédiée', 'baptisée', '«', 'Welcome', 'Pack', 'Startup', '».', 'Cette', 'dernière', 'comprend', 'notamment', 'un', 'service', 'de', 'banque', 'mobile,', 'des', 'moyens', 'de', 'paiement', 'ou', 'encore', 'un', 'bilan', 'patrimonial.', 'Industrialiser', 'les', 'pratiques', 'Mais', 'la', 'démarche', 'du', 'groupe', 'bancaire', 'va', 'plus', 'loin', \"qu'une\", 'simple', 'offre', 'commerciale', ':', 'elle', 'vise', 'désormais', 'à', 'industrialiser', 'des', 'pratiques', 'déjà', 'en', 'place', 'depuis', 'plusieurs', 'années,', 'dans', \"l'animation\", 'de', 'cette', 'clientèle', 'si', 'particulière.', 'Elle', 'va', 'compléter', 'et', 'entériner', 'un', 'dispositif', 'de', '150', 'conseillers', 'référents', 'start-up.', 'Selon', 'les', 'villes,', 'et', 'le', 'nombre', 'de', 'créateurs', 'à', 'suivre,', 'ce', 'rôle', 'sera', 'occupé', 'à', 'plein', 'temps', 'ou', 'de', 'façon', 'partielle', 'par', 'des', 'conseillers', 'clientèle', 'classiques.', 'Leur', 'rôle', 'sera', 'notamment', \"d'orienter\", 'le', 'client', 'à', 'travers', \"l'ensemble\", 'des', 'services', 'que', 'pourrait', 'lui', 'apporter', 'le', 'groupe.', 'Enfin,', 'huit', '«', 'ambassadeurs', '»', 'sont', 'chargés', \"d'identifier\", 'et', 'de', 'faire', 'connaître', 'à', 'la', 'direction', 'générale', 'les', 'entreprises', 'du', 'portefeuille', 'les', 'plus', 'en', 'pointe', 'ou', 'les', 'plus', 'prometteuses.', 'Ce', 'travail', \"d'animation\", 'interne', 'et', 'de', 'partage', 'du', 'client', 'est', 'aussi', 'une', 'marque', 'de', 'fabrique', 'pour', 'la', 'banque', 'au', 'logo', 'rouge', 'et', 'noir,', 'qui', 'a', 'mené', 'par', 'le', 'passé', 'le', 'même', 'type', 'de', 'démarches', 'pour', 'développer', 'les', 'services', 'de', 'banque', 'privée.', 'Ce', 'travail', 'de', 'réseau,', 'la', 'banque', 'le', 'mène', 'aussi', 'en', 'externe,', 'devenant', 'le', '«', 'partenaire', 'bancaire', '»', \"d'une\", 'vingtaine', \"d'incubateurs,\", 'dont', 'Station', 'F,', 'WeWork', 'ou', 'Le', 'Tremplin.', 'A', \"l'horizon\", '2020,', 'elle', 'espère', 'être', 'en', 'relation', 'avec', '«', '50', 'incubateurs', 'de', 'premier', 'plan', 'en', 'France', '».', 'Les', 'entreprises', 'accompagnées', 'par', 'la', 'banque', 'pourraient', 'en', 'outre', 'être', 'accueillies', 'dans', 'certains', 'de', 'ses', 'centres', \"d'affaires,\", 'ou', 'dans', 'Les', 'Dunes,', 'son', 'nouvel', 'immeuble', 'de', 'Fontenay-sous-Bois.', 'Par', 'cette', 'démarche,', 'la', 'banque', 'reconnaît', 'en', 'creux', \"qu'elle\", 'a', 'pu', 'prendre', 'du', 'retard', 'dans', 'ces', 'thématiques', 'de', 'développement', 'de', \"l'innovation\", ':', 'le', 'réseau', 'de', 'partenaires', 'et', 'de', 'clients', \"qu'elle\", 'va', 'tisser', 'ces', 'prochaines', 'années', 'lui', 'permettra', 'aussi', 'de', 'progresser.', 'E.', 'Le.']\n"
     ]
    }
   ],
   "source": [
    "import re\n",
    "print (re.split(r' ',data[0]['body_fr']))"
   ]
  },
  {
   "cell_type": "code",
   "execution_count": 9,
   "metadata": {},
   "outputs": [
    {
     "name": "stdout",
     "output_type": "stream",
     "text": [
      "['le', 'groupe', 'de', 'la', 'défense', 'veut', 'accompagner', 'jeunes', 'pousses', 'françaises', 'à', 'haut', 'potentiel', 'd', 'ici', 'la', 'banque', 'complète', 'son', 'offre', 'et', 'travaille', 'à', 's', 'insérer', 'dans', 'l', 'écosystème', 'du', 'développement', 'd', 'entreprises', 'société', 'générale', 'se', 'met', 'en', 'quête', 'de', 'nouvelles', 'pépites', 'la', 'banque', 'de', 'la', 'défense', 'sert', 'déjà', '000', 'start', 'up', 'dont', 'sont', 'jugées', 'particulièrement', 'prometteuses', 'elle', 'a', 'annoncé', 'mardi', 'qu', 'elle', 'souhaitait', 'en', 'séduire', 'supplémentaires', 'à', 'l', 'horizon', 'sur', 'l', 'ensemble', 'du', 'territoire', 'dans', 'le', 'jargon', 'de', 'la', 'banque', 'une', 'pépite', 'est', 'une', 'entreprise', 'ayant', 'déjà', 'réussi', 'une', 'première', 'levée', 'de', 'fonds', 'd', 'au', 'moins', '000', 'euros', 'accompagnée', 'par', 'un', 'incubateur', 'phare', 'ou', 'un', 'fonds', 'de', 'capital', 'risque', 'et', 'créée', 'idéalement', 'par', 'un', 'entrepreneur', 'qui', 'n', 'en', 'serait', 'pas', 'à', 'son', 'coup', 'd', 'essai', 'il', 'peut', 's', 'agir', 'd', 'entreprises', 'déjà', 'suivies', 'par', 'la', 'banque', 'mais', 'qui', 'doit', 'encore', 'grandir', 'comme', 'de', 'recrutements', 'externes', 'pour', 'y', 'parvenir', 'la', 'banque', 'peaufine', 'son', 'arsenal', 'elle', 'va', 'signer', 'lundi', 'prochain', 'un', 'partenariat', 'avec', 'bpifrance', 'en', 'vue', 'notamment', 'de', 'faire', 'dialoguer', 'les', 'conseillers', 'du', 'réseau', 'bancaire', 'avec', 'les', 'chargés', 'd', 'affaires', 'innovation', 'de', 'l', 'établissement', 'public', 'seul', 'bnp', 'paribas', 'avait', 'pour', 'l', 'heure', 'passé', 'un', 'tel', 'accord', 'avec', 'bpifrance', 'une', 'deuxième', 'nouveauté', 'concerne', 'l', 'ensemble', 'des', 'jeunes', 'pousses', 'de', 'la', 'tech', 'elles', 'vont', 'bénéficier', 'd', 'une', 'offre', 'dédiée', 'baptisée', 'welcome', 'pack', 'startup', 'cette', 'dernière', 'comprend', 'notamment', 'un', 'service', 'de', 'banque', 'mobile', 'des', 'moyens', 'de', 'paiement', 'ou', 'encore', 'un', 'bilan', 'patrimonial', 'industrialiser', 'les', 'pratiques', 'mais', 'la', 'démarche', 'du', 'groupe', 'bancaire', 'va', 'plus', 'loin', 'qu', 'une', 'simple', 'offre', 'commerciale', 'elle', 'vise', 'désormais', 'à', 'industrialiser', 'des', 'pratiques', 'déjà', 'en', 'place', 'depuis', 'plusieurs', 'années', 'dans', 'l', 'animation', 'de', 'cette', 'clientèle', 'si', 'particulière', 'elle', 'va', 'compléter', 'et', 'entériner', 'un', 'dispositif', 'de', 'conseillers', 'référents', 'start', 'up', 'selon', 'les', 'villes', 'et', 'le', 'nombre', 'de', 'créateurs', 'à', 'suivre', 'ce', 'rôle', 'sera', 'occupé', 'à', 'plein', 'temps', 'ou', 'de', 'façon', 'partielle', 'par', 'des', 'conseillers', 'clientèle', 'classiques', 'leur', 'rôle', 'sera', 'notamment', 'd', 'orienter', 'le', 'client', 'à', 'travers', 'l', 'ensemble', 'des', 'services', 'que', 'pourrait', 'lui', 'apporter', 'le', 'groupe', 'enfin', 'huit', 'ambassadeurs', 'sont', 'chargés', 'd', 'identifier', 'et', 'de', 'faire', 'connaître', 'à', 'la', 'direction', 'générale', 'les', 'entreprises', 'du', 'portefeuille', 'les', 'plus', 'en', 'pointe', 'ou', 'les', 'plus', 'prometteuses', 'ce', 'travail', 'd', 'animation', 'interne', 'et', 'de', 'partage', 'du', 'client', 'est', 'aussi', 'une', 'marque', 'de', 'fabrique', 'pour', 'la', 'banque', 'au', 'logo', 'rouge', 'et', 'noir', 'qui', 'a', 'mené', 'par', 'le', 'passé', 'le', 'même', 'type', 'de', 'démarches', 'pour', 'développer', 'les', 'services', 'de', 'banque', 'privée', 'ce', 'travail', 'de', 'réseau', 'la', 'banque', 'le', 'mène', 'aussi', 'en', 'externe', 'devenant', 'le', 'partenaire', 'bancaire', 'd', 'une', 'vingtaine', 'd', 'incubateurs', 'dont', 'station', 'f', 'wework', 'ou', 'le', 'tremplin', 'a', 'l', 'horizon', 'elle', 'espère', 'être', 'en', 'relation', 'avec', 'incubateurs', 'de', 'premier', 'plan', 'en', 'france', 'les', 'entreprises', 'accompagnées', 'par', 'la', 'banque', 'pourraient', 'en', 'outre', 'être', 'accueillies', 'dans', 'certains', 'de', 'ses', 'centres', 'd', 'affaires', 'ou', 'dans', 'les', 'dunes', 'son', 'nouvel', 'immeuble', 'de', 'fontenay', 'sous', 'bois', 'par', 'cette', 'démarche', 'la', 'banque', 'reconnaît', 'en', 'creux', 'qu', 'elle', 'a', 'pu', 'prendre', 'du', 'retard', 'dans', 'ces', 'thématiques', 'de', 'développement', 'de', 'l', 'innovation', 'le', 'réseau', 'de', 'partenaires', 'et', 'de', 'clients', 'qu', 'elle', 'va', 'tisser', 'ces', 'prochaines', 'années', 'lui', 'permettra', 'aussi', 'de', 'progresser', 'e', 'le', '']\n"
     ]
    }
   ],
   "source": [
    "exemple=data[0]['body_fr']\n",
    "exemple=re.split(r'\\W+', exemple.lower())\n",
    "for i in exemple:\n",
    "    if i.isdigit():\n",
    "        exemple.remove(i)\n",
    "print(exemple)"
   ]
  },
  {
   "cell_type": "code",
   "execution_count": 10,
   "metadata": {
    "collapsed": true
   },
   "outputs": [],
   "source": [
    "from nltk.corpus import stopwords\n",
    "stopworddic = set(stopwords.words('french'))\n",
    "stopworddic.add('a')\n",
    "stopworddic.add('les')\n",
    "stopworddic.add('000')"
   ]
  },
  {
   "cell_type": "code",
   "execution_count": 11,
   "metadata": {},
   "outputs": [
    {
     "name": "stdout",
     "output_type": "stream",
     "text": [
      "['groupe', 'défense', 'veut', 'accompagner', 'jeunes', 'pousses', 'françaises', 'haut', 'potentiel', 'ici', 'banque', 'complète', 'offre', 'travaille', 'insérer', 'écosystème', 'développement', 'entreprises', 'société', 'générale', 'met', 'quête', 'nouvelles', 'pépites', 'banque', 'défense', 'sert', 'déjà', 'start', 'up', 'dont', 'jugées', 'particulièrement', 'prometteuses', 'annoncé', 'mardi', 'souhaitait', 'séduire', 'supplémentaires', 'horizon', 'ensemble', 'territoire', 'jargon', 'banque', 'pépite', 'entreprise', 'déjà', 'réussi', 'première', 'levée', 'fonds', 'moins', 'euros', 'accompagnée', 'incubateur', 'phare', 'fonds', 'capital', 'risque', 'créée', 'idéalement', 'entrepreneur', 'coup', 'essai', 'peut', 'agir', 'entreprises', 'déjà', 'suivies', 'banque', 'doit', 'encore', 'grandir', 'comme', 'recrutements', 'externes', 'parvenir', 'banque', 'peaufine', 'arsenal', 'va', 'signer', 'lundi', 'prochain', 'partenariat', 'bpifrance', 'vue', 'notamment', 'faire', 'dialoguer', 'conseillers', 'réseau', 'bancaire', 'chargés', 'affaires', 'innovation', 'établissement', 'public', 'seul', 'bnp', 'paribas', 'heure', 'passé', 'tel', 'accord', 'bpifrance', 'deuxième', 'nouveauté', 'concerne', 'ensemble', 'jeunes', 'pousses', 'tech', 'elles', 'vont', 'bénéficier', 'offre', 'dédiée', 'baptisée', 'welcome', 'pack', 'startup', 'cette', 'dernière', 'comprend', 'notamment', 'service', 'banque', 'mobile', 'moyens', 'paiement', 'encore', 'bilan', 'patrimonial', 'industrialiser', 'pratiques', 'démarche', 'groupe', 'bancaire', 'va', 'plus', 'loin', 'simple', 'offre', 'commerciale', 'vise', 'désormais', 'industrialiser', 'pratiques', 'déjà', 'place', 'depuis', 'plusieurs', 'années', 'animation', 'cette', 'clientèle', 'si', 'particulière', 'va', 'compléter', 'entériner', 'dispositif', 'conseillers', 'référents', 'start', 'up', 'selon', 'villes', 'nombre', 'créateurs', 'suivre', 'rôle', 'occupé', 'plein', 'temps', 'façon', 'partielle', 'conseillers', 'clientèle', 'classiques', 'rôle', 'notamment', 'orienter', 'client', 'travers', 'ensemble', 'services', 'pourrait', 'apporter', 'groupe', 'enfin', 'huit', 'ambassadeurs', 'chargés', 'identifier', 'faire', 'connaître', 'direction', 'générale', 'entreprises', 'portefeuille', 'plus', 'pointe', 'plus', 'prometteuses', 'travail', 'animation', 'interne', 'partage', 'client', 'aussi', 'marque', 'fabrique', 'banque', 'logo', 'rouge', 'noir', 'mené', 'passé', 'type', 'démarches', 'développer', 'services', 'banque', 'privée', 'travail', 'réseau', 'banque', 'mène', 'aussi', 'externe', 'devenant', 'partenaire', 'bancaire', 'vingtaine', 'incubateurs', 'dont', 'station', 'f', 'wework', 'tremplin', 'horizon', 'espère', 'être', 'relation', 'incubateurs', 'premier', 'plan', 'france', 'entreprises', 'accompagnées', 'banque', 'pourraient', 'outre', 'être', 'accueillies', 'certains', 'centres', 'affaires', 'dunes', 'nouvel', 'immeuble', 'fontenay', 'sous', 'bois', 'cette', 'démarche', 'banque', 'reconnaît', 'creux', 'pu', 'prendre', 'retard', 'thématiques', 'développement', 'innovation', 'réseau', 'partenaires', 'clients', 'va', 'tisser', 'prochaines', 'années', 'permettra', 'aussi', 'progresser', 'e', '']\n"
     ]
    }
   ],
   "source": [
    "exemple = [i for i in exemple if i not in stopworddic ]\n",
    "print(exemple)"
   ]
  },
  {
   "cell_type": "code",
   "execution_count": 12,
   "metadata": {},
   "outputs": [],
   "source": [
    "import nltk"
   ]
  },
  {
   "cell_type": "code",
   "execution_count": 1,
   "metadata": {},
   "outputs": [
    {
     "name": "stderr",
     "output_type": "stream",
     "text": [
      "D:\\Users\\Surface\\Anaconda3\\lib\\site-packages\\gensim\\utils.py:865: UserWarning: detected Windows; aliasing chunkize to chunkize_serial\n",
      "  warnings.warn(\"detected Windows; aliasing chunkize to chunkize_serial\")\n"
     ]
    }
   ],
   "source": [
    "from gensim import corpora"
   ]
  },
  {
   "cell_type": "code",
   "execution_count": 24,
   "metadata": {},
   "outputs": [],
   "source": [
    "from nltk.corpus import stopwords\n",
    "stopworddic = set(stopwords.words('french'))\n",
    "stopworddic.add('a')\n",
    "stopworddic.add('les')\n",
    "stopworddic.add('000')\n",
    "\n",
    "tokenized_data = []\n",
    "\n",
    "for doc in data :\n",
    "    if len(doc['body_fr'])>10 :\n",
    "        text = doc['body_fr']\n",
    "        text = re.split(r'\\W+', text.lower())\n",
    "        for i in text :\n",
    "            if (i.isdigit()):\n",
    "                text.remove(i)\n",
    "        text = [i for i in text if (i not in stopworddic and len(i)>2) ]\n",
    "        tokenized_data.append(text)"
   ]
  },
  {
   "cell_type": "code",
   "execution_count": 23,
   "metadata": {},
   "outputs": [
    {
     "name": "stdout",
     "output_type": "stream",
     "text": [
      "['groupe', 'défense', 'veut', 'accompagner', 'jeunes', 'pousses', 'françaises', 'haut', 'potentiel', 'ici', 'banque', 'complète', 'offre', 'travaille', 'insérer', 'écosystème', 'développement', 'entreprises', 'société', 'générale', 'met', 'quête', 'nouvelles', 'pépites', 'banque', 'défense', 'sert', 'déjà', 'start', 'dont', 'jugées', 'particulièrement', 'prometteuses', 'annoncé', 'mardi', 'souhaitait', 'séduire', 'supplémentaires', 'horizon', 'ensemble', 'territoire', 'jargon', 'banque', 'pépite', 'entreprise', 'déjà', 'réussi', 'première', 'levée', 'fonds', 'moins', 'euros', 'accompagnée', 'incubateur', 'phare', 'fonds', 'capital', 'risque', 'créée', 'idéalement', 'entrepreneur', 'coup', 'essai', 'peut', 'agir', 'entreprises', 'déjà', 'suivies', 'banque', 'doit', 'encore', 'grandir', 'comme', 'recrutements', 'externes', 'parvenir', 'banque', 'peaufine', 'arsenal', 'signer', 'lundi', 'prochain', 'partenariat', 'bpifrance', 'vue', 'notamment', 'faire', 'dialoguer', 'conseillers', 'réseau', 'bancaire', 'chargés', 'affaires', 'innovation', 'établissement', 'public', 'seul', 'bnp', 'paribas', 'heure', 'passé', 'tel', 'accord', 'bpifrance', 'deuxième', 'nouveauté', 'concerne', 'ensemble', 'jeunes', 'pousses', 'tech', 'elles', 'vont', 'bénéficier', 'offre', 'dédiée', 'baptisée', 'welcome', 'pack', 'startup', 'cette', 'dernière', 'comprend', 'notamment', 'service', 'banque', 'mobile', 'moyens', 'paiement', 'encore', 'bilan', 'patrimonial', 'industrialiser', 'pratiques', 'démarche', 'groupe', 'bancaire', 'plus', 'loin', 'simple', 'offre', 'commerciale', 'vise', 'désormais', 'industrialiser', 'pratiques', 'déjà', 'place', 'depuis', 'plusieurs', 'années', 'animation', 'cette', 'clientèle', 'particulière', 'compléter', 'entériner', 'dispositif', 'conseillers', 'référents', 'start', 'selon', 'villes', 'nombre', 'créateurs', 'suivre', 'rôle', 'occupé', 'plein', 'temps', 'façon', 'partielle', 'conseillers', 'clientèle', 'classiques', 'rôle', 'notamment', 'orienter', 'client', 'travers', 'ensemble', 'services', 'pourrait', 'apporter', 'groupe', 'enfin', 'huit', 'ambassadeurs', 'chargés', 'identifier', 'faire', 'connaître', 'direction', 'générale', 'entreprises', 'portefeuille', 'plus', 'pointe', 'plus', 'prometteuses', 'travail', 'animation', 'interne', 'partage', 'client', 'aussi', 'marque', 'fabrique', 'banque', 'logo', 'rouge', 'noir', 'mené', 'passé', 'type', 'démarches', 'développer', 'services', 'banque', 'privée', 'travail', 'réseau', 'banque', 'mène', 'aussi', 'externe', 'devenant', 'partenaire', 'bancaire', 'vingtaine', 'incubateurs', 'dont', 'station', 'wework', 'tremplin', 'horizon', 'espère', 'être', 'relation', 'incubateurs', 'premier', 'plan', 'france', 'entreprises', 'accompagnées', 'banque', 'pourraient', 'outre', 'être', 'accueillies', 'certains', 'centres', 'affaires', 'dunes', 'nouvel', 'immeuble', 'fontenay', 'sous', 'bois', 'cette', 'démarche', 'banque', 'reconnaît', 'creux', 'prendre', 'retard', 'thématiques', 'développement', 'innovation', 'réseau', 'partenaires', 'clients', 'tisser', 'prochaines', 'années', 'permettra', 'aussi', 'progresser']\n"
     ]
    }
   ],
   "source": [
    "print(tokenized_data[0])"
   ]
  },
  {
   "cell_type": "code",
   "execution_count": 26,
   "metadata": {},
   "outputs": [
    {
     "name": "stdout",
     "output_type": "stream",
     "text": [
      "[(0, 1), (9, 1), (20, 1), (22, 2), (27, 1), (47, 1), (49, 1), (57, 1), (58, 1), (62, 3), (64, 1), (66, 1), (72, 1), (76, 2), (84, 1), (87, 1), (106, 1), (107, 1), (118, 1), (127, 1), (142, 2), (151, 1), (157, 1), (160, 2), (161, 1), (164, 4), (166, 1), (185, 1), (195, 1), (220, 1), (242, 1), (268, 3), (286, 2), (291, 1), (317, 1), (358, 1), (360, 1), (369, 2), (374, 2), (384, 1), (399, 1), (405, 1), (408, 2), (414, 2), (418, 1), (425, 2), (439, 6), (485, 1), (489, 2), (507, 1), (517, 3), (518, 1), (541, 1), (542, 2), (555, 1), (569, 1), (577, 1), (578, 1), (587, 1), (601, 2), (621, 1), (624, 1), (639, 1), (659, 1), (660, 1), (661, 1), (672, 1), (676, 1), (695, 1), (704, 2), (723, 1), (731, 1), (782, 1), (786, 2), (813, 1), (869, 1), (992, 1), (1006, 1), (1014, 1), (1091, 1), (1098, 1), (1128, 1), (1146, 2), (1149, 1), (1190, 1), (1210, 1), (1224, 1), (1254, 3), (1276, 2), (1280, 1), (1300, 1), (1340, 1), (1400, 1), (1412, 1), (1445, 1), (1458, 2), (1460, 2), (1513, 1), (1538, 1), (1622, 1), (1653, 1), (1754, 2), (1785, 1), (1814, 1), (1832, 1), (1859, 1), (1865, 1), (1887, 3), (1928, 1), (1952, 1), (1975, 1), (1997, 1), (2003, 1), (2038, 1), (2060, 1), (2093, 1), (2160, 1), (2177, 1), (2188, 1), (2189, 1), (2293, 1), (2297, 1), (2347, 1), (2365, 2), (2474, 2), (2493, 5), (2544, 1), (2554, 1), (2565, 2), (2582, 1), (2583, 1), (2585, 1), (2641, 1), (2717, 1), (2743, 2), (2849, 1), (2880, 2), (2934, 1), (2979, 1), (3095, 1), (3115, 1), (3139, 1), (3180, 1), (3292, 1), (3295, 1), (3379, 1), (3421, 1), (3486, 1), (3496, 1), (3624, 2), (3639, 1), (3685, 2), (3728, 1), (3779, 1), (3910, 1), (3943, 1), (4002, 1), (4041, 1), (4099, 1), (4142, 1), (4166, 1), (4202, 2), (4386, 1), (4387, 1), (4388, 1), (4389, 2), (4390, 1), (4391, 3), (4392, 1), (4393, 3), (4394, 1), (4395, 1), (4396, 4), (4397, 3), (4398, 1), (4399, 1), (4400, 3), (4401, 2), (4402, 1), (4403, 3), (4404, 3), (4405, 1), (4406, 1), (4407, 1), (4408, 1), (4409, 1), (4410, 1), (4411, 1), (4412, 1), (4413, 1), (4414, 1), (4415, 1), (4416, 1), (4417, 1), (4418, 1), (4419, 1), (4420, 1), (4421, 1), (4422, 1), (4423, 1), (4424, 2), (4425, 1), (4426, 1), (4427, 1), (4428, 1), (4429, 1), (4430, 1), (4431, 1), (4432, 1), (4433, 1), (4434, 3), (4435, 1), (4436, 1), (4437, 1), (4438, 1), (4439, 1), (4440, 1), (4441, 1), (4442, 1), (4443, 1), (4444, 1), (4445, 1), (4446, 1), (4447, 1), (4448, 1), (4449, 1), (4450, 1), (4451, 1), (4452, 1), (4453, 1), (4454, 1), (4455, 1), (4456, 1), (4457, 2), (4458, 1), (4459, 1), (4460, 1), (4461, 1), (4462, 1), (4463, 3), (4464, 1), (4465, 1), (4466, 1), (4467, 1), (4468, 1), (4469, 1), (4470, 1), (4471, 1), (4472, 1), (4473, 1), (4474, 1), (4475, 1), (4476, 1), (4477, 1), (4478, 1), (4479, 1), (4480, 1), (4481, 1), (4482, 1), (4483, 1), (4484, 1), (4485, 1), (4486, 1), (4487, 1), (4488, 1), (4489, 1), (4490, 1), (4491, 1), (4492, 1), (4493, 1), (4494, 1), (4495, 1), (4496, 1), (4497, 1), (4498, 1), (4499, 1), (4500, 1), (4501, 1), (4502, 1), (4503, 1), (4504, 1), (4505, 1), (4506, 1), (4507, 1), (4508, 1), (4509, 1), (4510, 1), (4511, 1), (4512, 1), (4513, 1), (4514, 1), (4515, 1), (4516, 1), (4517, 1), (4518, 1), (4519, 1), (4520, 1), (4521, 1), (4522, 1), (4523, 1), (4524, 1), (4525, 1), (4526, 1), (4527, 1), (4528, 1)]\n"
     ]
    }
   ],
   "source": [
    "from gensim import models,corpora\n",
    "dictionary = corpora.Dictionary(tokenized_data)\n",
    "corpus = [dictionary.doc2bow(text) for text in tokenized_data]"
   ]
  },
  {
   "cell_type": "code",
   "execution_count": 30,
   "metadata": {},
   "outputs": [],
   "source": [
    "tfidf = models.TfidfModel(corpus)\n",
    "corpus_tfidf = tfidf[corpus]"
   ]
  },
  {
   "cell_type": "code",
   "execution_count": 33,
   "metadata": {},
   "outputs": [
    {
     "name": "stdout",
     "output_type": "stream",
     "text": [
      "[(4, 0.020179240885836794), (17, 0.007977451424160162), (19, 0.03738186992614616), (27, 0.017629501893006105), (98, 0.04784309591063184), (113, 0.09029466653310367), (146, 0.060217629666179204), (149, 0.03646667502038539), (210, 0.04957848076519716), (213, 0.2038517382846316), (214, 0.24286599222142258), (215, 0.13269861232809008), (216, 0.05342884182530165), (217, 0.05046555145923505), (218, 0.0876440603142325), (219, 0.047938294200036764), (220, 0.1090684650138262), (221, 0.15292759157654143), (222, 0.11151288148213026), (223, 0.0784831706232336), (224, 0.04522732568472614), (225, 0.10671840281634859), (226, 0.025815026141787455), (227, 0.12551146267674024), (228, 0.0667806806813433), (229, 0.0468803840252818), (230, 0.10390194164549076), (231, 0.012407245717831788), (232, 0.08629780887519636), (233, 0.03223159762480188), (234, 0.06712889819038301), (235, 0.09166828808039106), (236, 0.09862366561289768), (237, 0.04968649994063427), (238, 0.056609388851245564), (239, 0.03823189789413536), (240, 0.05750113819259702), (241, 0.03486982147928506), (242, 0.08354700880261702), (243, 0.10390194164549076), (244, 0.09077113089635944), (245, 0.07422588983064232), (246, 0.09474105195449184), (247, 0.21860181054751138), (248, 0.04761586761841119), (249, 0.16028652547590494), (250, 0.12244103126616532), (251, 0.13269861232809008), (252, 0.04459917573586547), (253, 0.12244103126616532), (254, 0.057227926223393094), (255, 0.11025659530343208), (256, 0.12244103126616532), (257, 0.02447347191317942), (258, 0.06546438585441841), (259, 0.03540848452122426), (260, 0.0728672701825038), (261, 0.04542921914804299), (262, 0.07990612129175505), (263, 0.0800845759922231), (264, 0.10618314993490709), (265, 0.048589808569708424), (266, 0.09077113089635944), (267, 0.08095533074047419), (268, 0.026466466729610078), (269, 0.03598644357555291), (270, 0.0784831706232336), (271, 0.13269861232809008), (272, 0.05687131712845824), (273, 0.12244103126616532), (274, 0.07138617898297428), (275, 0.025934326292926278), (276, 0.07510527096289141), (277, 0.09592556887298233), (278, 0.019451945567534133), (279, 0.019423864797572264), (280, 0.10888124667482245), (281, 0.05087101685912476), (282, 0.08642966875788341), (283, 0.0745132495651012), (284, 0.1019258691423158), (285, 0.04592530676210865), (286, 0.026309272642615893), (287, 0.07366738727239061), (288, 0.03648887841739315), (289, 0.03072751066559851), (290, 0.04232345958283784), (291, 0.06274740871391457), (292, 0.03961987070653377), (293, 0.07703826174326807), (294, 0.062099343328968), (295, 0.08286747847327912), (296, 0.04575808960068662), (297, 0.06785092242712343), (298, 0.06312727004780606), (299, 0.08338677952164122), (300, 0.04853955873762512), (301, 0.08695563100980766), (302, 0.0352123494221918), (303, 0.08695563100980766), (304, 0.03786160598137461), (305, 0.08095533074047419), (306, 0.08695563100980766), (307, 0.05315222514854111), (308, 0.09262336534356419), (309, 0.1019258691423158), (310, 0.0644014683163253), (311, 0.055050204798569646), (312, 0.093644360583566), (313, 0.025750356433644272), (314, 0.060552705747013554), (315, 0.10018284966557361), (316, 0.060217629666179204), (317, 0.018348730695806358), (318, 0.03967488400903231), (319, 0.017407519310826923), (320, 0.026613943072610353), (321, 0.02227706936490373), (322, 0.0641112911499056), (323, 0.10390194164549076), (324, 0.05825536823384297), (325, 0.17222851782339715), (326, 0.11356698316178716), (327, 0.07366738727239061), (328, 0.017444285941737973), (329, 0.035417603216441024), (330, 0.0745132495651012), (331, 0.08095533074047419), (332, 0.07572196691634317), (333, 0.08188054207760816), (334, 0.05087101685912476), (335, 0.05884738963163318), (336, 0.0589484040943609), (337, 0.08141070701846631), (338, 0.06425566850317645), (339, 0.03231515832863374), (340, 0.03662280296335705), (341, 0.014892110508346823), (342, 0.05845008895544274), (343, 0.03577320413197504), (344, 0.09474105195449184), (345, 0.07572196691634317), (346, 0.07480629995963005), (347, 0.033999635807975714), (348, 0.08566798781105757), (349, 0.0876440603142325), (350, 0.03771604518817018), (351, 0.06594438127189249), (352, 0.04262310323269052), (353, 0.06766708700305714), (354, 0.08695563100980766), (355, 0.06941010647979934), (356, 0.11644073099683185), (357, 0.0850638810215548), (358, 0.02835411256160575)]\n"
     ]
    }
   ],
   "source": [
    "print(corpus_tfidf[1])"
   ]
  },
  {
   "cell_type": "code",
   "execution_count": 37,
   "metadata": {},
   "outputs": [],
   "source": [
    "lda_model = models.LdaModel(corpus=corpus, num_topics=10, id2word=dictionary)\n",
    "lsi_model = models.LsiModel(corpus=corpus, num_topics=10, id2word=dictionary)"
   ]
  },
  {
   "cell_type": "code",
   "execution_count": 38,
   "metadata": {},
   "outputs": [
    {
     "name": "stdout",
     "output_type": "stream",
     "text": [
      "LDA Model:\n",
      "Topic #0: 0.007*\"plus\" + 0.007*\"start\" + 0.004*\"entreprises\" + 0.004*\"cette\" + 0.004*\"comme\" + 0.004*\"euros\" + 0.003*\"deux\" + 0.003*\"aussi\" + 0.003*\"recherche\" + 0.003*\"millions\"\n",
      "Topic #1: 0.007*\"plus\" + 0.006*\"entreprises\" + 0.005*\"start\" + 0.005*\"projet\" + 0.004*\"aussi\" + 0.004*\"projets\" + 0.004*\"cette\" + 0.004*\"région\" + 0.003*\"numérique\" + 0.003*\"paris\"\n",
      "Topic #2: 0.010*\"plus\" + 0.005*\"start\" + 0.005*\"france\" + 0.005*\"entreprises\" + 0.005*\"comme\" + 0.005*\"aussi\" + 0.004*\"être\" + 0.004*\"cette\" + 0.004*\"faire\" + 0.004*\"tout\"\n",
      "Topic #3: 0.007*\"plus\" + 0.005*\"entreprise\" + 0.004*\"deux\" + 0.004*\"cette\" + 0.004*\"tout\" + 0.004*\"comme\" + 0.004*\"start\" + 0.004*\"ans\" + 0.004*\"aussi\" + 0.004*\"entreprises\"\n",
      "Topic #4: 0.008*\"bordeaux\" + 0.005*\"plus\" + 0.005*\"start\" + 0.004*\"aquitaine\" + 0.004*\"nouvelle\" + 0.004*\"cette\" + 0.004*\"innovation\" + 0.004*\"projet\" + 0.004*\"projets\" + 0.004*\"entrepreneur\"\n",
      "Topic #5: 0.004*\"plus\" + 0.003*\"cette\" + 0.003*\"france\" + 0.003*\"comme\" + 0.003*\"start\" + 0.003*\"être\" + 0.002*\"ans\" + 0.002*\"aussi\" + 0.002*\"tout\" + 0.002*\"fait\"\n",
      "Topic #6: 0.006*\"plus\" + 0.005*\"https\" + 0.004*\"com\" + 0.004*\"entreprises\" + 0.004*\"aussi\" + 0.004*\"cette\" + 0.004*\"proofpoint\" + 0.004*\"9chkp3bakplifptles8oeribuqorq1cnygcyl5qe3rm\" + 0.003*\"sfymryylsugfxnyao2svzg\" + 0.003*\"urldefense\"\n",
      "Topic #7: 0.008*\"entreprises\" + 0.005*\"pépinière\" + 0.005*\"plus\" + 0.004*\"cette\" + 0.004*\"contact\" + 0.004*\"saint\" + 0.003*\"rue\" + 0.003*\"projet\" + 0.003*\"entreprise\" + 0.003*\"paris\"\n",
      "Topic #8: 0.010*\"plus\" + 0.004*\"entreprise\" + 0.004*\"entreprises\" + 0.003*\"cette\" + 0.003*\"millions\" + 0.003*\"euros\" + 0.003*\"france\" + 0.003*\"innovation\" + 0.003*\"comme\" + 0.003*\"bordeaux\"\n",
      "Topic #9: 0.013*\"the\" + 0.007*\"plus\" + 0.006*\"and\" + 0.006*\"luxembourg\" + 0.004*\"entreprises\" + 0.003*\"cette\" + 0.003*\"fonds\" + 0.002*\"start\" + 0.002*\"for\" + 0.002*\"entre\"\n",
      "====================\n",
      "LSI Model:\n",
      "Topic #0: 0.328*\"plus\" + 0.278*\"the\" + 0.170*\"cette\" + 0.146*\"and\" + 0.136*\"entreprises\" + 0.121*\"être\" + 0.119*\"comme\" + 0.115*\"bordeaux\" + 0.115*\"luxembourg\" + 0.111*\"france\"\n",
      "Topic #1: -0.570*\"the\" + -0.271*\"and\" + 0.211*\"bordeaux\" + -0.206*\"luxembourg\" + 0.155*\"entrepreneur\" + 0.144*\"dotation\" + 0.140*\"date\" + 0.134*\"dossier\" + 0.134*\"profil\" + 0.132*\"limite\"\n",
      "Topic #2: -0.303*\"bordeaux\" + 0.268*\"entrepreneur\" + 0.264*\"dotation\" + 0.259*\"date\" + 0.251*\"profil\" + 0.244*\"limite\" + 0.240*\"dossier\" + 0.239*\"dépôt\" + 0.237*\"inscrire\" + 0.184*\"the\"\n",
      "Topic #3: -0.387*\"bordeaux\" + -0.320*\"the\" + -0.192*\"aquitaine\" + 0.179*\"plus\" + -0.155*\"2017\" + -0.146*\"and\" + 0.143*\"comme\" + 0.129*\"france\" + -0.118*\"nouvelle\" + 0.117*\"aussi\"\n",
      "Topic #4: 0.371*\"https\" + 0.364*\"com\" + 0.249*\"url\" + 0.248*\"sfymryylsugfxnyao2svzg\" + 0.248*\"urldefense\" + 0.248*\"9chkp3bakplifptles8oeribuqorq1cnygcyl5qe3rm\" + 0.248*\"dwmgaq\" + 0.248*\"proofpoint\" + 0.186*\"252f\" + 0.140*\"http\"\n",
      "Topic #5: -0.454*\"euros\" + -0.397*\"millions\" + -0.182*\"résultat\" + -0.176*\"immobilier\" + -0.166*\"affaires\" + -0.160*\"chiffre\" + -0.160*\"opérationnel\" + -0.138*\"ifrs\" + -0.129*\"nexity\" + -0.126*\"services\"\n",
      "Topic #6: -0.438*\"campus\" + -0.249*\"opération\" + -0.233*\"universités\" + -0.231*\"état\" + -0.228*\"opérations\" + -0.148*\"université\" + 0.135*\"euros\" + -0.134*\"établissements\" + -0.133*\"plan\" + -0.125*\"projets\"\n",
      "Topic #7: 0.364*\"start\" + 0.312*\"recherche\" + 0.292*\"associé\" + -0.245*\"france\" + 0.237*\"contactez\" + -0.171*\"radio\" + 0.148*\"com\" + 0.127*\"business\" + 0.113*\"développement\" + 0.102*\"cto\"\n",
      "Topic #8: 0.462*\"france\" + 0.344*\"radio\" + -0.210*\"ans\" + 0.187*\"recherche\" + 0.166*\"public\" + 0.163*\"associé\" + 0.142*\"contactez\" + 0.107*\"publics\" + 0.105*\"médias\" + -0.102*\"suisse\"\n",
      "Topic #9: 0.427*\"the\" + -0.196*\"luxembourg\" + -0.181*\"plus\" + 0.147*\"paris\" + 0.144*\"ans\" + 0.136*\"france\" + 0.136*\"euros\" + -0.131*\"and\" + -0.123*\"services\" + -0.123*\"marché\"\n",
      "====================\n"
     ]
    }
   ],
   "source": [
    "print(\"LDA Model:\")\n",
    " \n",
    "for idx in range(10):\n",
    "    # Print the first 10 most representative topics\n",
    "    print(\"Topic #%s:\" % idx, lda_model.print_topic(idx, 10))\n",
    " \n",
    "print(\"=\" * 20)\n",
    " \n",
    "print(\"LSI Model:\")\n",
    " \n",
    "for idx in range(10):\n",
    "    # Print the first 10 most representative topics\n",
    "    print(\"Topic #%s:\" % idx, lsi_model.print_topic(idx, 10))\n",
    " \n",
    "print(\"=\" * 20)\n",
    " "
   ]
  },
  {
   "cell_type": "code",
   "execution_count": null,
   "metadata": {
    "collapsed": true
   },
   "outputs": [],
   "source": []
  }
 ],
 "metadata": {
  "kernelspec": {
   "display_name": "Python 3",
   "language": "python",
   "name": "python3"
  },
  "language_info": {
   "codemirror_mode": {
    "name": "ipython",
    "version": 3
   },
   "file_extension": ".py",
   "mimetype": "text/x-python",
   "name": "python",
   "nbconvert_exporter": "python",
   "pygments_lexer": "ipython3",
   "version": "3.6.1"
  }
 },
 "nbformat": 4,
 "nbformat_minor": 2
}
